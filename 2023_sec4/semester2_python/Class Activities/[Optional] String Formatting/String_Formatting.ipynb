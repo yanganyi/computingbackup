{
 "cells": [
  {
   "cell_type": "markdown",
   "metadata": {},
   "source": [
    "# String Formatting\n",
    "\n",
    "## Understanding Goals\n",
    "\n",
    "At the end of this chapter, you should be able to:\n",
    "- Understand the difference between old and new string formatting styles\n",
    "- Apply `format()` function to format substrings, numbers, attributes of classes\n",
    "- Format strings with paddings and alignments\n",
    "- Format numbers with a particular precision\n",
    "- Format datetime object with different date formats\n",
    "- Apply nested formatting to dynamically adjust string formats"
   ]
  },
  {
   "cell_type": "markdown",
   "metadata": {},
   "source": [
    "# Section 1 - Different Ways to Perform String Formatting\n",
    "\n",
    "Formatting strings is important as this directly improves the user experience by providing meaningful and neatly arranged outputs. In this section, we are going to discuss and compare a few different ways to format strings.\n",
    "\n",
    "## _1.1 String Concatenation_\n",
    "\n",
    "The simplest and easiest way to format a string is by using the `+` operator and concatenate strings together.\n",
    "\n",
    "### ~ Example ~\n",
    "Given `class_1 = \"4A3\"` and `class_2 = \"4I12\"`, use `+` operator, output the string `\"We are from 4A3 and 4I12.\"`"
   ]
  },
  {
   "cell_type": "code",
   "execution_count": null,
   "metadata": {},
   "outputs": [],
   "source": [
    "class_1 = \"4A3\"\n",
    "class_2 = \"4I12\"\n",
    "\n",
    "# your code here\n"
   ]
  },
  {
   "cell_type": "markdown",
   "metadata": {},
   "source": [
    "## _1.2 Positional String Formatting with `%` operator - Old Style_\n",
    "\n",
    "In Python 2, strings can be formatted using `%` operator at specific positions inside a string. The `%` operator act like placeholders for positional formatting.\n",
    "\n",
    "### ~ Example ~"
   ]
  },
  {
   "cell_type": "code",
   "execution_count": null,
   "metadata": {},
   "outputs": [],
   "source": [
    "print(\"Old formatting style: (%s, %s)\" % (\"one\", \"two\"))\n",
    "print(\"Old formatting style: (%d, %d)\" % (1, 2))"
   ]
  },
  {
   "cell_type": "markdown",
   "metadata": {},
   "source": [
    "### - Exercise -\n",
    "\n",
    "Given `class_1 = \"4A3\"` and `class_2 = \"4I12\"`, using variables `class_1` and `class_2` and positional formatting operator `%`, output the string `\"We are from 4A3 and 4I12.\"`"
   ]
  },
  {
   "cell_type": "code",
   "execution_count": null,
   "metadata": {},
   "outputs": [],
   "source": [
    "class_1 = \"4A3\"\n",
    "class_2 = \"4I12\"\n",
    "\n",
    "# your code here\n"
   ]
  },
  {
   "cell_type": "markdown",
   "metadata": {},
   "source": [
    "## _1.3 Positional Formatting with `str.format()` Function - New Style_\n",
    "\n",
    "Python 3 introduced a new way to do string formatting that was also later back-ported to Python 2.7. Python's `str.format()` method of the `string` class allows us to do variable substitutions and value formatting. The curly brackets `{}` act like placeholders for positional formatting.\n",
    "\n",
    "Even though `str.format()` with `{}` provides similar functionalities as compared to `%` operator, this function is way more powerful and greatly improves the flexibility of string formatting codes.\n",
    "\n",
    "### ~ Example ~"
   ]
  },
  {
   "cell_type": "code",
   "execution_count": null,
   "metadata": {},
   "outputs": [],
   "source": [
    "print(\"New formatting style: ({}, {})\".format(\"one\", \"two\"))\n",
    "print(\"New formatting style: ({}, {})\".format(1, 2))"
   ]
  },
  {
   "cell_type": "markdown",
   "metadata": {},
   "source": [
    "### - Exercise -\n",
    "\n",
    "Given `class_1 = \"4A3\"` and `class_2 = \"4I12\"`, using variables `class_1` and `class_2` and `str.format()` function, output the string `\"We are from 4A3 and 4I12.\"`"
   ]
  },
  {
   "cell_type": "code",
   "execution_count": null,
   "metadata": {},
   "outputs": [],
   "source": [
    "class_1 = \"4A3\"\n",
    "class_2 = \"4I12\"\n",
    "\n",
    "# your code here\n"
   ]
  },
  {
   "cell_type": "markdown",
   "metadata": {},
   "source": [
    "# Section 2 - Explore `str.format()` function\n",
    "\n",
    "## _2.1 Format with explicit positional index_\n",
    "\n",
    "With new style formatting it is possible (and in Python 2.6 even mandatory) to give placeholders an explicit positional index.\n",
    "This allows for re-arranging the order of display without changing the arguments.\n",
    "\n",
    "### ~ Example ~"
   ]
  },
  {
   "cell_type": "code",
   "execution_count": null,
   "metadata": {},
   "outputs": [],
   "source": [
    "# old formatting style\n",
    "print(\"%s %s %s %s %s!\" % (\"HC\", \"HC\", \"Fight\", \"Fight\", \"Fight\"))\n",
    "\n",
    "# new formatting style\n",
    "print(\"{1} {1} {0} {0} {0}!\".format(\"Fight\", \"HC\"))"
   ]
  },
  {
   "cell_type": "markdown",
   "metadata": {},
   "source": [
    "## _2.2 Format with Temporary Variables_\n",
    "\n",
    "We can create temporary variables to rearrange the sequence of substrings.\n",
    "\n",
    "### ~ Example ~"
   ]
  },
  {
   "cell_type": "code",
   "execution_count": null,
   "metadata": {},
   "outputs": [],
   "source": [
    "print(\"{school} {school} {action} {action} {action}!\".format(school=\"HC\", action=\"Fight\"))\n",
    "print(\"{lst[0]} {lst[0]} {lst[1]} {lst[1]} {lst[1]}!\".format(lst=[\"HC\", \"Fight\"]))"
   ]
  },
  {
   "cell_type": "markdown",
   "metadata": {},
   "source": [
    "## _2.3 Format with Class Attributes_\n",
    "\n",
    "We can create temporary class objects and directly access their attributes using the `.` operator.\n",
    "\n",
    "### ~ Example ~"
   ]
  },
  {
   "cell_type": "code",
   "execution_count": null,
   "metadata": {},
   "outputs": [],
   "source": [
    "class Student():\n",
    "    def __init__(self, name, age):\n",
    "        self._name = name\n",
    "        self._age = age\n",
    "        \n",
    "    def get_name(self):\n",
    "        return self._name\n",
    "    \n",
    "    def get_age(self):\n",
    "        return self._age\n",
    "\n",
    "    def __str__(self):\n",
    "        return \"Student Information:\\nName: {self._name}, Age:{self._age}\".format(self=self)\n",
    "\n",
    "s1 = Student(\"Xiao Ming\", 15)\n",
    "print(s1)"
   ]
  },
  {
   "cell_type": "markdown",
   "metadata": {},
   "source": [
    "## _2.4 Padding and Alignment_\n",
    "\n",
    "Strings can be padded to a specific length and aligned to left, right or middle.\n",
    "\n",
    "### ~ Example ~"
   ]
  },
  {
   "cell_type": "code",
   "execution_count": null,
   "metadata": {},
   "outputs": [],
   "source": [
    "# the left and right || is used to indicate the boarders\n",
    "print(\"||{:<10}||\".format(\"haha\"))\n",
    "print(\"||{:>10}||\".format(\"haha\"))\n",
    "print(\"||{:^10}||\".format(\"haha\"))\n",
    "print(\"||{:_^10}||\".format(\"haha\"))"
   ]
  },
  {
   "cell_type": "markdown",
   "metadata": {},
   "source": [
    "To help us better remember the format, here is a quick break down of the optional fields:\n",
    "\n",
    "**{ \\[index/variable\\] : \\[padding character\\] \\[alignment indicator\\] \\[total number of characters\\] }**"
   ]
  },
  {
   "cell_type": "code",
   "execution_count": null,
   "metadata": {
    "scrolled": false
   },
   "outputs": [],
   "source": [
    "print(\"||{0:.<10}||{hehe:_^10}||\".format(\"haha\", hehe=\"hehe\"))"
   ]
  },
  {
   "cell_type": "markdown",
   "metadata": {},
   "source": [
    "## _2.5 Format Numbers_\n",
    "\n",
    "Numbers can be formatted using the `d` and `f` indicator for integers and floats respectively.\n",
    "\n",
    "To help us better remember the format, here is a quick break down of the optional fields:\n",
    "\n",
    "**{ \\[index/variable\\] : \\[leading zero indicator\\] \\[total number of characters\\] \\[.precision indicator\\] d/f  }**\n",
    "\n",
    "### ~ Example ~"
   ]
  },
  {
   "cell_type": "code",
   "execution_count": null,
   "metadata": {},
   "outputs": [],
   "source": [
    "print(\"{:d}\".format(15))\n",
    "print(\"{:f}\".format(2.718281828459045))\n",
    "print(\"{:4d}\".format(15))\n",
    "print(\"{:04d}\".format(15))\n",
    "print(\"{:6.3f}\".format(2.718281828459045))\n",
    "print(\"{:06.3f}\".format(2.718281828459045))"
   ]
  },
  {
   "cell_type": "markdown",
   "metadata": {},
   "source": [
    "We can also use comma separator and percentage sign to represent numeric values.\n",
    "\n",
    "### ~ Example ~"
   ]
  },
  {
   "cell_type": "code",
   "execution_count": null,
   "metadata": {},
   "outputs": [],
   "source": [
    "print(\"{:,d}\".format(10000000000))\n",
    "print(\"{:.2%}\".format(44/67))\n",
    "\n",
    "# this can be combined with [leading zero indicator] and [total number of characters]\n",
    "print(\"{:020,d}\".format(10000000000))\n",
    "print(\"{:020.5%}\".format(44/67))"
   ]
  },
  {
   "cell_type": "markdown",
   "metadata": {},
   "source": [
    "## _2.6 Format `datetime` Objects_\n",
    "\n",
    "`datetime` is a built-in library to represent date and time values.\n",
    "\n",
    "### ~ Example ~"
   ]
  },
  {
   "cell_type": "code",
   "execution_count": null,
   "metadata": {},
   "outputs": [],
   "source": [
    "import datetime\n",
    "\n",
    "d1 = datetime.date(2017, 1, 8)\n",
    "print(\"{:%d-%m-%y}\".format(d1))\n",
    "print(\"{:%#d %b (%a), %Y}\".format(d1))\n",
    "print(\"{:%d %B (%A), %Y}\".format(d1))"
   ]
  },
  {
   "cell_type": "code",
   "execution_count": null,
   "metadata": {},
   "outputs": [],
   "source": [
    "d2 = datetime.time(14, 15, 16)\n",
    "print(\"{:%H:%M:%S}\".format(d2))\n",
    "print(\"{:%I:%M %p}\".format(d2))"
   ]
  },
  {
   "cell_type": "markdown",
   "metadata": {},
   "source": [
    "# Section 3 - Nested Formatting\n",
    "\n",
    "Additionally, new style formatting allows all of the components of the format to be specified dynamically using parametrization. Parametrized formats are nested expressions in braces that can appear anywhere in the parent format after the colon.\n",
    "\n",
    "The nested formats can be positional arguments. Position depends on the order of the opening curly braces."
   ]
  },
  {
   "cell_type": "code",
   "execution_count": null,
   "metadata": {},
   "outputs": [],
   "source": [
    "content = \"haha\"\n",
    "filler_value = \".\"\n",
    "alignment = \">\"\n",
    "total_length = 10\n",
    "\n",
    "print(\"||{:{}{}{}}||\".format(content, filler_value, alignment, total_length))"
   ]
  },
  {
   "cell_type": "code",
   "execution_count": null,
   "metadata": {},
   "outputs": [],
   "source": [
    "number = 3.1415926535\n",
    "leading_zero = True\n",
    "total_length = 10\n",
    "precision = 3\n",
    "\n",
    "print(\"{:{}{}.{}f}\".format(number, \"0\" if leading_zero else \"\", total_length, precision))"
   ]
  },
  {
   "cell_type": "markdown",
   "metadata": {},
   "source": [
    "### - Exercise -\n",
    "\n",
    "Given:\n",
    "\n",
    "```\n",
    "a = 65.34\n",
    "b = 987.654\n",
    "c = a + b\n",
    "```\n",
    "\n",
    "Output the addition in the following format:\n",
    "\n",
    "\n",
    "<div style = \"font-family:'Courier New'\"><br>\n",
    "&nbsp;&nbsp;&nbsp;65.340<br>\n",
    "+&nbsp;987.654<br>\n",
    "---------<br>\n",
    "&nbsp;1052.994<br>\n",
    "</div>"
   ]
  },
  {
   "cell_type": "code",
   "execution_count": null,
   "metadata": {},
   "outputs": [],
   "source": [
    "a = 65.34\n",
    "b = 987.654\n",
    "c = a + b\n",
    "\n",
    "# your code here\n"
   ]
  },
  {
   "cell_type": "markdown",
   "metadata": {},
   "source": [
    "### - Exercise -\n",
    "\n",
    "Take in 2 user input as float a and b, where a and b can have varied length. Using nested formatting, make sure that the addition operation will always follow the suggested output format:\n",
    "\n",
    "1. Decimal point `.` should be aligned for all 3 values.\n",
    "2. Precision to be determined by the number with a larger precision value.\n",
    "\n",
    "If user input:\n",
    "\n",
    "``` python\n",
    "value_1 = 1.1\n",
    "value_2 = 99.999\n",
    "```\n",
    "\n",
    "Then output should look like:\n",
    "\n",
    "<div style = \"font-family:'Courier New'\"><br>\n",
    "&nbsp;&nbsp;&nbsp;1.100<br>\n",
    "+&nbsp;99.999<br>\n",
    "---------<br>\n",
    "&nbsp;101.099<br>\n",
    "</div>\n",
    "\n",
    "If user input:\n",
    "\n",
    "``` python\n",
    "value_1 = 1234567.89\n",
    "value_2 = 89.7654321\n",
    "```\n",
    "\n",
    "Then output should look like:\n",
    "\n",
    "<div style = \"font-family:'Courier New'\"><br>\n",
    "&nbsp;1234567.8900000<br>\n",
    "+&nbsp;&nbsp;&nbsp;&nbsp;&nbsp;89.7654321<br>\n",
    "----------------<br>\n",
    "&nbsp;1234657.6554321<br>\n",
    "</div>"
   ]
  },
  {
   "cell_type": "code",
   "execution_count": null,
   "metadata": {},
   "outputs": [],
   "source": [
    "# your code here\n"
   ]
  },
  {
   "cell_type": "markdown",
   "metadata": {},
   "source": [
    "# Reference\n",
    "\n",
    "1. [PyFormat Using % and .format() for great good!](https://pyformat.info/)\n",
    "2. [Python String Formatting Best Practices](https://realpython.com/python-string-formatting/)\n",
    "3. [Python 3.7 Documentation](https://docs.python.org/3/library/string.html#string-formatting)\n",
    "4. [How To Use String Formatters in Python 3](https://www.digitalocean.com/community/tutorials/how-to-use-string-formatters-in-python-3)\n"
   ]
  }
 ],
 "metadata": {
  "kernelspec": {
   "display_name": "Python 3",
   "language": "python",
   "name": "python3"
  },
  "language_info": {
   "codemirror_mode": {
    "name": "ipython",
    "version": 3
   },
   "file_extension": ".py",
   "mimetype": "text/x-python",
   "name": "python",
   "nbconvert_exporter": "python",
   "pygments_lexer": "ipython3",
   "version": "3.9.6"
  }
 },
 "nbformat": 4,
 "nbformat_minor": 1
}
