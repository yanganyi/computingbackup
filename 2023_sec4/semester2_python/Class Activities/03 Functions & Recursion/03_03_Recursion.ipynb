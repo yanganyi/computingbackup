{
 "cells": [
  {
   "attachments": {},
   "cell_type": "markdown",
   "metadata": {},
   "source": [
    "# 03_03 - Recursion\n",
    "\n",
    "## Understanding Goals\n",
    "\n",
    "At the end of this chapter, you should be able to:\n",
    "- Understand the concept of recursion\n",
    "- Design recursive algorithms to solve problems\n",
    "- Trace the steps and values in a recursive algorithm"
   ]
  },
  {
   "attachments": {},
   "cell_type": "markdown",
   "metadata": {},
   "source": [
    "# Section 1 - Introduction to Recursion\n",
    "\n",
    "## _1.1 Introduction_\n",
    "\n",
    "### ~ Example ~\n",
    "\n",
    "Sum of Consecutive Integers: Calculate the sum of all integers from 1 to n.\n",
    "\n",
    "<table class=\"table table-bordered\">\n",
    "    <!-- Header Row -->\n",
    "    <tr>\n",
    "        <th style=\"width:20%; text-align:left\">Number</th>\n",
    "        <th style=\"width:80%; text-align:left\">Sum</th>\n",
    "    </tr>\n",
    "    <tr>\n",
    "        <td style=\"text-align:left\">1 to 1</td>\n",
    "        <td style=\"text-align:left\">1</td>\n",
    "    </tr>\n",
    "    <tr>\n",
    "        <td style=\"text-align:left\">1 to 2</td>\n",
    "        <td style=\"text-align:left\">2 + 1</td>\n",
    "    </tr>\n",
    "    <tr>\n",
    "        <td style=\"text-align:left\">1 to 3</td>\n",
    "        <td style=\"text-align:left\">3 + 2 + 1</td>\n",
    "    </tr>\n",
    "    <tr>\n",
    "        <td style=\"text-align:left\">1 to 4</td>\n",
    "        <td style=\"text-align:left\">4 + 3 + 2 + 1</td>\n",
    "    </tr>\n",
    "    <tr>\n",
    "        <td style=\"text-align:left\">1 to 5</td>\n",
    "        <td style=\"text-align:left\">5 + 4 + 3 + 2 + 1</td>\n",
    "    </tr>\n",
    "</table>\n",
    "\n",
    "We can observe the following pattern:\n",
    "\n",
    "<table class=\"table table-bordered\">\n",
    "    <!-- Header Row -->\n",
    "    <tr>\n",
    "        <th style=\"width:20%; text-align:left\">Number</th>\n",
    "        <th style=\"width:80%; text-align:left\">Sum</th>\n",
    "    </tr>\n",
    "    <tr>\n",
    "        <td style=\"text-align:left\">1 to 1</td>\n",
    "        <td style=\"text-align:left\">1</td>\n",
    "    </tr>\n",
    "    <tr>\n",
    "        <td style=\"text-align:left\">1 to 2</td>\n",
    "        <td style=\"text-align:left\">2 + <font color='red'>(1)</font></td>\n",
    "    </tr>\n",
    "    <tr>\n",
    "        <td style=\"text-align:left\">1 to 3</td>\n",
    "        <td style=\"text-align:left\">3 + <font color='red'>(2 + 1)</font></td>\n",
    "    </tr>\n",
    "    <tr>\n",
    "        <td style=\"text-align:left\">1 to 4</td>\n",
    "        <td style=\"text-align:left\">4 + <font color='red'>(3 + 2 + 1)</font></td>\n",
    "    </tr>\n",
    "    <tr>\n",
    "        <td style=\"text-align:left\">1 to 5</td>\n",
    "        <td style=\"text-align:left\">5 + <font color='red'>(4 + 3 + 2 + 1)</font></td>\n",
    "    </tr>\n",
    "</table>\n",
    "\n",
    "Hence, we can use the following program to solve it:"
   ]
  },
  {
   "cell_type": "code",
   "execution_count": null,
   "metadata": {},
   "outputs": [],
   "source": [
    "def summation_from_1 (n):\n",
    "    if n == 1:\n",
    "        return 1\n",
    "    else:\n",
    "        return n + summation_from_1 (n - 1)\n",
    "\n",
    "summation_from_1(5)"
   ]
  },
  {
   "attachments": {
    "image.png": {
     "image/png": "[encoded data removed]"
    }
   },
   "cell_type": "markdown",
   "metadata": {},
   "source": [
    "This algorithm design is called recursion. Generally, a recursive algorithm consist of the following parts:\n",
    "- Base Case\n",
    "- General Procedure\n",
    "- Resursive Call\n",
    "\n",
    "![image.png](attachment:image.png)"
   ]
  },
  {
   "attachments": {},
   "cell_type": "markdown",
   "metadata": {},
   "source": [
    "### Wishful Thinking\n",
    "\n",
    "Wishful thinking is an important Computational Thinking concept. It is a technique used in recursion to solve a problem by assuming that the recursive call will work.\n",
    "\n",
    "For the example above, we assume that the recursive call `sum(n-1)` will work. It will take an input of `n-1` and return the sum of all integers from 1 to `n-1`. With this assumption, we can easily solve the problem by adding `n` to the result of the recursive call."
   ]
  },
  {
   "attachments": {},
   "cell_type": "markdown",
   "metadata": {},
   "source": [
    "## _1.2 Practice_\n",
    "\n",
    "### - Exercise -\n",
    "\n",
    "For factorial calculation, we observe a similar pattern:\n",
    "\n",
    "<table class=\"table table-bordered\">\n",
    "    <!-- Header Row -->\n",
    "    <tr>\n",
    "        <th style=\"width:20%; text-align:left\">Number</th>\n",
    "        <th style=\"width:80%; text-align:left\">Factorial</th>\n",
    "    </tr>\n",
    "    <tr>\n",
    "        <td style=\"text-align:left\">0!</td>\n",
    "        <td style=\"text-align:left\">1</td>\n",
    "    </tr>\n",
    "    <tr>\n",
    "        <td style=\"text-align:left\">1!</td>\n",
    "        <td style=\"text-align:left\">1 * <font color='red'>0!</font></td>\n",
    "    </tr>\n",
    "    <tr>\n",
    "        <td style=\"text-align:left\">2!</td>\n",
    "        <td style=\"text-align:left\">2 * <font color='red'>1!</font></td>\n",
    "    </tr>\n",
    "    <tr>\n",
    "        <td style=\"text-align:left\">3!</td>\n",
    "        <td style=\"text-align:left\">3 * <font color='red'>2!</font></td>\n",
    "    </tr>\n",
    "    <tr>\n",
    "        <td style=\"text-align:left\">4!</td>\n",
    "        <td style=\"text-align:left\">4 * <font color='red'>3!</font></td>\n",
    "    </tr>\n",
    "</table>\n",
    "\n",
    "Write a recursive function `factorial(n)` to calculate the factorial of n."
   ]
  },
  {
   "cell_type": "code",
   "execution_count": null,
   "metadata": {},
   "outputs": [],
   "source": [
    "def factorial(n):\n",
    "    pass\n",
    "\n",
    "print(factorial(0))\n",
    "print(factorial(1))\n",
    "print(factorial(4))"
   ]
  }
 ],
 "metadata": {
  "kernelspec": {
   "display_name": "Python 3 (ipykernel)",
   "language": "python",
   "name": "python3"
  },
  "language_info": {
   "codemirror_mode": {
    "name": "ipython",
    "version": 3
   },
   "file_extension": ".py",
   "mimetype": "text/x-python",
   "name": "python",
   "nbconvert_exporter": "python",
   "pygments_lexer": "ipython3",
   "version": "3.9.7"
  }
 },
 "nbformat": 4,
 "nbformat_minor": 2
}
