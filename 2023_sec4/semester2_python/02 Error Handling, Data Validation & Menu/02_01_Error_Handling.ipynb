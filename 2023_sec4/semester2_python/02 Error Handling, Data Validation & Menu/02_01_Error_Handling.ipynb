{
 "cells": [
  {
   "attachments": {},
   "cell_type": "markdown",
   "metadata": {},
   "source": [
    "# 02_01 - Error Handling and Testing\n",
    "\n",
    "## Understanding Goals\n",
    "At the end of this chapter, you should be able to:\n",
    "- Identify and correct common types of errors\n",
    "- Apply error handling techniques"
   ]
  },
  {
   "attachments": {},
   "cell_type": "markdown",
   "metadata": {},
   "source": [
    "# Section 1: Types of Errors\n",
    "\n",
    "Every programmer ought to write robust applications, such that the code will continue to operate under adverse conditions. It is the duty of programmers to ensure that their program would continue to operate without crash under “abnormal conditions”, such as inappropriate input by the user.\n",
    "\n",
    "Errors, or “bugs”, are the necessary evil of programming. Every programmer will face errors in their program code and it is important to learn how to best identify and eliminate “bugs” inside the program efficiently.\n",
    "\n",
    "In this chapter, we will explore various topics related to testing and debugging, such as identifying different types of errors, exploring various testing strategies and debugging tools.\n",
    "\n",
    "There are four main types of error, namely syntax error, logic error, semantic error and arithmetic error."
   ]
  },
  {
   "attachments": {},
   "cell_type": "markdown",
   "metadata": {},
   "source": [
    "## _1.1 Syntax Error_\n",
    "\n",
    "Syntax error is a structural error of a program such that the code violates grammar/rules of the programming language. It is generally easy to debug since diagnostic message will be given by the translator and program will not be executable until the error is fixed.\n",
    "\n",
    "### ~ Example ~"
   ]
  },
  {
   "cell_type": "code",
   "execution_count": null,
   "metadata": {},
   "outputs": [],
   "source": [
    "if A >>> B:\n",
    "    return(\"A is greater than B\")\n"
   ]
  },
  {
   "attachments": {},
   "cell_type": "markdown",
   "metadata": {},
   "source": [
    "## _1.2 Logic Errors_\n",
    "\n",
    "Logic error is one which allows a program to run successfully, but produces an unintended or undesired result. It is difficult to debug as no error message will be given by the compiler. It requires manual tracing of code to spot the error.\n",
    "\n",
    "### ~ Example ~"
   ]
  },
  {
   "cell_type": "code",
   "execution_count": null,
   "metadata": {},
   "outputs": [],
   "source": [
    "from math import pi\n",
    "\n",
    "def area_of_circle(radius):\n",
    "    area = pi * (radius ** 3)  # This is a wrong formula to find area of circle\n",
    "    return area\n",
    "\n",
    "print(area_of_circle(4))"
   ]
  },
  {
   "attachments": {},
   "cell_type": "markdown",
   "metadata": {},
   "source": [
    "### - Exercise -\n",
    "\n",
    "Identify an error for the following program and correct it."
   ]
  },
  {
   "cell_type": "code",
   "execution_count": 1,
   "metadata": {},
   "outputs": [
    {
     "name": "stdout",
     "output_type": "stream",
     "text": [
      "4\n",
      "5\n"
     ]
    }
   ],
   "source": [
    "def get_str_length(word):\n",
    "    count = 0\n",
    "    for i in range (1, len(word)):\n",
    "        count += 1\n",
    "    return count\n",
    "\n",
    "print(get_str_length(\"Hello\"))\n",
    "\n",
    "# corrected program\n",
    "\n",
    "def get_str_length(word):\n",
    "    count = 0\n",
    "    for i in range (len(word)):\n",
    "        count += 1\n",
    "    return count\n",
    "\n",
    "print(get_str_length(\"Hello\"))"
   ]
  },
  {
   "attachments": {},
   "cell_type": "markdown",
   "metadata": {},
   "source": [
    "## _1.3 Runtime Error_\n",
    "\n",
    "Runtime error refers to error which was not detected when the program was compiled, but is only revealed when a particular line is executed. The program may exit unexpectedly during execution if it encounters a runtime error.\n",
    "\n",
    "Here are some examples of Python runtime errors:\n",
    "\n",
    "- division by zero\n",
    "- performing an operation on incompatible types\n",
    "- using an identifier which has not been defined\n",
    "- accessing a list element, dictionary value or object attribute which doesn’t exist\n",
    "- trying to access a file which doesn’t exist\n",
    "\n",
    "### ~ Example ~"
   ]
  },
  {
   "cell_type": "code",
   "execution_count": null,
   "metadata": {},
   "outputs": [],
   "source": [
    "# division by zero error\n",
    "print(100 / 0)"
   ]
  },
  {
   "cell_type": "code",
   "execution_count": null,
   "metadata": {},
   "outputs": [],
   "source": [
    "# type error: unsupported operand type\n",
    "i = \"hello world\"\n",
    "i -= 2"
   ]
  },
  {
   "cell_type": "code",
   "execution_count": null,
   "metadata": {},
   "outputs": [],
   "source": [
    "# name error: name ‘a’ is undefined\n",
    "print(a + b)"
   ]
  },
  {
   "cell_type": "code",
   "execution_count": null,
   "metadata": {
    "scrolled": true
   },
   "outputs": [],
   "source": [
    "# accessing a list element which doesn't exist\n",
    "lst = [1, 2, 3]\n",
    "print(lst[3])"
   ]
  },
  {
   "cell_type": "code",
   "execution_count": null,
   "metadata": {},
   "outputs": [],
   "source": [
    "# accessing a file which doesn't exist\n",
    "f = open(\"7h15_15_f1l3_d035_n07_3xi5t.txt\")\n",
    "\n",
    "\n",
    "# You are not required to understand this yet\n",
    "# FYI, open() is a function that allows us to access files on our computer\n",
    "# refer to https://www.w3schools.com/python/ref_func_open.asp\n",
    "# for more information about open() function"
   ]
  },
  {
   "attachments": {},
   "cell_type": "markdown",
   "metadata": {},
   "source": [
    "# Section 2: Error Handling Techniques"
   ]
  },
  {
   "attachments": {},
   "cell_type": "markdown",
   "metadata": {},
   "source": [
    "## Try-Except Blocks\n",
    "\n",
    "`try` and `except` blocks are useful python built-in exception handling mechanics which could be used for debugging purposes.\n"
   ]
  },
  {
   "cell_type": "code",
   "execution_count": null,
   "metadata": {},
   "outputs": [],
   "source": [
    "import sys\n",
    "\n",
    "try:\n",
    "    f = open('myfile.txt')\n",
    "    s = f.readline()\n",
    "    i = int(s.strip())\n",
    "except OSError as err:\n",
    "    print(\"OS error:\", err)\n",
    "except ValueError:\n",
    "    print(\"Could not convert data to an integer.\")\n",
    "except:\n",
    "    print(\"Unexpected error:\", sys.exc_info()[0])\n",
    "    raise"
   ]
  },
  {
   "attachments": {},
   "cell_type": "markdown",
   "metadata": {},
   "source": [
    "Example of using `else` and `finally`:"
   ]
  },
  {
   "cell_type": "code",
   "execution_count": null,
   "metadata": {},
   "outputs": [],
   "source": [
    "file_name = \"myfile.tx\"\n",
    "try:\n",
    "    f = open(file_name, 'r')\n",
    "except IOError:\n",
    "    print('cannot open', file_name)\n",
    "else:\n",
    "    print(file_name, 'has', len(f.readlines()), 'lines')\n",
    "    f.close()\n",
    "finally:\n",
    "    print(\"End of execution\")"
   ]
  },
  {
   "attachments": {},
   "cell_type": "markdown",
   "metadata": {},
   "source": [
    "For more information, check the following references:\n",
    "\n",
    "[Python 3.7 - Errors and Exceptions](https://docs.python.org/3.7/tutorial/errors.html)  \n",
    "[Python 3.7 - Built-in Exceptions](https://docs.python.org/3.7/library/exceptions.html#bltin-exceptions)\n"
   ]
  }
 ],
 "metadata": {
  "kernelspec": {
   "display_name": "Python 3 (ipykernel)",
   "language": "python",
   "name": "python3"
  },
  "language_info": {
   "codemirror_mode": {
    "name": "ipython",
    "version": 3
   },
   "file_extension": ".py",
   "mimetype": "text/x-python",
   "name": "python",
   "nbconvert_exporter": "python",
   "pygments_lexer": "ipython3",
   "version": "3.10.7"
  }
 },
 "nbformat": 4,
 "nbformat_minor": 2
}
