{
 "cells": [
  {
   "attachments": {},
   "cell_type": "markdown",
   "metadata": {},
   "source": [
    "# 02_03 - User Menu and Data Validation\n",
    "\n",
    "## Understanding Goals\n",
    "At the end of this chapter, you should be able to:\n",
    "- Write generic data validation code for command line user menu"
   ]
  },
  {
   "attachments": {},
   "cell_type": "markdown",
   "metadata": {},
   "source": [
    "## _1.1 Data Validation_\n",
    "Here are a list of data validation techniques used to check for user input:\n",
    "- presence check\n",
    "- type check\n",
    "- length check\n",
    "- range check\n",
    "- format check\n",
    "- check digit"
   ]
  },
  {
   "cell_type": "code",
   "execution_count": null,
   "metadata": {},
   "outputs": [],
   "source": [
    "def validate(user_input):\n",
    "    # returns False if input is invalid, True otherwise\n",
    "    if len(user_input) == 0:  # Presence check\n",
    "        print(\"Presence check failed. Please do not enter an empty input.\")\n",
    "        return False\n",
    "    elif not user_input.isdigit():  # Type check\n",
    "        print(\"Type check failed. Please enter a digit.\")\n",
    "        return False\n",
    "    elif int(user_input) < 1 or int(user_input) > 4:  # Range check\n",
    "        print(\"Range check failed. Please key in a value in between 1 and 4.\")\n",
    "        return False\n",
    "    else:  # returns True if all checks have been passed\n",
    "        return True\n",
    "\n",
    "    \n",
    "user_input = input(\"Please select an option 1 to 4: \")\n",
    "print(validate(user_input))"
   ]
  },
  {
   "attachments": {},
   "cell_type": "markdown",
   "metadata": {},
   "source": [
    "## _1.2 Adding while loop_\n",
    "Once we implement the checks, we should add it into a loop, so that user will be given a chance to make changes to their choice if the input was invalid."
   ]
  },
  {
   "cell_type": "code",
   "execution_count": null,
   "metadata": {},
   "outputs": [],
   "source": [
    "def valid_user_input(msg):\n",
    "    done = False\n",
    "    while not done:  # while done == False\n",
    "        user_input = input(msg)\n",
    "        done = validate(user_input)\n",
    "    return user_input\n",
    "\n",
    "\n",
    "print(valid_user_input(\"Please select an option 1 to 4: \"))"
   ]
  },
  {
   "attachments": {},
   "cell_type": "markdown",
   "metadata": {},
   "source": [
    "## _1.3 Creating a user menu_\n",
    "\n",
    "Now it is time to combine these into proper user menu."
   ]
  },
  {
   "cell_type": "code",
   "execution_count": 1,
   "metadata": {},
   "outputs": [
    {
     "name": "stdout",
     "output_type": "stream",
     "text": [
      "\n",
      "1. Perform action 1\n",
      "2. Perform action 2\n",
      "3. Perform action 3\n",
      "4. Quit\n",
      "\n",
      "Performing action 1.\n",
      "\n",
      "1. Perform action 1\n",
      "2. Perform action 2\n",
      "3. Perform action 3\n",
      "4. Quit\n",
      "\n",
      "Performing action 2.\n",
      "\n",
      "1. Perform action 1\n",
      "2. Perform action 2\n",
      "3. Perform action 3\n",
      "4. Quit\n",
      "\n",
      "Performing action 3.\n",
      "\n",
      "1. Perform action 1\n",
      "2. Perform action 2\n",
      "3. Perform action 3\n",
      "4. Quit\n",
      "\n",
      "Quitting program. Thank you!\n"
     ]
    }
   ],
   "source": [
    "def validate(user_input):\n",
    "    # returns False if input is invalid, True otherwise\n",
    "    if len(user_input) == 0:  # Presence check\n",
    "        print(\"Presence check failed. Please do not enter an empty input.\")\n",
    "        return False\n",
    "    elif not user_input.isdigit():  # Type check\n",
    "        print(\"Type check failed. Please enter a digit.\")\n",
    "        return False\n",
    "    elif int(user_input) < 1 or int(user_input) > 4:  # Range check\n",
    "        print(\"Range check failed. Please key in a value in between 1 and 4.\")\n",
    "        return False\n",
    "    else:  # returns True if all checks have been passed\n",
    "        return True\n",
    "    \n",
    "    \n",
    "def valid_user_input(msg):\n",
    "    done = False\n",
    "    while not done:  # while done == False\n",
    "        user_input = input(msg)\n",
    "        done = validate(user_input)\n",
    "    return user_input\n",
    "\n",
    "\n",
    "def display_menu():\n",
    "    menu_opts = \"\"\"\n",
    "1. Perform action 1\n",
    "2. Perform action 2\n",
    "3. Perform action 3\n",
    "4. Quit\n",
    "\"\"\"\n",
    "    print(menu_opts)\n",
    "\n",
    "    \n",
    "def menu():\n",
    "    done = False\n",
    "    while not done:\n",
    "        display_menu()\n",
    "        user_input = int(valid_user_input(\"Please select an option 1 to 4: \"))\n",
    "        if user_input == 1:\n",
    "            print(\"Performing action 1.\")\n",
    "        elif user_input == 2:\n",
    "            print(\"Performing action 2.\")\n",
    "        elif user_input == 3:\n",
    "            print(\"Performing action 3.\")\n",
    "        elif user_input == 4:\n",
    "            print(\"Quitting program. Thank you!\")\n",
    "            done = True\n",
    "\n",
    "            \n",
    "menu()"
   ]
  }
 ],
 "metadata": {
  "kernelspec": {
   "display_name": "Python 3",
   "language": "python",
   "name": "python3"
  },
  "language_info": {
   "codemirror_mode": {
    "name": "ipython",
    "version": 3
   },
   "file_extension": ".py",
   "mimetype": "text/x-python",
   "name": "python",
   "nbconvert_exporter": "python",
   "pygments_lexer": "ipython3",
   "version": "3.10.7"
  }
 },
 "nbformat": 4,
 "nbformat_minor": 2
}
