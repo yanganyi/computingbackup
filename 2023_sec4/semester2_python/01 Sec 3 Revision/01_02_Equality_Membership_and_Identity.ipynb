{
 "cells": [
  {
   "cell_type": "markdown",
   "metadata": {},
   "source": [
    "# 01_02 - Equality, Membership and Identity\n",
    "\n",
    "## Understanding Goals\n",
    "\n",
    "At the end of this chapter, you should be able to:\n",
    "- Understand the difference between Equality and Membership\n",
    "- Able to use `is` keyword and `==` operator\n"
   ]
  },
  {
   "cell_type": "markdown",
   "metadata": {},
   "source": [
    "# Section 1 - Equality and Membership\n",
    "\n",
    "## _1.1 `==` operator and `in` keyword_\n",
    "\n",
    "- The `==` sign is defined to check the equality relationship between 2 variables.\n",
    "- The `in` keyword checks the membership (equality) if a value can be found in a collection such as string, list or tuple.\n",
    "\n",
    "### ~ Example ~"
   ]
  },
  {
   "cell_type": "code",
   "execution_count": null,
   "metadata": {},
   "outputs": [],
   "source": [
    "string_1 = \"apple orange banana kiwi\"\n",
    "list_1 = [\"apple\", \"orange\", \"banana\", \"kiwi\"]\n",
    "tup_1 = (\"apple\", \"orange\", \"banana\", \"kiwi\")\n",
    "\n",
    "print(\"banana\" in string_1)\n",
    "print(\"banana\" in list_1)\n",
    "print(\"banana\" in tup_1)\n",
    "print(list_1[1] == tup_1[1])\n",
    "print(\"banana\" in string_1 == \"banana\" in list_1 == \"banana\" in tup_1) # False\n",
    "print((\"banana\" in string_1) == (\"banana\" in list_1) == (\"banana\" in tup_1)) # True"
   ]
  },
  {
   "cell_type": "markdown",
   "metadata": {},
   "source": [
    "# Section 2 - Equality vs Identity\n",
    "\n",
    "Two variables are equal if they contains the same set of values. However, they may not necessarily have the same identity as they might be pointing to two different memory spaces.\n",
    "\n",
    "In Python, there is a predefined way of identity checking for different data types. In this section, we will be exploring the similarities and difference of identity check for various data types.\n",
    "\n",
    "## _2.1 `is` keyword and `id()` function_\n",
    "\n",
    "- The `==` sign is defined to check the equality relationship between 2 variables.\n",
    "- The `is` keyword is defined to check the identity relationship between 2 variables.\n",
    "- The `id()` function is helpful to print out the memory id of the variables.\n",
    "\n",
    "### ~ Example ~\n",
    "\n",
    "First of all, we can establish that when a global variable is being passed into a function through a function call, the local parameter must be refering to the same variable and same memory space."
   ]
  },
  {
   "cell_type": "code",
   "execution_count": null,
   "metadata": {},
   "outputs": [],
   "source": [
    "a = 10\n",
    "\n",
    "def check_func_identity(b):\n",
    "    print(a == b)\n",
    "    print(a is b)\n",
    "    print(id(a), id(b), id(a) == id(b))\n",
    "\n",
    "check_func_identity(a)\n",
    "check_func_identity(10)"
   ]
  },
  {
   "cell_type": "markdown",
   "metadata": {},
   "source": [
    "## _2.2 Identity Check for Variable Creation_\n",
    "\n",
    "Different data types act differently when creating with the same set of values."
   ]
  },
  {
   "cell_type": "code",
   "execution_count": null,
   "metadata": {},
   "outputs": [],
   "source": [
    "def compare_variables(a, b):\n",
    "    print(a == b)\n",
    "    print(a is b)\n",
    "    print(id(a), id(b), id(a) == id(b))\n",
    "    print()\n",
    "\n",
    "print(\"Integer Creation.\")\n",
    "a = 10\n",
    "b = 10\n",
    "\n",
    "compare_variables(a, b)\n",
    "\n",
    "print(\"Double Creation.\")\n",
    "a = 10.0\n",
    "b = 10.0\n",
    "\n",
    "compare_variables(a, b)\n",
    "\n",
    "print(\"String Creation.\")\n",
    "a = \"haha\"\n",
    "b = \"haha\"\n",
    "\n",
    "compare_variables(a, b)\n",
    "\n",
    "print(\"List Creation.\")\n",
    "a = [1, 2, 3]\n",
    "b = [1, 2, 3]\n",
    "\n",
    "compare_variables(a, b)"
   ]
  },
  {
   "cell_type": "markdown",
   "metadata": {},
   "source": [
    "## _2.3 Identity Check for Variable Modification_\n",
    "\n",
    "When an int, float and string is modified using operators."
   ]
  },
  {
   "cell_type": "code",
   "execution_count": null,
   "metadata": {},
   "outputs": [],
   "source": [
    "print(\"Integer Operation\")\n",
    "a = 10\n",
    "print(id(a))\n",
    "a += 3\n",
    "print(id(a))\n",
    "print()\n",
    "\n",
    "print(\"Float Operation\")\n",
    "a = 10.0\n",
    "print(id(a))\n",
    "a += 3.0\n",
    "print(id(a))\n",
    "print()\n",
    "\n",
    "print(\"String Operation\")\n",
    "a = \"haha\"\n",
    "print(id(a))\n",
    "a = \"haha\" + \"hehe\"\n",
    "print(id(a))\n",
    "print()"
   ]
  },
  {
   "cell_type": "markdown",
   "metadata": {},
   "source": [
    "When a list is modified using operators and functions:"
   ]
  },
  {
   "cell_type": "code",
   "execution_count": null,
   "metadata": {},
   "outputs": [],
   "source": [
    "print(\"List Operation: +\")\n",
    "a = [1, 2, 3]\n",
    "print(id(a))\n",
    "a = a + [4, 5, 6]\n",
    "print(a)\n",
    "\n",
    "print(id(a))\n",
    "print()\n",
    "\n",
    "print(\"List Operation: slicing\")\n",
    "a = [1, 2, 3]\n",
    "print(id(a))\n",
    "a = a[1:]\n",
    "print(a)\n",
    "print(id(a))\n",
    "print()\n",
    "\n",
    "print(\"List Operation: +=\")\n",
    "a = [1, 2, 3]\n",
    "print(id(a))\n",
    "a += [4, 5, 6]\n",
    "print(a)\n",
    "print(id(a))\n",
    "print()\n",
    "\n",
    "print(\"List Function: extend\")\n",
    "a = [1, 2, 3]\n",
    "print(id(a))\n",
    "a.extend([4, 5, 6])\n",
    "print(a)\n",
    "print(id(a))\n",
    "print()\n",
    "\n",
    "print(\"List Function: append\")\n",
    "a = [1, 2, 3]\n",
    "print(id(a))\n",
    "a.append(4)\n",
    "print(a)\n",
    "print(id(a))\n",
    "print()"
   ]
  },
  {
   "cell_type": "markdown",
   "metadata": {},
   "source": [
    "## _2.4 Initializing 2D Array_\n",
    "It is common to initialize 2d arrays when dealing with 2 dimensional problems. Please be careful to create the 2d array using the correct method.\n",
    "\n",
    "### ~ Example ~"
   ]
  },
  {
   "cell_type": "code",
   "execution_count": null,
   "metadata": {},
   "outputs": [],
   "source": [
    "# demo - Something we should NOT do\n",
    "array_length = 5\n",
    "new_array = [None] * array_length\n",
    "new_2d_array = [[None] * array_length] * array_length\n",
    "\n",
    "print(new_2d_array)\n",
    "new_2d_array[0][0] = \"haha\"\n",
    "\n",
    "print(new_2d_array)"
   ]
  },
  {
   "cell_type": "code",
   "execution_count": null,
   "metadata": {},
   "outputs": [],
   "source": [
    "# suggestion\n",
    "new_2d_array = [[None for _ in range(array_length)] for _ in range(array_length)]\n",
    "print(new_2d_array)\n",
    "new_2d_array[0][0] = 1\n",
    "\n",
    "print(new_2d_array)"
   ]
  }
 ],
 "metadata": {
  "kernelspec": {
   "display_name": "Python 3 (ipykernel)",
   "language": "python",
   "name": "python3"
  },
  "language_info": {
   "codemirror_mode": {
    "name": "ipython",
    "version": 3
   },
   "file_extension": ".py",
   "mimetype": "text/x-python",
   "name": "python",
   "nbconvert_exporter": "python",
   "pygments_lexer": "ipython3",
   "version": "3.11.4"
  }
 },
 "nbformat": 4,
 "nbformat_minor": 2
}
