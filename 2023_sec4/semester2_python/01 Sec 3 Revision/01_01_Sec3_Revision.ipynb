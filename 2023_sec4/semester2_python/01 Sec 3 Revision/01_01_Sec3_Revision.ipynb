{
 "cells": [
  {
   "attachments": {},
   "cell_type": "markdown",
   "metadata": {},
   "source": [
    "# 01 - Sec 3 Revision\n",
    "\n",
    "In this chapter, we will revise the topics covered in Sec 3.\n",
    "1. Basic Programming Constructs\n",
    "- Conditional statements\n",
    "- Iterations\n",
    "- Functions\n",
    "2. Data Types and Data Structures\n",
    "- Primitive data types: int, float, bool, str\n",
    "- String operations\n",
    "- Lists\n",
    "- Tuples\n",
    "- Dictionaries\n",
    "\n",
    "Let's do a quick recap of the above topics."
   ]
  },
  {
   "attachments": {},
   "cell_type": "markdown",
   "metadata": {},
   "source": [
    "### Section 1 - Data Types, Data Structure and Operators in Python"
   ]
  },
  {
   "cell_type": "code",
   "execution_count": null,
   "metadata": {},
   "outputs": [],
   "source": [
    "# 01 - Data Types: int, float, str, bool\n",
    "print(type(100))\n",
    "print(type(100.0))\n",
    "print(type(\"haha\"))\n",
    "print(type(53.04))\n",
    "print(type(\"18.39\"))"
   ]
  },
  {
   "cell_type": "code",
   "execution_count": null,
   "metadata": {},
   "outputs": [],
   "source": [
    "# 02 - Data Types: int, float, str, bool\n",
    "print(type(True))\n",
    "print(type(\"True\"))\n",
    "\n",
    "print(type(10 < 500))\n",
    "print(type(True or 10 == 100))\n",
    "print(type( 6 != 12 and 9 < 5))"
   ]
  },
  {
   "cell_type": "code",
   "execution_count": null,
   "metadata": {},
   "outputs": [],
   "source": [
    "# 03 - Data Structures\n",
    "# List\n",
    "print(type([1, 2, 3]))\n",
    "print(type([\"x\", \"y\", \"z\"]))\n",
    "\n",
    "# Tuple\n",
    "print(type((\"head\", \"body\")))\n",
    "print(type((\"a\", \"b\", \"c\")))\n",
    "\n",
    "# Dictionary\n",
    "print(type({\"key\":1}))\n",
    "print(type({\"pen\":1, \"ruler\":2}))\n",
    "print(type({1:\"a\", 4:\"d\"}))\n",
    "\n",
    "# Set\n",
    "print(type({10, 20, 11, 21}))\n",
    "print(type({\"item\", \"object\"}))"
   ]
  },
  {
   "attachments": {},
   "cell_type": "markdown",
   "metadata": {},
   "source": [
    "### Section 2 - String Operations"
   ]
  },
  {
   "cell_type": "code",
   "execution_count": 14,
   "metadata": {},
   "outputs": [
    {
     "name": "stdout",
     "output_type": "stream",
     "text": [
      "Wel\n",
      "Welcom\n",
      "Hwa Chong\n",
      "Hwa Ch\n",
      "Wce\n",
      "gnohC\n"
     ]
    }
   ],
   "source": [
    "# 01 String Slicing\n",
    "string = \"Welcome to Hwa Chong\"\n",
    "\n",
    "# What does the following code print?\n",
    "print(string[0:3]) # Wel\n",
    "print(string[:6]) # Welcom\n",
    "print(string[11:]) # Hwa Chong\n",
    "print(string[11:-3]) # Hwa Ch\n",
    "print(string[:7:3]) # Wce\n",
    "print(string[-1:-6:-1]) # gnohC"
   ]
  },
  {
   "cell_type": "code",
   "execution_count": 19,
   "metadata": {},
   "outputs": [
    {
     "name": "stdout",
     "output_type": "stream",
     "text": [
      "in\n",
      "comm\n",
      "noom\n",
      "info\n",
      "mmocofni\n"
     ]
    }
   ],
   "source": [
    "# 02 String Slicing\n",
    "string = \"infocomm\"\n",
    "\n",
    "# Apply string slicing to get the following results\n",
    "print(string[:2])  # \"in\"\n",
    "print(string[-4:])  # \"comm\"\n",
    "print(string[1::2])  # \"noom\"\n",
    "print(string[:4])  # \"info\"\n",
    "print(string[::-1])  # \"mmocofni\"\n"
   ]
  },
  {
   "cell_type": "code",
   "execution_count": 20,
   "metadata": {},
   "outputs": [
    {
     "name": "stdout",
     "output_type": "stream",
     "text": [
      "HELLO WORLD\n",
      "hello\n",
      "False\n",
      "2\n",
      "Hello WorldHello World\n",
      "Hello World, wave to me\n"
     ]
    }
   ],
   "source": [
    "# 03 String Operations\n",
    "string = \"Hello World\"\n",
    "\n",
    "# What does the following code print?\n",
    "print(string.upper()) # HELLO WORLD\n",
    "print(string[:5].lower()) # hello\n",
    "print(string.isupper()) # False\n",
    "print(string.index(\"llo\")) # 2\n",
    "print(string * 2) # Hello WorldHello World\n",
    "print(string + \", wave to me\") # Hello World, wave to me"
   ]
  },
  {
   "cell_type": "code",
   "execution_count": 32,
   "metadata": {},
   "outputs": [
    {
     "name": "stdout",
     "output_type": "stream",
     "text": [
      "has\n",
      "sah\n",
      "HEART\n",
      "poe\n",
      "Tony Stark\n"
     ]
    }
   ],
   "source": [
    "# 04 String Operations\n",
    "string = \"Prove that Tony Stark has a Heart\"\n",
    "\n",
    "# Apply string operations to get the following results\n",
    "print(string[-11:-8])  # \"has\"\n",
    "print(string[-9:-12:-1])  # \"sah\"\n",
    "print(string[-5:].upper())  # \"HEART\"\n",
    "print(string[:5:2].lower())  # \"poe\"\n",
    "print(string[11:21])  # \"Tony Stark\""
   ]
  },
  {
   "attachments": {},
   "cell_type": "markdown",
   "metadata": {},
   "source": [
    "### Section 3 - Conditional Statements and Iteration"
   ]
  },
  {
   "attachments": {},
   "cell_type": "markdown",
   "metadata": {},
   "source": [
    "#### 3.1 Conditional Statements\n",
    "\n",
    "Using conditional statements, convert score to grade."
   ]
  },
  {
   "cell_type": "code",
   "execution_count": null,
   "metadata": {},
   "outputs": [],
   "source": [
    "score = 65\n",
    "\n",
    "if score >= 75:\n",
    "    print(\"A1\")\n",
    "elif score >= 70:\n",
    "    print(\"A2\")\n",
    "elif score >= 65:\n",
    "    print(\"B3\")\n",
    "elif score >= 60:\n",
    "    print(\"B4\")\n",
    "elif score >= 55:\n",
    "    print(\"C5\")\n",
    "elif score >= 50:\n",
    "    print(\"C6\")\n",
    "elif score >= 45:\n",
    "    print(\"D7\")\n",
    "elif score >= 40:\n",
    "    print(\"E8\")\n",
    "else:\n",
    "    print(\"F9\")"
   ]
  },
  {
   "attachments": {},
   "cell_type": "markdown",
   "metadata": {},
   "source": [
    "#### 3.2 While Loop"
   ]
  },
  {
   "cell_type": "code",
   "execution_count": null,
   "metadata": {},
   "outputs": [],
   "source": [
    "fruits = [\"apple\", \"banana\", \"cherry\", \"durian\", \"elderberry\", \"watermelon\", \"grape\"]\n",
    "\n",
    "i = 0\n",
    "while i < len(fruits):\n",
    "    print(fruits[i])\n",
    "    i += 1"
   ]
  },
  {
   "attachments": {},
   "cell_type": "markdown",
   "metadata": {},
   "source": [
    "#### 3.3 For Loop - index with range()"
   ]
  },
  {
   "cell_type": "code",
   "execution_count": null,
   "metadata": {},
   "outputs": [],
   "source": [
    "fruits = [\"apple\", \"banana\", \"cherry\", \"durian\", \"elderberry\", \"watermelon\", \"grape\"]\n",
    "\n",
    "for i in range(len(fruits)):\n",
    "    print(fruits[i])"
   ]
  },
  {
   "attachments": {},
   "cell_type": "markdown",
   "metadata": {},
   "source": [
    "#### 3.4 For Loop - For item in collection"
   ]
  },
  {
   "cell_type": "code",
   "execution_count": null,
   "metadata": {},
   "outputs": [],
   "source": [
    "fruits = [\"apple\", \"banana\", \"cherry\", \"durian\", \"elderberry\", \"watermelon\", \"grape\"]\n",
    "\n",
    "for fruit in fruits:\n",
    "    print(fruit)"
   ]
  },
  {
   "attachments": {},
   "cell_type": "markdown",
   "metadata": {},
   "source": [
    "#### 3.5 Nested Loops"
   ]
  },
  {
   "cell_type": "code",
   "execution_count": null,
   "metadata": {},
   "outputs": [],
   "source": [
    "# print the pattern\n",
    "# 1\n",
    "# 12\n",
    "# 123\n",
    "# 1234\n",
    "\n",
    "for i in range(1, 5):\n",
    "    row = \"\"\n",
    "    for j in range(1, i + 1):\n",
    "        row += str(j)\n",
    "    print(row)"
   ]
  },
  {
   "attachments": {},
   "cell_type": "markdown",
   "metadata": {},
   "source": [
    "#### 3.6 Exercise"
   ]
  },
  {
   "cell_type": "code",
   "execution_count": 2,
   "metadata": {},
   "outputs": [
    {
     "name": "stdout",
     "output_type": "stream",
     "text": [
      "B3\n"
     ]
    }
   ],
   "source": [
    "# 01 - Use a while loop to print the grade of the student\n",
    "grades = [\"A1\", \"A2\", \"B3\", \"B4\", \"C5\", \"C6\", \"D7\", \"E8\", \"F9\"]\n",
    "cut_off = [75, 70, 65, 60, 55, 50, 45, 40, 0]\n",
    "score = 65\n",
    "\n",
    "# your code\n",
    "i = 0\n",
    "while i < len(cut_off):\n",
    "    if score >= cut_off[i]:\n",
    "        print(grades[i])\n",
    "        break\n",
    "    i += 1"
   ]
  },
  {
   "cell_type": "code",
   "execution_count": 3,
   "metadata": {},
   "outputs": [
    {
     "name": "stdout",
     "output_type": "stream",
     "text": [
      "B3\n"
     ]
    }
   ],
   "source": [
    "# 02 - Use a for loop to print the grade of the student\n",
    "grades = [\"A1\", \"A2\", \"B3\", \"B4\", \"C5\", \"C6\", \"D7\", \"E8\", \"F9\"]\n",
    "cut_off = [75, 70, 65, 60, 55, 50, 45, 40, 0]\n",
    "score = 65\n",
    "\n",
    "# your code\n",
    "for i in range(len(cut_off)):\n",
    "    if score >= cut_off[i]:\n",
    "        print(grades[i])\n",
    "        break"
   ]
  },
  {
   "attachments": {},
   "cell_type": "markdown",
   "metadata": {},
   "source": [
    "### Section 4 - Revision Exercise"
   ]
  },
  {
   "attachments": {},
   "cell_type": "markdown",
   "metadata": {},
   "source": [
    "1. Copy all the elements in the following list as a string, add them into a new list named `stringlist`."
   ]
  },
  {
   "cell_type": "code",
   "execution_count": 5,
   "metadata": {},
   "outputs": [
    {
     "name": "stdout",
     "output_type": "stream",
     "text": [
      "['a', 'b', '2', '4', '1', '9']\n"
     ]
    }
   ],
   "source": [
    "list = [\"a\", \"b\", 2, 4, 1, 9]\n",
    "\n",
    "# your code\n",
    "stringList = []\n",
    "\n",
    "for i in list:\n",
    "    if type(i) == int:\n",
    "        stringList.append(str(i))\n",
    "    else:\n",
    "        stringList.append(i)\n",
    "\n",
    "print(stringList)"
   ]
  },
  {
   "attachments": {},
   "cell_type": "markdown",
   "metadata": {},
   "source": [
    "2. Copy all alphabets from the following list into a new list named `alphabets`; and copy all numbers into a new list named `numbers`."
   ]
  },
  {
   "cell_type": "code",
   "execution_count": 6,
   "metadata": {},
   "outputs": [
    {
     "name": "stdout",
     "output_type": "stream",
     "text": [
      "['a', 'b']\n",
      "[2, 4, 1, 9]\n"
     ]
    }
   ],
   "source": [
    "list = [\"a\", \"b\", 2, 4, 1, 9]\n",
    "\n",
    "# your code\n",
    "\n",
    "# method 1\n",
    "alphabets = [alphabet for alphabet in list if type(alphabets) == str]\n",
    "numbers = [number for number in list if type(number) == int]\n",
    "\n",
    "# method 2\n",
    "for i in list:\n",
    "    if type(i) == int:  \n",
    "        numbers.append(i)\n",
    "    elif type(i) == str:\n",
    "        alphabets.append(i)\n",
    "\n",
    "print(alphabets)\n",
    "print(numbers)"
   ]
  },
  {
   "attachments": {},
   "cell_type": "markdown",
   "metadata": {},
   "source": [
    "3. Print out the names of each player from the following dictionary:"
   ]
  },
  {
   "cell_type": "code",
   "execution_count": 8,
   "metadata": {},
   "outputs": [
    {
     "name": "stdout",
     "output_type": "stream",
     "text": [
      "Lois\n",
      "Pat\n",
      "Gigi\n"
     ]
    }
   ],
   "source": [
    "dict = {\"player1\" : \"Lois\", \"player2\" : \"Pat\", \"player3\" : \"Gigi\"}\n",
    "\n",
    "# your code\n",
    "for key in dict:\n",
    "    print(dict[key])"
   ]
  },
  {
   "attachments": {},
   "cell_type": "markdown",
   "metadata": {},
   "source": [
    "4. Replace the name of `player2` with `Tony` in the dictionary below."
   ]
  },
  {
   "cell_type": "code",
   "execution_count": 13,
   "metadata": {},
   "outputs": [
    {
     "name": "stdout",
     "output_type": "stream",
     "text": [
      "{'player1': 'Lois', 'player2': 'Tony', 'player3': 'Gigi'}\n"
     ]
    }
   ],
   "source": [
    "dict = {\"player1\" : \"Lois\", \"player2\" : \"Pat\", \"player3\" : \"Gigi\"}\n",
    "\n",
    "# your code\n",
    "dict[\"player2\"] = \"Tony\"\n",
    "print(dict)\n"
   ]
  },
  {
   "attachments": {},
   "cell_type": "markdown",
   "metadata": {},
   "source": [
    "5. What's the output?"
   ]
  },
  {
   "cell_type": "code",
   "execution_count": 33,
   "metadata": {},
   "outputs": [
    {
     "name": "stdout",
     "output_type": "stream",
     "text": [
      "('Asia', 'Asia', 'Europe')\n",
      "<class 'tuple'>\n",
      "Asia\n",
      "Europe\n",
      "<class 'str'>\n"
     ]
    }
   ],
   "source": [
    "dict = {\n",
    "    \"Country\" : [\"China\", \"Malaysia\", \"France\"], \n",
    "    \"Continent\" : (\"Asia\", \"Asia\", \"Europe\")\n",
    "}\n",
    "\n",
    "print(dict[\"Continent\"]) # (\"Asia\", \"Asia\", \"Europe\")\n",
    "print(type(dict[\"Continent\"])) # tuple\n",
    "print(dict[\"Continent\"][0]) # Asia\n",
    "print(dict[\"Continent\"][-1]) # Europe\n",
    "print(type(dict [\"Continent\"][1])) # str"
   ]
  },
  {
   "attachments": {},
   "cell_type": "markdown",
   "metadata": {},
   "source": [
    "6. Add all the keys into a list named \"keys\" and add all the values into a list named \"values\", then print them out."
   ]
  },
  {
   "cell_type": "code",
   "execution_count": 12,
   "metadata": {},
   "outputs": [
    {
     "name": "stdout",
     "output_type": "stream",
     "text": [
      "['Country', 'Continent']\n",
      "[['China', 'Malaysia', 'France'], ('Asia', 'Asia', 'Europe')]\n"
     ]
    }
   ],
   "source": [
    "dict = {\n",
    "    \"Country\" : [\"China\", \"Malaysia\", \"France\"], \n",
    "    \"Continent\" : (\"Asia\", \"Asia\", \"Europe\")\n",
    "}\n",
    "\n",
    "# your code\n",
    "keys = list(dict.keys())\n",
    "values = list(dict.values())\n",
    "\n",
    "print(keys)\n",
    "print(values)"
   ]
  },
  {
   "attachments": {},
   "cell_type": "markdown",
   "metadata": {},
   "source": [
    "7. What's the output of the following code?"
   ]
  },
  {
   "cell_type": "code",
   "execution_count": 36,
   "metadata": {},
   "outputs": [
    {
     "name": "stdout",
     "output_type": "stream",
     "text": [
      "<class 'list'>\n",
      "52\n",
      "5\n",
      "10.4\n",
      "21\n",
      "1\n"
     ]
    }
   ],
   "source": [
    "numbers = [1, 5, 10, 15, 21]\n",
    "\n",
    "print(type(numbers)) # list\n",
    "print(sum(numbers)) # 52\n",
    "print(len(numbers)) # 5\n",
    "print(sum(numbers) / len (numbers)) # 10.4\n",
    "print(max(numbers)) # 21\n",
    "print(min(numbers)) # 1"
   ]
  },
  {
   "attachments": {},
   "cell_type": "markdown",
   "metadata": {},
   "source": [
    "8. What is the difference between sorted() and .sort()?"
   ]
  },
  {
   "cell_type": "code",
   "execution_count": 37,
   "metadata": {},
   "outputs": [
    {
     "name": "stdout",
     "output_type": "stream",
     "text": [
      "--- sorted() ---\n",
      "[1, 5, 10, 15, 21]\n",
      "[21, 15, 10, 5, 1]\n",
      "--- sort() ---\n",
      "[1, 5, 10, 15, 21]\n",
      "--- equality vs identity ---\n",
      "True\n",
      "False\n"
     ]
    }
   ],
   "source": [
    "numbers = [21, 15, 10, 5, 1]\n",
    "\n",
    "# sorted()\n",
    "print(\"--- sorted() ---\")\n",
    "result1 = sorted(numbers)\n",
    "print(result1)\n",
    "print(numbers)\n",
    "\n",
    "# sort()\n",
    "print(\"--- sort() ---\")\n",
    "numbers.sort()\n",
    "print(numbers)\n",
    "\n",
    "# equality vs identity\n",
    "print(\"--- equality vs identity ---\")\n",
    "print(numbers == result1)\n",
    "print(numbers is result1)\n",
    "\n",
    "# sorted() generates a new list which can be stored in a new variable while sort() sorts the list in place"
   ]
  },
  {
   "attachments": {},
   "cell_type": "markdown",
   "metadata": {},
   "source": [
    "9. Write a function `count_ad()` that takes in a string `string` and counts the number of letters and digits within it.  \n",
    "The function should return a dictionary with the keys `\"letters\"` and `\"digits\"` and their respective counts as the values."
   ]
  },
  {
   "cell_type": "code",
   "execution_count": 13,
   "metadata": {},
   "outputs": [
    {
     "name": "stdout",
     "output_type": "stream",
     "text": [
      "{'letters': 10, 'numbers': 0}\n",
      "{'letters': 7, 'numbers': 3}\n",
      "{'letters': 0, 'numbers': 6}\n"
     ]
    }
   ],
   "source": [
    "string1 = \"Hello World\"\n",
    "string2 = \"H3ll0 Wor1d\"\n",
    "string3 = \"149990\"\n",
    "\n",
    "# your code here\n",
    "def court_ad(string):\n",
    "    dict = {\"letters\" : 0, \"numbers\" : 0}\n",
    "    for i in string:\n",
    "        if i.isalpha():\n",
    "            dict[\"letters\"] += 1\n",
    "        elif i.isdigit():\n",
    "            dict[\"numbers\"] += 1\n",
    "    print(dict)\n",
    "\n",
    "court_ad(string1)\n",
    "court_ad(string2)\n",
    "court_ad(string3)"
   ]
  },
  {
   "attachments": {},
   "cell_type": "markdown",
   "metadata": {},
   "source": [
    "10. Write a function `check_scores()` that takes in a list of `scores` and stores the status of `\"Pass\"` or `\"Fail\"` in a parellel `result` list."
   ]
  },
  {
   "cell_type": "code",
   "execution_count": 10,
   "metadata": {},
   "outputs": [
    {
     "name": "stdout",
     "output_type": "stream",
     "text": [
      "['Fail', 'Pass', 'Fail', 'Pass', 'Pass']\n"
     ]
    }
   ],
   "source": [
    "list1 = [0, 50, 30, 82, 95]\n",
    "list2 = [60.5, 52.8, 13.2, 50, 49.9]\n",
    "\n",
    "# your code here\n",
    "\n",
    "result = []\n",
    "def check_scores(list):\n",
    "    for i in list:\n",
    "        if i >= 50:\n",
    "            result.append(\"Pass\")\n",
    "        else:\n",
    "            result.append(\"Fail\")\n",
    "    print(result)\n",
    "            \n",
    "check_scores(list1)\n",
    "check_scores(list2)"
   ]
  }
 ],
 "metadata": {
  "kernelspec": {
   "display_name": "Python 3",
   "language": "python",
   "name": "python3"
  },
  "language_info": {
   "codemirror_mode": {
    "name": "ipython",
    "version": 3
   },
   "file_extension": ".py",
   "mimetype": "text/x-python",
   "name": "python",
   "nbconvert_exporter": "python",
   "pygments_lexer": "ipython3",
   "version": "3.10.7"
  }
 },
 "nbformat": 4,
 "nbformat_minor": 2
}
