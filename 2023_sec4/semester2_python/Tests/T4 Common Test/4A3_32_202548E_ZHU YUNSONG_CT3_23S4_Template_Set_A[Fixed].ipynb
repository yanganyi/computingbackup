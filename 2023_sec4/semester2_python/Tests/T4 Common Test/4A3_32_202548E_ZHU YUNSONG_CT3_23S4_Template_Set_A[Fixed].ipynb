{
 "cells": [
  {
   "cell_type": "markdown",
   "metadata": {},
   "source": [
    "# YEAR 2023 Class Test - Sec 4 Term 3 Set A\n",
    "\n",
    "**Duration**: 45 Mins\n",
    "\n",
    "**<font color='red'>\n",
    "Please save your work constantly!\n",
    "</font>**"
   ]
  },
  {
   "cell_type": "markdown",
   "metadata": {},
   "source": [
    "# Exam Instructions\n",
    "\n",
    "Answer all questions.\n",
    "\n",
    "All tasks must be done in the computer laboratory. You are not allowed to bring in or take out any pieces of work, materials, paper or electronic media or in any other form.\n",
    "\n",
    "All tasks are numbered.\n",
    "\n",
    "The number of marks is given in brackets \\[ \\]  at the end of the task, the total mark of this paper is **20**.\n",
    "\n",
    "If any cell is accidentally deleted in the jupyter notebook, you may refer to the html file to recover the content.\n",
    "\n",
    "You are allowed to add new cells to the notebook, but please make sure to write meaningful comments to explain the purpose.\n",
    "\n",
    "At the end of the examination, **SAVE** all the changes in the notebook, and save all your source files in the thumb drive and do NOT delete your source files."
   ]
  },
  {
   "cell_type": "code",
   "execution_count": 1,
   "metadata": {},
   "outputs": [
    {
     "name": "stdout",
     "output_type": "stream",
     "text": [
      "|   right|left      |   center   |\n"
     ]
    }
   ],
   "source": [
    "# string format example:\n",
    "# the following code will format:\n",
    "# - the string \"right\" to be right aligned in a 8 character wide space\n",
    "# - the string \"left\" to be left aligned in a 10 character wide space\n",
    "# - the string \"center\" to be center aligned in a 12 character wide space\n",
    "\n",
    "example = \"|{:>8}|{:<10}|{:^12}|\".format(\"right\", \"left\", \"center\")\n",
    "\n",
    "# execute the cell to see the result\n",
    "# you should see the following output:\n",
    "# |   right|left      |   center   |\n",
    "print(example)"
   ]
  },
  {
   "cell_type": "markdown",
   "metadata": {},
   "source": [
    "# Task 1.1\n",
    "\n",
    "Implement `validate_isbn()` function.\n",
    "\n",
    "<div style=\"text-align:right; font-weight:bold\">Marks: [5]</div>"
   ]
  },
  {
   "cell_type": "code",
   "execution_count": 1,
   "metadata": {},
   "outputs": [],
   "source": [
    "# Your code for Task 1.1 here\n",
    "\n",
    "def validate_isbn(isbn):\n",
    "\n",
    "    # stripping \"-\"\n",
    "\n",
    "    isbn = isbn.replace(\"-\", \"\")\n",
    "    \n",
    "    # check\n",
    "    \n",
    "    isbn_digit = [10, 9, 8, 7, 6, 5, 4, 3, 2]\n",
    "    sum = 0\n",
    "\n",
    "    for i in range(len(isbn) - 1):\n",
    "        sum += isbn_digit[i] * int(isbn[i])\n",
    "\n",
    "    r = sum % 11\n",
    "\n",
    "    last_char = \"\"\n",
    "\n",
    "    if r == 0:\n",
    "        last_char = \"0\"\n",
    "    elif r == 1:\n",
    "        last_char = \"X\"\n",
    "    else:\n",
    "        last_char = str(11 - r)\n",
    "\n",
    "    if isbn[-1] == last_char:\n",
    "        return True\n",
    "    return False"
   ]
  },
  {
   "cell_type": "code",
   "execution_count": 2,
   "metadata": {},
   "outputs": [
    {
     "name": "stdout",
     "output_type": "stream",
     "text": [
      "True\n",
      "False\n",
      "True\n",
      "False\n"
     ]
    }
   ],
   "source": [
    "# test code for Task 1.1\n",
    "def test_check_isbn():\n",
    "    print(validate_isbn(\"1-6673-7897-X\"))  # True\n",
    "    print(validate_isbn(\"1-6673-7897-2\"))  # False\n",
    "    print(validate_isbn(\"0-3873-7235-0\"))  # True\n",
    "    print(validate_isbn(\"0-3873-7235-1\"))  # False\n",
    "\n",
    "test_check_isbn()"
   ]
  },
  {
   "cell_type": "markdown",
   "metadata": {},
   "source": [
    "# Task 1.2\n",
    "\n",
    "Implement class `Book` and `TYS` according to the UML class diagram and the attributes / methods specifications.\n",
    "\n",
    "<div style=\"text-align:right; font-weight:bold\">Marks: [9]</div>"
   ]
  },
  {
   "cell_type": "code",
   "execution_count": 7,
   "metadata": {},
   "outputs": [],
   "source": [
    "# Your code for Task 1.2 here\n",
    "\n",
    "class Book:\n",
    "    def __init__(self, title: str, author: str, isbn: str) -> None:\n",
    "        self._title = title\n",
    "        self._author = author\n",
    "        self._isbn = isbn\n",
    "    \n",
    "    # Accessors\n",
    "\n",
    "    def get_title(self):\n",
    "        return self._title\n",
    "    \n",
    "    def get_author(self):\n",
    "        return self._author\n",
    "    \n",
    "    def get_isbn(self):\n",
    "        return self._isbn\n",
    "    \n",
    "    # Mutators\n",
    "\n",
    "    def set_title(self, title: str):\n",
    "        self._title = title\n",
    "\n",
    "    def set_author(self, author: str):\n",
    "        self._author = author\n",
    "    \n",
    "    # str\n",
    "\n",
    "    def __str__(self) -> str:\n",
    "        return f\"|{self._title:<25}|{self._author:<20}|{self._isbn:<20}|\"\n",
    "\n",
    "class TYS(Book):\n",
    "    def __init__(self, title: str, author: str, isbn: str, subject: str) -> None:\n",
    "        super().__init__(title, author, isbn)\n",
    "        self._subject = subject\n",
    "\n",
    "    # Accessors\n",
    "\n",
    "    def get_subject(self):\n",
    "        return self._subject\n",
    "    \n",
    "    # Mutators\n",
    "\n",
    "    def set_subject(self, subject: str):\n",
    "        self._subject = subject\n",
    "    \n",
    "    # str\n",
    "\n",
    "    def __str__(self) -> str:\n",
    "        return f\"|{self._title:<25}|{self._author:<20}|{self._isbn:<20}|{self._subject:<15}|\""
   ]
  },
  {
   "cell_type": "markdown",
   "metadata": {},
   "source": [
    "# Task 1.3\n",
    "\n",
    "Create `Book` and `TYS` objects based on the given data, and print them out. For this task, you do **NOT** need to print the header and the horizontal line.\n",
    "\n",
    "<div style=\"text-align:right; font-weight:bold\">Marks: [2]</div>"
   ]
  },
  {
   "cell_type": "code",
   "execution_count": 4,
   "metadata": {},
   "outputs": [],
   "source": [
    "# Create the following Book objects:\n",
    "# |Title                    |Author              |ISBN                |\n",
    "# ---------------------------------------------------------------------\n",
    "# |Python for Dummies       |Stef Maruch         |1-6673-7897-X       |\n",
    "# |To Kill a Mockingbird    |Harper Lee          |0-3873-7235-0       |\n",
    "\n",
    "# Create the following TYS objects:\n",
    "# |Title                    |Author              |ISBN                |Subject        |\n",
    "# -------------------------------------------------------------------------------------\n",
    "# |TYS for Computing        |Tan Ah Teck         |2-3487-6909-3       |Computing      |\n",
    "# |TYS for Calculus         |James Stewart       |4-4752-8244-6       |Mathematics    |"
   ]
  },
  {
   "cell_type": "code",
   "execution_count": 8,
   "metadata": {},
   "outputs": [
    {
     "name": "stdout",
     "output_type": "stream",
     "text": [
      "|Python for Dummies       |Stef Maruch         |1-6673-7897-X       |\n",
      "|To Kill a Mockingbird    |Harper Lee          |0-3873-7235-0       |\n",
      "|TYS for Computing        |Tan Ah Teck         |2-3487-6909-3       |Computing      |\n",
      "|TYS for Calculus         |James Stewart       |4-4752-8244-6       |Mathematics    |\n"
     ]
    }
   ],
   "source": [
    "# Your code for Task 1.3 here\n",
    "# Create Book and TYS objects\n",
    "\n",
    "book1 = Book(\"Python for Dummies\", \"Stef Maruch\", \"1-6673-7897-X\")\n",
    "book2 = Book(\"To Kill a Mockingbird\", \"Harper Lee\", \"0-3873-7235-0\")\n",
    "\n",
    "tys1 = TYS(\"TYS for Computing\", \"Tan Ah Teck\", \"2-3487-6909-3\", \"Computing\")\n",
    "tys2 = TYS(\"TYS for Calculus\", \"James Stewart\", \"4-4752-8244-6\", \"Mathematics\")\n",
    "\n",
    "# Use print statement to print out the above objects created\n",
    "\n",
    "print(book1)\n",
    "print(book2)\n",
    "print(tys1)\n",
    "print(tys2)"
   ]
  },
  {
   "cell_type": "markdown",
   "metadata": {},
   "source": [
    "# Task 1.4\n",
    "\n",
    "Implement class `BookShelf` according to the UML class diagram and the attributes / methods specifications.\n",
    "\n",
    "<div style=\"text-align:right; font-weight:bold\">Marks: [2]</div>"
   ]
  },
  {
   "cell_type": "code",
   "execution_count": 13,
   "metadata": {},
   "outputs": [],
   "source": [
    "# Your code for Task 1.4 here\n",
    "\n",
    "class BookShelf:\n",
    "    def __init__(self, cat: str, books: list = []) -> None:\n",
    "        self._cat = cat\n",
    "        self._books = books\n",
    "\n",
    "    def add_book(self, book):\n",
    "        self._books.append(book)\n",
    "\n",
    "    def __str__(self) -> str:\n",
    "        return_string = \"\"\n",
    "        return_string += \"|{:<25}|{:<20}|{:<20}|{:<15}|\\n\".format(\"Title\", \"Author\", \"ISBN\", \"Details\")\n",
    "        return_string += \"-\" * 85 + \"\\n\"\n",
    "        for book in self._books:\n",
    "            return_string += str(book) + \"\\n\"\n",
    "        return_string += \"-\" * 85 + \"\\n\"\n",
    "        return return_string"
   ]
  },
  {
   "cell_type": "code",
   "execution_count": 14,
   "metadata": {},
   "outputs": [
    {
     "name": "stdout",
     "output_type": "stream",
     "text": [
      "|Title                    |Author              |ISBN                |Details        |\n",
      "-------------------------------------------------------------------------------------\n",
      "|TYS for Computing        |Tan Ah Teck         |2-3487-6909-3       |Computing      |\n",
      "|TYS for Calculus         |James Stewart       |4-4752-8244-6       |Mathematics    |\n",
      "|TYS for Physics          |Chia Suan Chong     |6-6639-3891-6       |Physics        |\n",
      "|TYS for Chemistry        |John Green          |5-8141-9694-7       |Chemistry      |\n",
      "|TYS for Biology          |Lim Ah Lian         |1-8387-0895-2       |Biology        |\n",
      "|TYS for Economics        |Chew Ah Meng        |8-0511-9141-2       |Economics      |\n",
      "-------------------------------------------------------------------------------------\n",
      "\n"
     ]
    }
   ],
   "source": [
    "# test code for Task 1.4\n",
    "def test_book_shelf():\n",
    "    bs = BookShelf(\"TYS\")\n",
    "    bs = BookShelf(\"TYS\")\n",
    "    book1 = TYS(\"TYS for Computing\", \"Tan Ah Teck\",\n",
    "                \"2-3487-6909-3\", \"Computing\")\n",
    "    book2 = TYS(\"TYS for Calculus\", \"James Stewart\",\n",
    "                \"4-4752-8244-6\", \"Mathematics\")\n",
    "    book3 = TYS(\"TYS for Physics\", \"Chia Suan Chong\",\n",
    "                \"6-6639-3891-6\", \"Physics\")\n",
    "    book4 = TYS(\"TYS for Chemistry\", \"John Green\",\n",
    "                \"5-8141-9694-7\", \"Chemistry\")\n",
    "    book5 = TYS(\"TYS for Biology\", \"Lim Ah Lian\", \"1-8387-0895-2\", \"Biology\")\n",
    "    book6 = TYS(\"TYS for Economics\", \"Chew Ah Meng\",\n",
    "                \"8-0511-9141-2\", \"Economics\")\n",
    "\n",
    "    books = [book1, book2, book3, book4, book5, book6]\n",
    "\n",
    "    for book in books:\n",
    "        bs.add_book(book)\n",
    "\n",
    "    print(bs)\n",
    "\n",
    "\n",
    "test_book_shelf()"
   ]
  },
  {
   "cell_type": "markdown",
   "metadata": {},
   "source": [
    "## Task 2 - Count Upper- and Lower-Case Letters (Recursion)\n",
    "\n",
    "### Description\n",
    "\n",
    "Implement a **recursive** function `count_case()` which takes in a string `s`, such as `\"I Love Computing!\"`, count the number of upper and lower case alphabets and return in a `list` format: `[3, 11]`.\n",
    "\n",
    "### ~ Evidence 2 ~\n",
    "\n",
    "- Program code of function `count_case()`.\n",
    "- You will also be assessed, but not limited to, based on the standard output of the following function calls.\n",
    "    - `count_case(\"I Love H2 Computing!\")`\n",
    "    - `count_case(\"Today is a beautiful day!\"))`\n",
    "\n",
    "<div style=\"text-align:right; font-weight:bold\">Marks: [2]</div>"
   ]
  },
  {
   "cell_type": "code",
   "execution_count": 15,
   "metadata": {},
   "outputs": [],
   "source": [
    "# Your code for Task 2\n",
    "\n",
    "def count_case(s, upper = 0, lower = 0):\n",
    "    if len(s) <= 0:\n",
    "        return [upper, lower]\n",
    "    \n",
    "    elif s[-1].isupper():\n",
    "        return count_case(s[:-1], upper + 1, lower)\n",
    "\n",
    "    elif s[-1].islower():\n",
    "        return count_case(s[:-1], upper, lower + 1)\n",
    "\n",
    "    else:\n",
    "        return count_case(s[:-1], upper, lower)"
   ]
  },
  {
   "cell_type": "code",
   "execution_count": 16,
   "metadata": {},
   "outputs": [
    {
     "name": "stdout",
     "output_type": "stream",
     "text": [
      "[3, 11]\n",
      "[1, 19]\n"
     ]
    }
   ],
   "source": [
    "# Test cases for Task 2\n",
    "print(count_case(\"I Love Computing!\"))  # [3, 11]\n",
    "print(count_case(\"Today is a beautiful day!\"))  # [1, 19]"
   ]
  }
 ],
 "metadata": {
  "kernelspec": {
   "display_name": "Python 3 (ipykernel)",
   "language": "python",
   "name": "python3"
  },
  "language_info": {
   "codemirror_mode": {
    "name": "ipython",
    "version": 3
   },
   "file_extension": ".py",
   "mimetype": "text/x-python",
   "name": "python",
   "nbconvert_exporter": "python",
   "pygments_lexer": "ipython3",
   "version": "3.11.5"
  }
 },
 "nbformat": 4,
 "nbformat_minor": 2
}
