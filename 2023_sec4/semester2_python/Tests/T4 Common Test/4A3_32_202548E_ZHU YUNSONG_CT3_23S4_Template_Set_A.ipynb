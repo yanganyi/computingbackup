{
 "cells": [
  {
   "cell_type": "markdown",
   "metadata": {},
   "source": [
    "# YEAR 2023 Class Test - Sec 4 Term 3 Set A\n",
    "\n",
    "**Duration**: 45 Mins\n",
    "\n",
    "**<font color='red'>\n",
    "Please save your work constantly!\n",
    "</font>**"
   ]
  },
  {
   "cell_type": "markdown",
   "metadata": {},
   "source": [
    "# Exam Instructions\n",
    "\n",
    "Answer all questions.\n",
    "\n",
    "All tasks must be done in the computer laboratory. You are not allowed to bring in or take out any pieces of work, materials, paper or electronic media or in any other form.\n",
    "\n",
    "All tasks are numbered.\n",
    "\n",
    "The number of marks is given in brackets \\[ \\]  at the end of the task, the total mark of this paper is **20**.\n",
    "\n",
    "If any cell is accidentally deleted in the jupyter notebook, you may refer to the html file to recover the content.\n",
    "\n",
    "You are allowed to add new cells to the notebook, but please make sure to write meaningful comments to explain the purpose.\n",
    "\n",
    "At the end of the examination, **SAVE** all the changes in the notebook, and save all your source files in the thumb drive and do NOT delete your source files."
   ]
  },
  {
   "cell_type": "code",
   "execution_count": 1,
   "metadata": {},
   "outputs": [
    {
     "name": "stdout",
     "output_type": "stream",
     "text": [
      "|   right|left      |   center   |\n"
     ]
    }
   ],
   "source": [
    "# string format example:\n",
    "# the following code will format:\n",
    "# - the string \"right\" to be right aligned in a 8 character wide space\n",
    "# - the string \"left\" to be left aligned in a 10 character wide space\n",
    "# - the string \"center\" to be center aligned in a 12 character wide space\n",
    "\n",
    "example = \"|{:>8}|{:<10}|{:^12}|\".format(\"right\", \"left\", \"center\")\n",
    "\n",
    "# execute the cell to see the result\n",
    "# you should see the following output:\n",
    "# |   right|left      |   center   |\n",
    "print(example)"
   ]
  },
  {
   "cell_type": "markdown",
   "metadata": {},
   "source": [
    "# Task 1.1\n",
    "\n",
    "Implement `validate_isbn()` function.\n",
    "\n",
    "<div style=\"text-align:right; font-weight:bold\">Marks: [5]</div>"
   ]
  },
  {
   "cell_type": "code",
   "execution_count": 2,
   "metadata": {},
   "outputs": [],
   "source": [
    "# Your code for Task 1.1 here\n",
    "\n",
    "def validate_isbn(input, isbn = \"\"):\n",
    "\n",
    "    # stripping \"-\"\n",
    "    # idk\n",
    "\n",
    "    # check\n",
    "    \n",
    "    isbn_digit = [10, 9, 8, 7, 6, 5, 4, 3, 2]\n",
    "    sum = 0\n",
    "\n",
    "    for i in range(len(isbn) - 1):\n",
    "        sum += isbn_digit[i] * int(isbn[i])\n",
    "\n",
    "    r = sum % 11\n",
    "\n",
    "    last_char = \"\"\n",
    "\n",
    "    if r == 0:\n",
    "        last_char = \"0\"\n",
    "    elif r == 1:\n",
    "        last_char = \"X\"\n",
    "    else:\n",
    "        last_char = str(11 - r)\n",
    "\n",
    "    if isbn[-1] == last_char:\n",
    "        return True\n",
    "    return False"
   ]
  },
  {
   "cell_type": "code",
   "execution_count": 3,
   "metadata": {},
   "outputs": [
    {
     "ename": "IndexError",
     "evalue": "string index out of range",
     "output_type": "error",
     "traceback": [
      "\u001b[1;31m---------------------------------------------------------------------------\u001b[0m",
      "\u001b[1;31mIndexError\u001b[0m                                Traceback (most recent call last)",
      "Cell \u001b[1;32mIn[3], line 8\u001b[0m\n\u001b[0;32m      5\u001b[0m     \u001b[39mprint\u001b[39m(validate_isbn(\u001b[39m\"\u001b[39m\u001b[39m0-3873-7235-0\u001b[39m\u001b[39m\"\u001b[39m))  \u001b[39m# True\u001b[39;00m\n\u001b[0;32m      6\u001b[0m     \u001b[39mprint\u001b[39m(validate_isbn(\u001b[39m\"\u001b[39m\u001b[39m0-3873-7235-1\u001b[39m\u001b[39m\"\u001b[39m))  \u001b[39m# False\u001b[39;00m\n\u001b[1;32m----> 8\u001b[0m test_check_isbn()\n",
      "Cell \u001b[1;32mIn[3], line 3\u001b[0m, in \u001b[0;36mtest_check_isbn\u001b[1;34m()\u001b[0m\n\u001b[0;32m      2\u001b[0m \u001b[39mdef\u001b[39;00m \u001b[39mtest_check_isbn\u001b[39m():\n\u001b[1;32m----> 3\u001b[0m     \u001b[39mprint\u001b[39m(validate_isbn(\u001b[39m\"\u001b[39;49m\u001b[39m1-6673-7897-X\u001b[39;49m\u001b[39m\"\u001b[39;49m))  \u001b[39m# True\u001b[39;00m\n\u001b[0;32m      4\u001b[0m     \u001b[39mprint\u001b[39m(validate_isbn(\u001b[39m\"\u001b[39m\u001b[39m1-6673-7897-2\u001b[39m\u001b[39m\"\u001b[39m))  \u001b[39m# False\u001b[39;00m\n\u001b[0;32m      5\u001b[0m     \u001b[39mprint\u001b[39m(validate_isbn(\u001b[39m\"\u001b[39m\u001b[39m0-3873-7235-0\u001b[39m\u001b[39m\"\u001b[39m))  \u001b[39m# True\u001b[39;00m\n",
      "Cell \u001b[1;32mIn[2], line 27\u001b[0m, in \u001b[0;36mvalidate_isbn\u001b[1;34m(input, isbn)\u001b[0m\n\u001b[0;32m     24\u001b[0m \u001b[39melse\u001b[39;00m:\n\u001b[0;32m     25\u001b[0m     last_char \u001b[39m=\u001b[39m \u001b[39mstr\u001b[39m(\u001b[39m11\u001b[39m \u001b[39m-\u001b[39m r)\n\u001b[1;32m---> 27\u001b[0m \u001b[39mif\u001b[39;00m isbn[\u001b[39m-\u001b[39;49m\u001b[39m1\u001b[39;49m] \u001b[39m==\u001b[39m last_char:\n\u001b[0;32m     28\u001b[0m     \u001b[39mreturn\u001b[39;00m \u001b[39mTrue\u001b[39;00m\n\u001b[0;32m     29\u001b[0m \u001b[39mreturn\u001b[39;00m \u001b[39mFalse\u001b[39;00m\n",
      "\u001b[1;31mIndexError\u001b[0m: string index out of range"
     ]
    }
   ],
   "source": [
    "# test code for Task 1.1\n",
    "def test_check_isbn():\n",
    "    print(validate_isbn(\"1-6673-7897-X\"))  # True\n",
    "    print(validate_isbn(\"1-6673-7897-2\"))  # False\n",
    "    print(validate_isbn(\"0-3873-7235-0\"))  # True\n",
    "    print(validate_isbn(\"0-3873-7235-1\"))  # False\n",
    "\n",
    "test_check_isbn()"
   ]
  },
  {
   "cell_type": "markdown",
   "metadata": {},
   "source": [
    "# Task 1.2\n",
    "\n",
    "Implement class `Book` and `TYS` according to the UML class diagram and the attributes / methods specifications.\n",
    "\n",
    "<div style=\"text-align:right; font-weight:bold\">Marks: [9]</div>"
   ]
  },
  {
   "cell_type": "code",
   "execution_count": 7,
   "metadata": {},
   "outputs": [],
   "source": [
    "# Your code for Task 1.2 here\n",
    "\n",
    "class Book:\n",
    "    def __init__(self, title: str, author: str, isbn: str) -> None:\n",
    "        self._title = title\n",
    "        self._author = author\n",
    "        self._isbn = isbn\n",
    "    \n",
    "    # Accessors\n",
    "\n",
    "    def get_title(self):\n",
    "        return self._title\n",
    "    \n",
    "    def get_author(self):\n",
    "        return self._author\n",
    "    \n",
    "    def get_isbn(self):\n",
    "        return self._isbn\n",
    "    \n",
    "    # Mutators\n",
    "\n",
    "    def set_title(self, title: str):\n",
    "        self._title = title\n",
    "\n",
    "    def set_author(self, author: str):\n",
    "        self._author = author\n",
    "    \n",
    "    # str\n",
    "\n",
    "    def __str__(self) -> str:\n",
    "        return f\"|{self._title:<25}|{self._author:<20}|{self._isbn:<20}|\"\n",
    "\n",
    "class TYS:\n",
    "    def __init__(self, title: str, author: str, isbn: str, subject: str) -> None:\n",
    "        # Book.super()\n",
    "        self._subject = subject\n",
    "\n",
    "    # Accessors\n",
    "\n",
    "    def get_subject(self):\n",
    "        return self._subject\n",
    "    \n",
    "    # Mutators\n",
    "\n",
    "    def set_subject(self, subject: str):\n",
    "        self._subject = subject\n",
    "    \n",
    "    # str\n",
    "\n",
    "    def __str__(self) -> str:\n",
    "        return f\"|{self._title:<25}|{self._author:<20}|{self._isbn:<20}|{self._subject:<15}|\""
   ]
  },
  {
   "cell_type": "markdown",
   "metadata": {},
   "source": [
    "# Task 1.3\n",
    "\n",
    "Create `Book` and `TYS` objects based on the given data, and print them out. For this task, you do **NOT** need to print the header and the horizontal line.\n",
    "\n",
    "<div style=\"text-align:right; font-weight:bold\">Marks: [2]</div>"
   ]
  },
  {
   "cell_type": "code",
   "execution_count": 8,
   "metadata": {},
   "outputs": [],
   "source": [
    "# Create the following Book objects:\n",
    "# |Title                    |Author              |ISBN                |\n",
    "# ---------------------------------------------------------------------\n",
    "# |Python for Dummies       |Stef Maruch         |1-6673-7897-X       |\n",
    "# |To Kill a Mockingbird    |Harper Lee          |0-3873-7235-0       |\n",
    "\n",
    "# Create the following TYS objects:\n",
    "# |Title                    |Author              |ISBN                |Subject        |\n",
    "# -------------------------------------------------------------------------------------\n",
    "# |TYS for Computing        |Tan Ah Teck         |2-3487-6909-3       |Computing      |\n",
    "# |TYS for Calculus         |James Stewart       |4-4752-8244-6       |Mathematics    |"
   ]
  },
  {
   "cell_type": "code",
   "execution_count": 9,
   "metadata": {},
   "outputs": [
    {
     "name": "stdout",
     "output_type": "stream",
     "text": [
      "|Python for Dummies       |Stef Maruch         |1-6673-7897-X       |\n",
      "|To Kill a Mockingbird    |Harper Lee          |0-3873-7235-0       |\n"
     ]
    },
    {
     "ename": "AttributeError",
     "evalue": "'TYS' object has no attribute '_title'",
     "output_type": "error",
     "traceback": [
      "\u001b[1;31m---------------------------------------------------------------------------\u001b[0m",
      "\u001b[1;31mAttributeError\u001b[0m                            Traceback (most recent call last)",
      "Cell \u001b[1;32mIn[9], line 14\u001b[0m\n\u001b[0;32m     12\u001b[0m \u001b[39mprint\u001b[39m(book1)\n\u001b[0;32m     13\u001b[0m \u001b[39mprint\u001b[39m(book2)\n\u001b[1;32m---> 14\u001b[0m \u001b[39mprint\u001b[39;49m(tys1)\n\u001b[0;32m     15\u001b[0m \u001b[39mprint\u001b[39m(tys2)\n",
      "Cell \u001b[1;32mIn[7], line 51\u001b[0m, in \u001b[0;36mTYS.__str__\u001b[1;34m(self)\u001b[0m\n\u001b[0;32m     50\u001b[0m \u001b[39mdef\u001b[39;00m \u001b[39m__str__\u001b[39m(\u001b[39mself\u001b[39m) \u001b[39m-\u001b[39m\u001b[39m>\u001b[39m \u001b[39mstr\u001b[39m:\n\u001b[1;32m---> 51\u001b[0m     \u001b[39mreturn\u001b[39;00m \u001b[39mf\u001b[39m\u001b[39m\"\u001b[39m\u001b[39m|\u001b[39m\u001b[39m{\u001b[39;00m\u001b[39mself\u001b[39;49m\u001b[39m.\u001b[39;49m_title\u001b[39m:\u001b[39;00m\u001b[39m<25\u001b[39m\u001b[39m}\u001b[39;00m\u001b[39m|\u001b[39m\u001b[39m{\u001b[39;00m\u001b[39mself\u001b[39m\u001b[39m.\u001b[39m_author\u001b[39m:\u001b[39;00m\u001b[39m<20\u001b[39m\u001b[39m}\u001b[39;00m\u001b[39m|\u001b[39m\u001b[39m{\u001b[39;00m\u001b[39mself\u001b[39m\u001b[39m.\u001b[39m_isbn\u001b[39m:\u001b[39;00m\u001b[39m<20\u001b[39m\u001b[39m}\u001b[39;00m\u001b[39m|\u001b[39m\u001b[39m{\u001b[39;00m\u001b[39mself\u001b[39m\u001b[39m.\u001b[39m_subject\u001b[39m:\u001b[39;00m\u001b[39m<15\u001b[39m\u001b[39m}\u001b[39;00m\u001b[39m|\u001b[39m\u001b[39m\"\u001b[39m\n",
      "\u001b[1;31mAttributeError\u001b[0m: 'TYS' object has no attribute '_title'"
     ]
    }
   ],
   "source": [
    "# Your code for Task 1.3 here\n",
    "# Create Book and TYS objects\n",
    "\n",
    "book1 = Book(\"Python for Dummies\", \"Stef Maruch\", \"1-6673-7897-X\")\n",
    "book2 = Book(\"To Kill a Mockingbird\", \"Harper Lee\", \"0-3873-7235-0\")\n",
    "\n",
    "tys1 = TYS(\"TYS for Computing\", \"Tan Ah Teck\", \"2-3487-6909-3\", \"Computing\")\n",
    "tys2 = TYS(\"TYS for Calculus\", \"James Stewart\", \"4-4752-8244-6\", \"Mathematics\")\n",
    "\n",
    "# Use print statement to print out the above objects created\n",
    "\n",
    "print(book1)\n",
    "print(book2)\n",
    "print(tys1)\n",
    "print(tys2)"
   ]
  },
  {
   "cell_type": "markdown",
   "metadata": {},
   "source": [
    "# Task 1.4\n",
    "\n",
    "Implement class `BookShelf` according to the UML class diagram and the attributes / methods specifications.\n",
    "\n",
    "<div style=\"text-align:right; font-weight:bold\">Marks: [2]</div>"
   ]
  },
  {
   "cell_type": "code",
   "execution_count": 11,
   "metadata": {},
   "outputs": [],
   "source": [
    "# Your code for Task 1.4 here\n",
    "\n",
    "class BookShelf:\n",
    "    def __init__(self, cat: str, books: list = []) -> None:\n",
    "        self._cat = cat\n",
    "        self._books = books\n",
    "\n",
    "    def add_book(self, book):\n",
    "        self._books.append(book)\n",
    "\n",
    "    def __str__(self) -> str:\n",
    "        print(\"|{Title:<25}|{Author:<20}|{ISBN:<20}|{Details:<15}|\")\n",
    "        print(\"-------------------------------------------------------------------------------------\")\n",
    "        for book in self._books:\n",
    "            return(book)"
   ]
  },
  {
   "cell_type": "code",
   "execution_count": 12,
   "metadata": {},
   "outputs": [
    {
     "name": "stdout",
     "output_type": "stream",
     "text": [
      "|{Title:<25}|{Author:<20}|{ISBN:<20}|{Details:<15}|\n",
      "-------------------------------------------------------------------------------------\n"
     ]
    },
    {
     "ename": "TypeError",
     "evalue": "__str__ returned non-string (type TYS)",
     "output_type": "error",
     "traceback": [
      "\u001b[1;31m---------------------------------------------------------------------------\u001b[0m",
      "\u001b[1;31mTypeError\u001b[0m                                 Traceback (most recent call last)",
      "Cell \u001b[1;32mIn[12], line 25\u001b[0m\n\u001b[0;32m     20\u001b[0m         bs\u001b[39m.\u001b[39madd_book(book)\n\u001b[0;32m     22\u001b[0m     \u001b[39mprint\u001b[39m(bs)\n\u001b[1;32m---> 25\u001b[0m test_book_shelf()\n",
      "Cell \u001b[1;32mIn[12], line 22\u001b[0m, in \u001b[0;36mtest_book_shelf\u001b[1;34m()\u001b[0m\n\u001b[0;32m     19\u001b[0m \u001b[39mfor\u001b[39;00m book \u001b[39min\u001b[39;00m books:\n\u001b[0;32m     20\u001b[0m     bs\u001b[39m.\u001b[39madd_book(book)\n\u001b[1;32m---> 22\u001b[0m \u001b[39mprint\u001b[39;49m(bs)\n",
      "\u001b[1;31mTypeError\u001b[0m: __str__ returned non-string (type TYS)"
     ]
    }
   ],
   "source": [
    "# test code for Task 1.4\n",
    "def test_book_shelf():\n",
    "    bs = BookShelf(\"TYS\")\n",
    "    bs = BookShelf(\"TYS\")\n",
    "    book1 = TYS(\"TYS for Computing\", \"Tan Ah Teck\",\n",
    "                \"2-3487-6909-3\", \"Computing\")\n",
    "    book2 = TYS(\"TYS for Calculus\", \"James Stewart\",\n",
    "                \"4-4752-8244-6\", \"Mathematics\")\n",
    "    book3 = TYS(\"TYS for Physics\", \"Chia Suan Chong\",\n",
    "                \"6-6639-3891-6\", \"Physics\")\n",
    "    book4 = TYS(\"TYS for Chemistry\", \"John Green\",\n",
    "                \"5-8141-9694-7\", \"Chemistry\")\n",
    "    book5 = TYS(\"TYS for Biology\", \"Lim Ah Lian\", \"1-8387-0895-2\", \"Biology\")\n",
    "    book6 = TYS(\"TYS for Economics\", \"Chew Ah Meng\",\n",
    "                \"8-0511-9141-2\", \"Economics\")\n",
    "\n",
    "    books = [book1, book2, book3, book4, book5, book6]\n",
    "\n",
    "    for book in books:\n",
    "        bs.add_book(book)\n",
    "\n",
    "    print(bs)\n",
    "\n",
    "\n",
    "test_book_shelf()"
   ]
  },
  {
   "cell_type": "markdown",
   "metadata": {},
   "source": [
    "## Task 2 - Count Upper- and Lower-Case Letters (Recursion)\n",
    "\n",
    "### Description\n",
    "\n",
    "Implement a **recursive** function `count_case()` which takes in a string `s`, such as `\"I Love Computing!\"`, count the number of upper and lower case alphabets and return in a `list` format: `[3, 11]`.\n",
    "\n",
    "### ~ Evidence 2 ~\n",
    "\n",
    "- Program code of function `count_case()`.\n",
    "- You will also be assessed, but not limited to, based on the standard output of the following function calls.\n",
    "    - `count_case(\"I Love H2 Computing!\")`\n",
    "    - `count_case(\"Today is a beautiful day!\"))`\n",
    "\n",
    "<div style=\"text-align:right; font-weight:bold\">Marks: [2]</div>"
   ]
  },
  {
   "cell_type": "code",
   "execution_count": null,
   "metadata": {},
   "outputs": [],
   "source": [
    "# Your code for Task 2\n",
    "\n",
    "def count_case(s, upper = 0, lower = 0):\n",
    "    if len(s) <= 0:\n",
    "        return [upper, lower]\n",
    "    \n",
    "    elif s[-1].isupper():\n",
    "        count_case(s[:-1], upper + 1, lower)\n",
    "\n",
    "    elif s[-1].islower():\n",
    "        count_case(s[:-1], upper, lower + 1)\n",
    "\n",
    "    else:\n",
    "        count_case(s[:-1], upper, lower)"
   ]
  },
  {
   "cell_type": "code",
   "execution_count": null,
   "metadata": {},
   "outputs": [
    {
     "name": "stdout",
     "output_type": "stream",
     "text": [
      "None\n",
      "None\n"
     ]
    }
   ],
   "source": [
    "# Test cases for Task 2\n",
    "print(count_case(\"I Love Computing!\"))  # [3, 11]\n",
    "print(count_case(\"Today is a beautiful day!\"))  # [1, 19]"
   ]
  }
 ],
 "metadata": {
  "kernelspec": {
   "display_name": "Python 3 (ipykernel)",
   "language": "python",
   "name": "python3"
  },
  "language_info": {
   "codemirror_mode": {
    "name": "ipython",
    "version": 3
   },
   "file_extension": ".py",
   "mimetype": "text/x-python",
   "name": "python",
   "nbconvert_exporter": "python",
   "pygments_lexer": "ipython3",
   "version": "3.11.5"
  }
 },
 "nbformat": 4,
 "nbformat_minor": 2
}
