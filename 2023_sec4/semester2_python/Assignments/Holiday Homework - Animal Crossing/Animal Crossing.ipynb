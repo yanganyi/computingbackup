{
 "cells": [
  {
   "cell_type": "code",
   "execution_count": null,
   "metadata": {},
   "outputs": [],
   "source": [
    "# Task 1.1\n"
   ]
  },
  {
   "cell_type": "code",
   "execution_count": null,
   "metadata": {},
   "outputs": [],
   "source": [
    "# Task 1.2\n"
   ]
  },
  {
   "cell_type": "code",
   "execution_count": null,
   "metadata": {},
   "outputs": [],
   "source": [
    "# Test\n",
    "m = Map(10, 20)\n",
    "\n",
    "# Add 5 rock objects\n",
    "m.add_new_obj(AC_Object(\"Rock\", \"*\"), 0, 0)\n",
    "m.add_new_obj(AC_Object(\"Rock\", \"*\"), 2, 3)\n",
    "m.add_new_obj(AC_Object(\"Rock\", \"*\"), 0, 18)\n",
    "m.add_new_obj(AC_Object(\"Rock\", \"*\"), 8, 12)\n",
    "\n",
    "# Attempt to add 1 Tree and 2 flowers\n",
    "m.add_new_obj(Plant(\"Apple Tree\", \"tree\", \"Y\", 4), 4, 5)\n",
    "m.add_new_obj(Plant(\"Rose\", \"flower\", \"v\", 3), 4, 5)\n",
    "m.add_new_obj(Plant(\"Lily\", \"flower\", \"v\", 3), 7, 9)\n",
    "\n",
    "\n",
    "for i in range(5):\n",
    "    print(\"Day {}:\".format(i))\n",
    "    m.display()\n",
    "    m.pass_a_day()"
   ]
  }
 ],
 "metadata": {
  "kernelspec": {
   "display_name": "Python 3",
   "language": "python",
   "name": "python3"
  },
  "language_info": {
   "codemirror_mode": {
    "name": "ipython",
    "version": 3
   },
   "file_extension": ".py",
   "mimetype": "text/x-python",
   "name": "python",
   "nbconvert_exporter": "python",
   "pygments_lexer": "ipython3",
   "version": "3.6.4"
  }
 },
 "nbformat": 4,
 "nbformat_minor": 4
}
