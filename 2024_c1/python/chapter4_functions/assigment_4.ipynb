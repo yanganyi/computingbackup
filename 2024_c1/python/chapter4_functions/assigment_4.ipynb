{
 "cells": [
  {
   "cell_type": "markdown",
   "metadata": {},
   "source": [
    "# Question 1"
   ]
  },
  {
   "cell_type": "code",
   "execution_count": null,
   "metadata": {},
   "outputs": [],
   "source": []
  },
  {
   "cell_type": "markdown",
   "metadata": {},
   "source": [
    "# Question 2"
   ]
  },
  {
   "cell_type": "code",
   "execution_count": null,
   "metadata": {},
   "outputs": [],
   "source": []
  },
  {
   "cell_type": "markdown",
   "metadata": {},
   "source": [
    "# Question 3\n",
    "\n",
    "Write a program that asks the user to enter 3 test scores. The program should display a letter grade for each score and the average test score. Write the following functions in the program:\n",
    "\n",
    "1. calc_average -- This function should accept three test scores as arguments\n",
    "and return the average of the scores.\n",
    "2. determine_grade -- This function should accept a test score as an argument and return a letter grade for the score, based on the following grading scale:"
   ]
  },
  {
   "cell_type": "code",
   "execution_count": null,
   "metadata": {},
   "outputs": [],
   "source": [
    "score_1 = int(input(\"Enter score 1: \"))\n",
    "score_2 = int(input(\"Enter score 2: \"))\n",
    "score_3 = int(input(\"Enter score 3: \"))\n",
    "\n",
    "def calc_average(score_1, score_2, score_3):\n",
    "    return (score_1 + score_2 + score_3) / 3\n",
    "\n",
    "def determine_grade(score):\n",
    "    if score in range(90, 101):\n",
    "        return \"A\"\n",
    "    elif score in range(80, 90):\n",
    "        return \"B\"\n",
    "    elif score in range(70, 80):\n",
    "        return \"C\"\n",
    "    elif score in range(60, 70):\n",
    "        return \"D\"\n",
    "    else:\n",
    "        return \"F\""
   ]
  },
  {
   "cell_type": "markdown",
   "metadata": {},
   "source": [
    "# Question 4\n",
    "\n",
    "Write a menu-driven automatic teller program in which the user’s bank balance is initialized to $1,000. The user should be allowed to perform as many transactions as he or she wishes from the menu.\n",
    "\n",
    "1. Deposit\n",
    "2. Withdrawal\n",
    "3. See balance\n",
    "4. Quit\n",
    "\n",
    "For the withdrawal option, the user should be prompted to select from the choices $50, $100, $200, and $500. (Do not allow user to overdraw.) After each transaction, the program should print the current balance. On exiting, the program should print a courteous message. In this program, design a function for each option."
   ]
  },
  {
   "cell_type": "code",
   "execution_count": null,
   "metadata": {},
   "outputs": [],
   "source": []
  }
 ],
 "metadata": {
  "kernelspec": {
   "display_name": "Python 3",
   "language": "python",
   "name": "python3"
  },
  "language_info": {
   "name": "python",
   "version": "3.11.8"
  }
 },
 "nbformat": 4,
 "nbformat_minor": 2
}
