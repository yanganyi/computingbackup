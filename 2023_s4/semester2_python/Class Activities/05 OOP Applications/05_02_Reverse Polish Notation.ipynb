{
 "cells": [
  {
   "cell_type": "markdown",
   "metadata": {},
   "source": [
    "# 05_02 - Reverse Polish Notation (RPN)\n",
    "\n",
    "## Understanding Goals\n",
    "\n",
    "At the end of this chapter, you should be able to:\n",
    "- Understand the concept of RPN\n",
    "- Understand the difference between infix and postfix notation\n",
    "- Apply the stack and queue data structure to solve RPN problems\n",
    "- Implement a RPN calculator in python"
   ]
  },
  {
   "cell_type": "markdown",
   "metadata": {},
   "source": [
    "# Section 1 - Introduction\n",
    "\n",
    "## _1.1 What is Reverse Polish Notation?_\n",
    "\n",
    "A Mathematics expression are formed by operators and operands. \n",
    "\n",
    "For example, `2 + 3` is a Mathematics expression. In this expression, `2` and `3` are operands and `+` is an operator.\n",
    "\n",
    "Mathematics expression can be expressed in 3 different notations:\n",
    "- Infix notation: `2 + 3`\n",
    "- Prefix notation: `+ 2 3`\n",
    "- Postfix notation: `2 3 +`\n",
    "\n",
    "Postfix notation is also known as Reverse Polish Notation (RPN). It is a mathematical notation in which every operator follows all of its operands. It does not need any parentheses as long as each operator has a fixed number of operands.\n",
    "\n",
    "## _1.2 Why Reverse Polish Notation?_\n",
    "\n",
    "The advantage of Reverse Polish Notation is that it removes the need for order of operations and parentheses that are required by infix notation and can be evaluated linearly, from left to right.\n",
    "\n",
    "For example, the infix expression `2 * 3 + 4` can be written as `2 3 * 4 +` in RPN. The order of operations is preserved since multiplication is done before addition. An RPN expression is evaluated from left to right, so the first two operands, `2` and `3`, are multiplied, and then the fourth operand, `4`, is added to the product.\n",
    "\n",
    "In this lesson, we will learn:\n",
    "1. How to evaluate an RPN expression\n",
    "2. How to convert an infix expression to RPN\n",
    "3. (Advanced) How to convert an infix expression with brackets to RPN\n"
   ]
  },
  {
   "cell_type": "markdown",
   "metadata": {},
   "source": [
    "# Section 2 - Evaluating RPN Expressions\n",
    "\n",
    "## _2.1 - Evaluating RPN Expressions using pen and paper_\n",
    "\n",
    "Evaluate the following RPN expressions using pen and paper.  You may use a calculator to check your answers.\n"
   ]
  },
  {
   "cell_type": "code",
   "execution_count": 3,
   "metadata": {},
   "outputs": [
    {
     "data": {
      "text/plain": [
       "'4 5 + 5 2 - 2 3 * + -'"
      ]
     },
     "execution_count": 3,
     "metadata": {},
     "output_type": "execute_result"
    }
   ],
   "source": [
    "\"3 4 5 + -\"\n",
    "# your answer: \n",
    "\n",
    "\"12 3 4 + *\"\n",
    "# your answer: \n",
    "\n",
    "\"1 3 + 3 5 * *\"\n",
    "# your answer: \n",
    "\n",
    "\"4 5 + 5 2 - 2 3 * + -\"\n",
    "# your answer: "
   ]
  },
  {
   "cell_type": "markdown",
   "metadata": {},
   "source": [
    "## _2.2 - Evaluating RPN Expressions using a Stack in Python_\n",
    "\n",
    "We shall now implement a function that evaluates an RPN expression. The function will take a string as input and return the result of the expression. \n",
    "\n",
    "For example, given the string `\"3 4 5 + -\"`, the function should return `-6` as the result.\n",
    "\n",
    "For this exercise, you may assume:\n",
    "- only basic arithmetic operations (`+`, `-`, `*`, `/`) will be performed on the numbers.\n",
    "- no parentheses will be used.\n",
    "- cast all numbers to floats, as the result may not be an integer.\n",
    "- and all inputs are valid rpn strings."
   ]
  },
  {
   "cell_type": "code",
   "execution_count": 4,
   "metadata": {},
   "outputs": [],
   "source": [
    "# The following classes of Stack and Queue are are provided for your convenience.\n",
    "# Please run this cell once before proceeding.\n",
    "class Stack:\n",
    "\n",
    "    # Do not change the code in class Stack\n",
    "    def __init__(self):\n",
    "        self.stack = []\n",
    "\n",
    "    def push(self, data):\n",
    "        self.stack.append(data)\n",
    "\n",
    "    def pop(self):\n",
    "        if len(self.stack) > 0:\n",
    "            return self.stack.pop()\n",
    "        else:\n",
    "            return None\n",
    "\n",
    "    def peek(self):\n",
    "        if len(self.stack) > 0:\n",
    "            return self.stack[-1]\n",
    "        else:\n",
    "            return None\n",
    "\n",
    "\n",
    "class Queue:\n",
    "\n",
    "    # Do not change the code in class Queue\n",
    "    def __init__(self):\n",
    "        self.queue = []\n",
    "\n",
    "    def enqueue(self, data):\n",
    "        self.queue.append(data)\n",
    "\n",
    "    def dequeue(self):\n",
    "        if len(self.queue) > 0:\n",
    "            return self.queue.pop(0)\n",
    "        else:\n",
    "            return None\n",
    "\n",
    "    def peek(self):\n",
    "        if len(self.queue) > 0:\n",
    "            return self.queue[0]\n",
    "        else:\n",
    "            return None"
   ]
  },
  {
   "cell_type": "code",
   "execution_count": 5,
   "metadata": {},
   "outputs": [],
   "source": [
    "# your code here\n",
    "def eval_rpn(rpn):\n",
    "    rpn_list = rpn.split(\" \")\n",
    "    rpn_stack = Stack()\n",
    "    \n",
    "    for char in rpn_list:\n",
    "        try:\n",
    "            float(char)\n",
    "        \n",
    "        except:\n",
    "            num1 = rpn_stack.pop()\n",
    "            num2 = rpn_stack.pop()\n",
    "            rpn_stack.push(eval(f\"{num2} {char} {num1}\"))\n",
    "            \n",
    "        else:\n",
    "            rpn_stack.push(char)\n",
    "    \n",
    "    return rpn_stack.pop()"
   ]
  },
  {
   "cell_type": "code",
   "execution_count": 6,
   "metadata": {},
   "outputs": [
    {
     "name": "stdout",
     "output_type": "stream",
     "text": [
      "-6\n",
      "84\n",
      "60\n",
      "0\n",
      "1.25\n",
      "65\n",
      "15\n",
      "3.0\n",
      "17.25\n",
      "-1.95\n",
      "19.19\n"
     ]
    }
   ],
   "source": [
    "def test_eval_rpn():\n",
    "    print(eval_rpn(\"3 4 5 + -\"))  # -6.0\n",
    "    print(eval_rpn(\"12 3 4 + *\"))  # 84.0\n",
    "    print(eval_rpn(\"1 3 + 3 5 * *\"))  # 60.0\n",
    "    print(eval_rpn(\"4 5 + 5 2 - 2 3 * + -\"))  # 0.0\n",
    "\n",
    "    print(eval_rpn(\"2 3 4 / -\"))  # 1.25\n",
    "    print(eval_rpn(\"5 6 7 + *\"))  # 65.0\n",
    "    print(eval_rpn(\"1 2 3 4 5 + + + +\"))  # 15.0\n",
    "    print(eval_rpn(\"2 2 2 / - 2 +\"))  # 3.0\n",
    "\n",
    "    print(eval_rpn(\"2.3 3.5 4.0 + *\"))  # 17.25\n",
    "    print(eval_rpn(\"1.6 2.3 + 3.5 4 - *\"))  # -1.95\n",
    "    print(eval_rpn(\"7.5 2.2 3.4 + - 4.5 5.6 + *\"))  # 19.19\n",
    "\n",
    "test_eval_rpn()"
   ]
  },
  {
   "cell_type": "markdown",
   "metadata": {},
   "source": [
    "# Section 3 - Convert Infix Notation to Reverse Polish Notation\n",
    "\n",
    "## _3.1 - Convert Infix to RPN using pen and paper_\n",
    "\n",
    "Convert the following Infix expressions to RPN expressions using pen and paper.\n"
   ]
  },
  {
   "cell_type": "code",
   "execution_count": 7,
   "metadata": {},
   "outputs": [],
   "source": [
    "# \"3 + 6 * 8\"\n",
    "# Your answer: \n",
    "\n",
    "# \"5 + 7 * 5 - 30\"\n",
    "# Your answer: \n",
    "\n",
    "# \"10 - 4 + 3 / 2 * 6\"\n",
    "# Your answer: \n"
   ]
  },
  {
   "cell_type": "markdown",
   "metadata": {},
   "source": [
    "## _3.2 - Convert Infix to RPN using Stack and Queue in Python_\n",
    "\n",
    "We shall now implement a function that converts an Infix expression to RPN expression. The function will take an infix string as input and return a rpn string as output.\n",
    "\n",
    "For example, given the string `\"3 * 4 - 5\"`, the function should return `\"3 4 * 5 -\"` as output.\n",
    "\n",
    "For this exercise, you may assume:\n",
    "- only basic arithmetic operations (`+`, `-`, `*`, `/`) will be performed on the numbers.\n",
    "- no parentheses will be used.\n",
    "- and all inputs are valid infix strings."
   ]
  },
  {
   "cell_type": "code",
   "execution_count": 8,
   "metadata": {},
   "outputs": [],
   "source": [
    "# your code here\n",
    "def infix_to_rpn(infix):\n",
    "    pass\n"
   ]
  },
  {
   "cell_type": "code",
   "execution_count": 9,
   "metadata": {},
   "outputs": [
    {
     "name": "stdout",
     "output_type": "stream",
     "text": [
      "None\n",
      "None\n",
      "None\n",
      "None\n",
      "None\n",
      "None\n",
      "None\n",
      "None\n"
     ]
    }
   ],
   "source": [
    "def test_infix_to_rpn():\n",
    "    print(infix_to_rpn(\"3 + 6 * 8\"))  # \"3 6 8 * +\"\n",
    "    print(infix_to_rpn(\"5 + 7 * 5 - 30\"))  # \"5 7 5 * + 30 -\"\n",
    "    print(infix_to_rpn(\"10 - 4 + 3 / 2 * 6\"))  # \"10 4 - 3 2 / 6 * +\"\n",
    "    print(infix_to_rpn(\"4 / 3 + 5 * 7 - 50\"))  # \"4 3 / 5 7 * + 50 -\"\n",
    "\n",
    "    print(infix_to_rpn(\"11 + 2 * 3 - 4 / 5\"))  # \"11 2 3 * + 4 5 / -\"\n",
    "    print(infix_to_rpn(\"-21 * 2 * 3 - 44 * 5 / 6\"))  # \"-21 2 * 3 * 44 5 * 6 / -\"\n",
    "    print(infix_to_rpn(\"1.2 + 3.4 * 5.6 - 7.8 / 9.0\"))  # \"1.2 3.4 5.6 * + 7.8 9.0 / -\"\n",
    "    print(infix_to_rpn(\"2.1 - 3.2 * 4.3 / 5.4 - 6.5\"))  # \"2.1 3.2 4.3 * 5.4 / - 6.5 -\"\n",
    "\n",
    "test_infix_to_rpn()"
   ]
  },
  {
   "cell_type": "code",
   "execution_count": 10,
   "metadata": {},
   "outputs": [
    {
     "name": "stdout",
     "output_type": "stream",
     "text": [
      "rpn: None\n"
     ]
    },
    {
     "ename": "AttributeError",
     "evalue": "'NoneType' object has no attribute 'split'",
     "output_type": "error",
     "traceback": [
      "\u001b[1;31m---------------------------------------------------------------------------\u001b[0m",
      "\u001b[1;31mAttributeError\u001b[0m                            Traceback (most recent call last)",
      "Cell \u001b[1;32mIn[10], line 21\u001b[0m\n\u001b[0;32m     17\u001b[0m     \u001b[39mprint\u001b[39m(eval_infix(\u001b[39m\"\u001b[39m\u001b[39m1.2 + 3.4 * 5.6 - 7.8 / 9.0\u001b[39m\u001b[39m\"\u001b[39m))  \u001b[39m# 19.37\u001b[39;00m\n\u001b[0;32m     18\u001b[0m     \u001b[39mprint\u001b[39m(eval_infix(\u001b[39m\"\u001b[39m\u001b[39m2.1 - 3.2 * 4.3 / 5.4 - 6.5\u001b[39m\u001b[39m\"\u001b[39m))  \u001b[39m# -6.95\u001b[39;00m\n\u001b[1;32m---> 21\u001b[0m test_eval_infix()\n",
      "Cell \u001b[1;32mIn[10], line 10\u001b[0m, in \u001b[0;36mtest_eval_infix\u001b[1;34m()\u001b[0m\n\u001b[0;32m      9\u001b[0m \u001b[39mdef\u001b[39;00m \u001b[39mtest_eval_infix\u001b[39m():\n\u001b[1;32m---> 10\u001b[0m     \u001b[39mprint\u001b[39m(eval_infix(\u001b[39m\"\u001b[39;49m\u001b[39m3 + 6 * 8\u001b[39;49m\u001b[39m\"\u001b[39;49m))  \u001b[39m# 51.0\u001b[39;00m\n\u001b[0;32m     11\u001b[0m     \u001b[39mprint\u001b[39m(eval_infix(\u001b[39m\"\u001b[39m\u001b[39m5 + 7 * 5 - 30\u001b[39m\u001b[39m\"\u001b[39m))  \u001b[39m# 10.0\u001b[39;00m\n\u001b[0;32m     12\u001b[0m     \u001b[39mprint\u001b[39m(eval_infix(\u001b[39m\"\u001b[39m\u001b[39m10 - 4 + 3 / 2 * 6\u001b[39m\u001b[39m\"\u001b[39m))  \u001b[39m# 15.0\u001b[39;00m\n",
      "Cell \u001b[1;32mIn[10], line 5\u001b[0m, in \u001b[0;36meval_infix\u001b[1;34m(infix)\u001b[0m\n\u001b[0;32m      3\u001b[0m rpn \u001b[39m=\u001b[39m infix_to_rpn(infix)\n\u001b[0;32m      4\u001b[0m \u001b[39mprint\u001b[39m(\u001b[39m\"\u001b[39m\u001b[39mrpn:\u001b[39m\u001b[39m\"\u001b[39m, rpn)\n\u001b[1;32m----> 5\u001b[0m result \u001b[39m=\u001b[39m \u001b[39mround\u001b[39m(eval_rpn(rpn), \u001b[39m2\u001b[39m)\n\u001b[0;32m      6\u001b[0m \u001b[39mreturn\u001b[39;00m result\n",
      "Cell \u001b[1;32mIn[5], line 3\u001b[0m, in \u001b[0;36meval_rpn\u001b[1;34m(rpn)\u001b[0m\n\u001b[0;32m      2\u001b[0m \u001b[39mdef\u001b[39;00m \u001b[39meval_rpn\u001b[39m(rpn):\n\u001b[1;32m----> 3\u001b[0m     rpn_list \u001b[39m=\u001b[39m rpn\u001b[39m.\u001b[39;49msplit(\u001b[39m\"\u001b[39m\u001b[39m \u001b[39m\u001b[39m\"\u001b[39m)\n\u001b[0;32m      4\u001b[0m     rpn_stack \u001b[39m=\u001b[39m Stack()\n\u001b[0;32m      6\u001b[0m     \u001b[39mfor\u001b[39;00m char \u001b[39min\u001b[39;00m rpn_list:\n",
      "\u001b[1;31mAttributeError\u001b[0m: 'NoneType' object has no attribute 'split'"
     ]
    }
   ],
   "source": [
    "def eval_infix(infix):\n",
    "    # keep output to 2 decimal places\n",
    "    rpn = infix_to_rpn(infix)\n",
    "    print(\"rpn:\", rpn)\n",
    "    result = round(eval_rpn(rpn), 2)\n",
    "    return result\n",
    "\n",
    "\n",
    "def test_eval_infix():\n",
    "    print(eval_infix(\"3 + 6 * 8\"))  # 51.0\n",
    "    print(eval_infix(\"5 + 7 * 5 - 30\"))  # 10.0\n",
    "    print(eval_infix(\"10 - 4 + 3 / 2 * 6\"))  # 15.0\n",
    "    print(eval_infix(\"4 / 3 + 5 * 7 - 50\"))  # -13.67\n",
    "\n",
    "    print(eval_infix(\"11 + 2 * 3 - 4 / 5\"))  # 16.20\n",
    "    print(eval_infix(\"-21 * 2 * 3 - 44 * 5 / 6\"))  # -162.67\n",
    "    print(eval_infix(\"1.2 + 3.4 * 5.6 - 7.8 / 9.0\"))  # 19.37\n",
    "    print(eval_infix(\"2.1 - 3.2 * 4.3 / 5.4 - 6.5\"))  # -6.95\n",
    "\n",
    "\n",
    "test_eval_infix()"
   ]
  },
  {
   "cell_type": "markdown",
   "metadata": {},
   "source": [
    "# [Challenge by Choice] \n",
    "# Section 4 - Conversion with Parentheses\n",
    "\n",
    "## _4.1 - Convert Infix to RPN using pen and paper_\n",
    "\n",
    "Convert the following Infix expressions to RPN expressions using pen and paper."
   ]
  },
  {
   "cell_type": "code",
   "execution_count": null,
   "metadata": {},
   "outputs": [],
   "source": [
    "\"( 3 + 6 ) * 8\"\n",
    "# Your answer: \n",
    "\n",
    "\"( 5 + 7 ) * 5 - 30\"\n",
    "# Your answer: \n",
    "\n",
    "\"( 10 - ( 4 + 3 ) ) / 2 * 6\"\n",
    "# Your answer: "
   ]
  },
  {
   "cell_type": "markdown",
   "metadata": {},
   "source": [
    "## _4.2 - Convert Infix to RPN using Stack and Queue in Python_\n",
    "\n",
    "We shall now implement a function that converts an Infix expression to RPN expression. The function will take an infix string as input and return a rpn string as output.\n",
    "\n",
    "For example, given the string `\"( 3 + 6 ) * 8\"`, the function should return `\"3 6 + 8 *\"` as output.\n",
    "\n",
    "For this exercise, you may assume:\n",
    "- parentheses are always balanced\n",
    "- and all inputs are valid infix strings."
   ]
  },
  {
   "cell_type": "code",
   "execution_count": null,
   "metadata": {},
   "outputs": [],
   "source": [
    "# Your code here\n",
    "def infix_to_rpn2(infix):\n",
    "    pass"
   ]
  },
  {
   "cell_type": "code",
   "execution_count": null,
   "metadata": {},
   "outputs": [],
   "source": [
    "def test_infix_to_rpn2():\n",
    "    print(infix_to_rpn2(\"( 3 + 6 ) * 8\"))  # \"3 6 + 8 *\"\n",
    "    print(infix_to_rpn2(\"( 5 + 7 ) * 5 - 30\"))  # \"5 7 + 5 * 30 -\"\n",
    "    print(infix_to_rpn2(\"( 10 - ( 4 + 3 ) ) / 2 * 6\"))  # \"10 4 3 + - 2 / 6 *\"\n",
    "    print(infix_to_rpn2(\"11 + 3 * 5 / ( 2 + 3 )\"))  # \"11 3 5 * 2 3 + / +\"\n",
    "\n",
    "test_infix_to_rpn2()"
   ]
  },
  {
   "cell_type": "code",
   "execution_count": null,
   "metadata": {},
   "outputs": [],
   "source": [
    "def eval_infix2(infix):\n",
    "    # keep output to 2 decimal places\n",
    "    rpn = infix_to_rpn2(infix)\n",
    "    print(\"rpn:\", rpn)\n",
    "    result = round(eval_rpn2(rpn), 2)\n",
    "    return result\n",
    "\n",
    "def test_eval_infix2():\n",
    "    print(eval_infix2(\"( 3 + 6 ) * 8\"))  # 72.0\n",
    "    print(eval_infix2(\"( 5 + 7 ) * 5 - 30\"))  # 30.0\n",
    "    print(eval_infix2(\"( 10 - ( 4 + 3 ) ) / 2 * 6\"))  # 9.0\n",
    "    print(eval_infix2(\"11 + 3 * 5 / ( 2 + 3 )\"))  # 14.0\n",
    "\n",
    "test_eval_infix2()"
   ]
  }
 ],
 "metadata": {
  "kernelspec": {
   "display_name": "Python 3 (ipykernel)",
   "language": "python",
   "name": "python3"
  },
  "language_info": {
   "codemirror_mode": {
    "name": "ipython",
    "version": 3
   },
   "file_extension": ".py",
   "mimetype": "text/x-python",
   "name": "python",
   "nbconvert_exporter": "python",
   "pygments_lexer": "ipython3",
   "version": "3.11.4"
  }
 },
 "nbformat": 4,
 "nbformat_minor": 4
}
