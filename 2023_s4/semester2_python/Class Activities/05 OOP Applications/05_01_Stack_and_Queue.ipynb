{
 "cells": [
  {
   "attachments": {},
   "cell_type": "markdown",
   "metadata": {},
   "source": [
    "# 05_01 - Stack and Queue\n",
    "\n",
    "## Understanding Goals\n",
    "\n",
    "At the end of this chapter, you should be able to:\n",
    "- Understand the concept of stack and queue\n",
    "- Able to implement stack and queue using Python\n"
   ]
  },
  {
   "attachments": {},
   "cell_type": "markdown",
   "metadata": {},
   "source": [
    "# Section 1 - Introduction to Stack and Queue\n",
    "\n",
    "## _1.1 Stack_\n",
    "\n",
    "Stack is a data structure that follows the principle of **Last In First Out (LIFO)**. This means that the last element that is inserted into the stack will be the first element to be removed from the stack. The insertion of an element into the stack is called `push` operation, while the removal of an element from the stack is called `pop` operation."
   ]
  },
  {
   "attachments": {},
   "cell_type": "markdown",
   "metadata": {},
   "source": [
    "### ~ Example ~\n",
    "\n",
    "Implement a `Stack` class with the following methods:\n",
    "- `is_empty()` - check if the stack is empty\n",
    "- `size()` - return the number of elements in the stack\n",
    "- `peek()` - return the most recently added element without removing it\n",
    "- `push()` - insert an element into the stack\n",
    "- `pop()` - remove the most recently added element\n"
   ]
  },
  {
   "cell_type": "code",
   "execution_count": 3,
   "metadata": {},
   "outputs": [],
   "source": [
    "# Your code here\n",
    "\n",
    "class Stack:\n",
    "    def __init__(self):\n",
    "        self.stack = []\n",
    "        \n",
    "    def is_empty(self):\n",
    "        return self.stack == []\n",
    "    \n",
    "    def size(self):\n",
    "        return len(self.stack)\n",
    "    \n",
    "    def peek(self):\n",
    "        if self.is_empty():\n",
    "            return None\n",
    "        return self.stack[-1]\n",
    "        \n",
    "    def push(self, item):\n",
    "        self.stack.append(item)\n",
    "        \n",
    "    def pop(self):\n",
    "        if self.is_empty():\n",
    "            return None\n",
    "        return self.stack.pop()"
   ]
  },
  {
   "cell_type": "code",
   "execution_count": 4,
   "metadata": {},
   "outputs": [
    {
     "name": "stdout",
     "output_type": "stream",
     "text": [
      "Stack is empty: False\n",
      "Stack size: 3\n",
      "Top element: 15\n",
      "Value popped: 15\n",
      "After popping, top element: 20\n"
     ]
    }
   ],
   "source": [
    "# Example usage:\n",
    "stack = Stack()\n",
    "stack.push(10)\n",
    "stack.push(20)\n",
    "stack.push(15)\n",
    "\n",
    "print(\"Stack is empty:\", stack.is_empty())  # Output: False\n",
    "print(\"Stack size:\", stack.size())  # Output: 3\n",
    "print(\"Top element:\", stack.peek())  # Output: 15\n",
    "\n",
    "value = stack.pop()\n",
    "print(\"Value popped:\", value)  # Output: 15\n",
    "print(\"After popping, top element:\", stack.peek())  # Output: 20"
   ]
  },
  {
   "cell_type": "markdown",
   "metadata": {},
   "source": [
    "## _1.1 Queue_\n",
    "\n",
    "Queue is a data structure that follows the **First In First Out (FIFO)** principle. It has two ends, front and rear. The rear is used to insert data and the front is used to remove data. \n",
    "\n",
    "The insertion operation is called `enqueue` and the removal operation is called `dequeue`. The `enqueue` operation inserts an element at the rear of the queue and the `dequeue` operation removes an element from the front of the queue."
   ]
  },
  {
   "cell_type": "markdown",
   "metadata": {},
   "source": [
    "### ~ Example ~\n",
    "\n",
    "Implement a `Queue` class with the following methods:\n",
    "\n",
    "- `is_empty()` - returns `True` if the queue is empty, `False` otherwise\n",
    "- `size()` - returns the number of items in the queue\n",
    "- `peek()` - returns the item at the front of the queue without removing it\n",
    "- `enqueue()` - adds an item to the back of the queue\n",
    "- `dequeue()` - removes an item from the front of the queue"
   ]
  },
  {
   "cell_type": "code",
   "execution_count": 5,
   "metadata": {},
   "outputs": [],
   "source": [
    "# Your code here\n",
    "\n",
    "class Queue:\n",
    "    def __init__(self):\n",
    "        self.queue = []\n",
    "    \n",
    "    def is_empty(self):\n",
    "        return self.queue == []\n",
    "    \n",
    "    def size(self):\n",
    "        return len(self.queue)\n",
    "    \n",
    "    def peek(self):\n",
    "        if self.is_empty():\n",
    "            return None\n",
    "        return self.queue[0]    \n",
    "    \n",
    "    def enqueue(self, item):\n",
    "        self.queue.append(item)\n",
    "        \n",
    "    def dequeue(self):\n",
    "        if self.is_empty():\n",
    "            return None\n",
    "        return self.queue.pop(0)"
   ]
  },
  {
   "cell_type": "code",
   "execution_count": 6,
   "metadata": {},
   "outputs": [
    {
     "name": "stdout",
     "output_type": "stream",
     "text": [
      "Queue is empty:  False\n",
      "Queue size:  3\n",
      "Front element:  1\n",
      "value dequeued:  1\n",
      "Front element:  4\n"
     ]
    }
   ],
   "source": [
    "# Example Usage:\n",
    "queue = Queue()\n",
    "queue.enqueue(1)\n",
    "queue.enqueue(4)\n",
    "queue.enqueue(8)\n",
    "\n",
    "print(\"Queue is empty: \", queue.is_empty())\n",
    "print(\"Queue size: \", queue.size())\n",
    "print(\"Front element: \", queue.peek())\n",
    "\n",
    "value = queue.dequeue()\n",
    "print(\"value dequeued: \", value)\n",
    "print(\"Front element: \", queue.peek())"
   ]
  },
  {
   "cell_type": "markdown",
   "metadata": {},
   "source": [
    "## Exercise 1\n",
    "\n",
    "Take in an input string of brackets `(` and `)`, output `True` if the brackets are matched correctly, `False` otherwise. \n",
    "\n",
    "For brackets to be matched correctly, each open bracket should be matched with a closing bracket somewhere after it.\n",
    "\n",
    "**Use a stack to help you solve this problem.**\n",
    "\n",
    "<style>\n",
    "    table {\n",
    "        width: 90%;\n",
    "        font-size: 0.8em;\n",
    "        border: 1px solid black;\n",
    "        border-collapse: collapse;\n",
    "        margin-inline: auto;\n",
    "    }\n",
    "    th, td {\n",
    "        border: 1px solid black;\n",
    "        text-align: center;\n",
    "    }\n",
    "    th:first-child, td:first-child {\n",
    "        text-align: left;\n",
    "        width: 60%;\n",
    "    }\n",
    "    th:nth-child(3), td:nth-child(3) {\n",
    "        width: 30%;\n",
    "        text-align: left;\n",
    "    }\n",
    "    tr td {\n",
    "        font-family: monospace;\n",
    "    }\n",
    "\n",
    "</style>\n",
    "<table style=\"width: 90%; font-size: 0.8em; border: 1px solid black; border-collapse: collapse; margin-inline: auto;font-family: monospace;\">\n",
    "    <tr>\n",
    "        <th style=\"border: 1px solid black; text-align: left; width: 50%;\">Input</th>\n",
    "        <th style=\"border: 1px solid black; text-align: left; width: 50%;\">Expected Output</th>\n",
    "    </tr>\n",
    "    <tr>\n",
    "        <td style=\"border: 1px solid black; text-align: left; width: 50%;\">\"()\"</td>\n",
    "        <td style=\"border: 1px solid black; text-align: left; width: 50%;\">True</td>\n",
    "    </tr>\n",
    "    <tr>\n",
    "        <td style=\"border: 1px solid black; text-align: left; width: 50%;\">\"((\"</td>\n",
    "        <td style=\"border: 1px solid black; text-align: left; width: 50%;\">False</td>\n",
    "    </tr>\n",
    "    <tr>\n",
    "        <td style=\"border: 1px solid black; text-align: left; width: 50%;\">\"(()())\"</td>\n",
    "        <td style=\"border: 1px solid black; text-align: left; width: 50%;\">True</td>\n",
    "    </tr>\n",
    "    <tr>\n",
    "        <td style=\"border: 1px solid black; text-align: left; width: 50%;\">\"(()()))\"</td>\n",
    "        <td style=\"border: 1px solid black; text-align: left; width: 50%;\">False</td>\n",
    "    </tr>\n",
    "</table>"
   ]
  },
  {
   "cell_type": "code",
   "execution_count": 7,
   "metadata": {},
   "outputs": [],
   "source": [
    "# Your code here\n",
    "def valid_parentheses(str):\n",
    "    stack = Stack()\n",
    "    for i in str:\n",
    "        if i == \"(\":\n",
    "            stack.push(i)\n",
    "        elif i == \")\":\n",
    "            if stack.is_empty():\n",
    "                return False\n",
    "            else:\n",
    "                stack.pop()\n",
    "    return stack.is_empty()"
   ]
  },
  {
   "cell_type": "code",
   "execution_count": 8,
   "metadata": {},
   "outputs": [
    {
     "name": "stdout",
     "output_type": "stream",
     "text": [
      "True\n",
      "False\n",
      "True\n",
      "False\n"
     ]
    }
   ],
   "source": [
    "# inputs\n",
    "str1 = \"()\"\n",
    "str2 = \"((\"\n",
    "str3 = \"(()())\"\n",
    "str4 = \"(()()))\"\n",
    "\n",
    "# test cases\n",
    "print(valid_parentheses(str1))  # True\n",
    "print(valid_parentheses(str2))  # False\n",
    "print(valid_parentheses(str3))  # True\n",
    "print(valid_parentheses(str4))  # False"
   ]
  },
  {
   "cell_type": "markdown",
   "metadata": {},
   "source": [
    "## Exercise 2\n",
    "\n",
    "Write a function to determine the index of each matching parenthesis (bracket) for it's partner parenthesis in a string.\n",
    "\n",
    "You may assume all inputs are valid.\n",
    "\n",
    "<table style=\"width: 90%; font-size: 0.8em; border: 1px solid black; border-collapse: collapse; margin-inline: auto;font-family: monospace;\">\n",
    "    <tr>\n",
    "        <th style=\"border: 1px solid black; text-align: left; width: 60%;\">Input</th>\n",
    "        <th style=\"border: 1px solid black; text-align: left; width: 30%;\">Expected Output</th>\n",
    "    </tr>\n",
    "    <tr>\n",
    "        <td style=\"border: 1px solid black; text-align: left; width: 60%;\">\"()\"</td>\n",
    "        <td style=\"border: 1px solid black; text-align: left; width: 30%;\">[1, 0]</td>\n",
    "    </tr>\n",
    "    <tr>\n",
    "        <td style=\"border: 1px solid black; text-align: left; width: 60%;\">\"(()())\"</td>\n",
    "        <td style=\"border: 1px solid black; text-align: left; width: 30%;\">[5, 2, 1, 4, 3, 0]</td>\n",
    "    </tr>\n",
    "    <tr>\n",
    "        <td style=\"border: 1px solid black; text-align: left; width: 60%;\">\"((()))\"</td>\n",
    "        <td style=\"border: 1px solid black; text-align: left; width: 30%;\">[5, 4, 3, 2, 1, 0]</td>\n",
    "    </tr>\n",
    "    <tr>\n",
    "        <td style=\"border: 1px solid black; text-align: left; width: 60%;\">\"()(())\"</td>\n",
    "        <td style=\"border: 1px solid black; text-align: left; width: 30%;\">[1, 0, 5, 4, 3, 2]</td>\n",
    "    </tr>\n",
    "</table>"
   ]
  },
  {
   "cell_type": "code",
   "execution_count": 9,
   "metadata": {},
   "outputs": [],
   "source": [
    "# Your code here\n",
    "def match_parentheses(input_str):\n",
    "    stack = Stack()\n",
    "    index_list = [None] * len(input_str)\n",
    "    \n",
    "    for idx, char in enumerate(input_str):\n",
    "        if char == \"(\":\n",
    "            stack.push(idx)\n",
    "        elif char == \")\":\n",
    "            other_idx = stack.pop()\n",
    "            index_list[other_idx] = idx\n",
    "            index_list[idx] = other_idx\n",
    "    \n",
    "    return index_list"
   ]
  },
  {
   "cell_type": "code",
   "execution_count": 10,
   "metadata": {},
   "outputs": [
    {
     "name": "stdout",
     "output_type": "stream",
     "text": [
      "[1, 0]\n",
      "[5, 2, 1, 4, 3, 0]\n",
      "[1, 0, 5, 4, 3, 2]\n",
      "[5, 4, 3, 2, 1, 0]\n"
     ]
    }
   ],
   "source": [
    "# inputs\n",
    "str1 = \"()\"\n",
    "str2 = \"(()())\"\n",
    "str3 = \"((()))\"\n",
    "str4 = \"()(())\"\n",
    "\n",
    "# test cases\n",
    "print(match_parentheses(str1))\n",
    "print(match_parentheses(str2))\n",
    "print(match_parentheses(str4))\n",
    "print(match_parentheses(str3))"
   ]
  }
 ],
 "metadata": {
  "kernelspec": {
   "display_name": "Python 3",
   "language": "python",
   "name": "python3"
  },
  "language_info": {
   "codemirror_mode": {
    "name": "ipython",
    "version": 3
   },
   "file_extension": ".py",
   "mimetype": "text/x-python",
   "name": "python",
   "nbconvert_exporter": "python",
   "pygments_lexer": "ipython3",
   "version": "3.11.4"
  }
 },
 "nbformat": 4,
 "nbformat_minor": 4
}
