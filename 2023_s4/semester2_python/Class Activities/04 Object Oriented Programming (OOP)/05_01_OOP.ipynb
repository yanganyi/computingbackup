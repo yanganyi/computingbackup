{
 "cells": [
  {
   "attachments": {},
   "cell_type": "markdown",
   "metadata": {},
   "source": [
    "# 05 - Object Oriented Programming (OOP)\n",
    "\n",
    "## Understanding Goals\n",
    "\n",
    "At the end of this chapter, you should be able to:\n",
    "- Understand the concept of object and abstraction\n",
    "- Undersatnd class and instance in OOP context\n",
    "- Understand the concept of encapsulation, inheritance and polymorphism and their advantages\n",
    "- Able to interpret and construct UML class diagram\n",
    "- Able to implement python classes and create instances using the classes defined\n"
   ]
  },
  {
   "attachments": {},
   "cell_type": "markdown",
   "metadata": {},
   "source": [
    "# Section 1 - Introduction to Object Oriented Programming\n",
    "\n",
    "## _1.1 What is a class and a instance?_\n",
    "\n",
    "Before we talk about Python objects, let's take a look at real-world objects. Generally they share two characteristics: Property (or state) and Behaviour. For example, different dogs may vary in their outlooks, but they all share certain things in common.\n",
    "\n",
    "Properties which describes them: name, age, color, breed, hungry or not  \n",
    "Behaviours which they can perform: bark, run, wag tail\n",
    "\n",
    "In python, we can also create objects with the appropriate **properties** and **behaviours** from a `class`.\n",
    "\n",
    "In object-oriented terms:  \n",
    "A `class` is the blueprint that defines properties and behaviours of an object.  \n",
    "An `instance` is a particular object created from a given class. It is a concrete and usable entity which carries actual values of its properties."
   ]
  },
  {
   "attachments": {},
   "cell_type": "markdown",
   "metadata": {},
   "source": [
    "### ~ Example ~\n",
    "\n",
    "In this example, we creates a class `Dog` by using the `class` keyword.  \n",
    "We can create an instance of the `Dog` class by assign `Dog()` to a variable. In this case, `my_dog` is an instance of the `Dog` class.  \n",
    "\\* We will explain the `__init__()` function in 1.3.\n",
    "\n",
    "Each dog has the following properties (known as **attributes** in OOP) which describe them:\n",
    "- name\n",
    "- age\n",
    "- colour\n",
    "- breed\n",
    "- hungry (a boolean state which describe if it's hungry at the moment)\n",
    "\n",
    "Each dog can also perform the following behaviours (known as **methods** in OOP):\n",
    "- get_breed (returns the breed of the dog)\n",
    "- is_hungry (returns the state of hungriness of the dog)\n",
    "- bark\n"
   ]
  },
  {
   "cell_type": "code",
   "execution_count": null,
   "metadata": {},
   "outputs": [],
   "source": [
    "class Dog:\n",
    "    def __init__(self, name, age, colour, breed, hungry):\n",
    "        self.name = name\n",
    "        self.age = age\n",
    "        self.colour = colour\n",
    "        self.breed = breed\n",
    "        self.hungry = hungry\n",
    "        \n",
    "    def get_breed(self):\n",
    "        return self.breed\n",
    "    \n",
    "    def is_hungry(self):\n",
    "        return self.hungry\n",
    "\n",
    "    def bark(self):\n",
    "        print(self.name + \" barks: Woof Woof!\")\n",
    "        \n",
    "    \n",
    "my_dog = Dog(\"Du Du\", 4, \"White\", \"Bichon Frise\", False)\n",
    "\n",
    "print(my_dog.get_breed())\n",
    "print(my_dog.is_hungry())\n",
    "my_dog.bark()\n",
    "    "
   ]
  },
  {
   "attachments": {},
   "cell_type": "markdown",
   "metadata": {},
   "source": [
    "## _1.2 `self` in Python OOP_\n",
    "\n",
    "`self` is a reference to the current instance of the object. It is required as the first argument for the `__init__()` method and all other instance methods.\n",
    "\n",
    "However, when the respective method is called, `self` does not count as a positional argument.\n",
    "\n",
    "\\* For now, since we do not cover class methods and static methods in our syllabus, you can take it that `self` should appear for all methods you create in a class. If you are interested to find out more about the differences between instance methods, class methods and static methods, you may do some research online.\n",
    "\n",
    "### ~ Example ~\n",
    "\n",
    "In the following example, we can print out the `self` in the `__init__()` function as well as the instance `p` in the global scope. We can observe that they share the same object type and memory space.\n",
    "\n",
    "We can also observe that even though `self` appears in the definition of `set_name()` and `get_name()` functions, it is not counted as a positional argument.   \n",
    "Hence, when the method `set_name()` is being called, we only need to supply 1 argument which is the `new_name` to it.  \n",
    "Similarly, when the method `get_name()` is being called, we only need to supply 0 argument to it."
   ]
  },
  {
   "cell_type": "code",
   "execution_count": null,
   "metadata": {},
   "outputs": [],
   "source": [
    "class Person:\n",
    "    def __init__(self, name):\n",
    "        print(self)\n",
    "        self.name = name\n",
    "        \n",
    "    def set_name(self, new_name):\n",
    "        self.name = new_name\n",
    "        \n",
    "    def get_name(self):\n",
    "        return self.name\n",
    "    \n",
    "p = Person(\"Xiao ming\")\n",
    "print(p)\n",
    "\n",
    "p.set_name(\"Xiao Ming\")  # only 1 argument is required for set_name\n",
    "print(p.get_name())  # only 0 argument is required for get_name"
   ]
  },
  {
   "attachments": {},
   "cell_type": "markdown",
   "metadata": {},
   "source": [
    "## _1.3 `__init__()` in Python OOP_\n",
    "\n",
    "The `__init__()` method is similar to constructors in C++ and Java (but strictly speaking, it is not a constructor). It initializes the object’s states, for example to assign the value of `\"Xiao Ming\"` to `self.name`.\n",
    "\n",
    "Like methods, the initializer also contains collection of statements that are executed at time of object creation. It is automatically called when an object of a class is instantiated."
   ]
  },
  {
   "attachments": {},
   "cell_type": "markdown",
   "metadata": {},
   "source": [
    "## _1.3 Encapsulation, Accessors and Mutators_\n",
    "\n",
    "**Encapsulation** refers to the bundling of data with the methods that operate on that data. By hiding variables inside a class, it prevents public program codes to interfere/modify with the private variables within the class directly. Public methods such as getters and setters access or modify the data and other classes call these methods for accessing.\n",
    "\n",
    "### ~ Example ~"
   ]
  },
  {
   "cell_type": "code",
   "execution_count": null,
   "metadata": {},
   "outputs": [],
   "source": [
    "class BankAccount:\n",
    "    def __init__(self, acct_no, amount):\n",
    "        self.__acct_no = acct_no\n",
    "        self.__balance = amount\n",
    "        \n",
    "    def get_acct_no(self):\n",
    "        return self.__acct_no\n",
    "    \n",
    "    def get_balance(self):\n",
    "        return self.__balance\n",
    "    \n",
    "    def deposit(self, amount):\n",
    "        self.__balance += amount\n",
    "        print(\"An amount of $\" + str(amount) + \" has been successfully deposited into the account.\")\n",
    "        print(\"The current balance is: \" + str(self.__balance))\n",
    "        print()\n",
    "        \n",
    "    def withdraw(self, amount):\n",
    "        if self.__balance > amount:\n",
    "            self.__balance -= amount\n",
    "            print(\"An amount of $\" + str(amount) + \" has been successfully withdrawed from the account.\")\n",
    "            print(\"The current balance is: \" + str(self.__balance))\n",
    "        else:\n",
    "            print(\"Insufficent Balance.\")\n",
    "        print()\n",
    "        \n",
    "my_ba = BankAccount(\"153532221\", 5000)\n",
    "\n",
    "print(my_ba.get_acct_no())\n",
    "print()\n",
    "\n",
    "my_ba.deposit(100)\n",
    "\n",
    "my_ba.withdraw(8000)\n",
    "\n",
    "my_ba.withdraw(800)\n",
    "\n",
    "print(my_ba.__acct_no)"
   ]
  },
  {
   "attachments": {},
   "cell_type": "markdown",
   "metadata": {},
   "source": [
    "### Advantages of Encapsulation\n",
    "\n",
    "This restriction allows certain details of an objects behavior to be hidden. It allows us to create a “black box” and protects an objects internal state from corruption by its clients.\n",
    "\n",
    "Encapsulation is a technique for minimizing interdependencies among modules by defining a strict external interface. This way, internal coding can be changed without affecting the interface, so long as the new implementation supports the same (or upwards compatible) external interface. \n",
    "\n",
    "The implementation of an object can be changed without affecting the application that uses it for: Improving performance, fix a bug, consolidate code or for porting.\n"
   ]
  },
  {
   "attachments": {},
   "cell_type": "markdown",
   "metadata": {},
   "source": [
    "### However... Python does not truly support information hiding.\n",
    "\n",
    "There are still ways to access the \"private\" attributes. Python performs name mangling of private variables. Every member with double underscore will be changed to `_object._class__variable`. If so required, it can still be accessed from outside the class, but the practice should be refrained.\n",
    "\n",
    "### ~ Example ~"
   ]
  },
  {
   "cell_type": "code",
   "execution_count": null,
   "metadata": {},
   "outputs": [],
   "source": [
    "my_ba._BankAccount__balance = 10000\n",
    "\n",
    "print(my_ba.get_balance())"
   ]
  },
  {
   "attachments": {},
   "cell_type": "markdown",
   "metadata": {},
   "source": [
    "### Our Recommendation\n",
    "\n",
    "It is important for us to understand the benefits of encapsulation and information hiding. At the same time, as python does not truly support data hiding, it's not necessary to add the double underscores either.\n",
    "\n",
    "Hence, to find a middle ground, we would recommend the usage of a *single leading underscore* as an indicator to signify \"private\" attributes. We are also required to implement encapsulation by bunlding the attributes with public accessor and mutator methods, and refrain from accessing the attributes directly through the dot notation.\n",
    "\n",
    "### ~ Example ~"
   ]
  },
  {
   "cell_type": "code",
   "execution_count": null,
   "metadata": {},
   "outputs": [],
   "source": [
    "# Using of single unscore as indicator for private attributes\n",
    "class Person:\n",
    "    def __init__(self, name):\n",
    "        self._name = name\n",
    "        \n",
    "    def set_name(self, new_name):\n",
    "        self._name = new_name\n",
    "        \n",
    "    def get_name(self):\n",
    "        return self._name\n",
    "\n",
    "    \n",
    "p = Person(\"Xiao ming\")\n",
    "    \n",
    "\n",
    "# When there is a need to retrieve or modify the values of an attribute\n",
    "# We should still use the accessor and mutator functions defined\n",
    "p.set_name(\"Xiao Ming\")\n",
    "print(p.get_name())\n",
    "\n",
    "\n",
    "#! WE SHOULD REFRAIN FROM DIRECTLY ACCESSING THE ATTRIBUTES USING DOT NOTATION\n",
    "# p._name = \"Xiao Hong\"\n",
    "# print(p._name)"
   ]
  },
  {
   "attachments": {},
   "cell_type": "markdown",
   "metadata": {},
   "source": [
    "# Section 2 - Inheritance & Polymorphism\n",
    "\n",
    "## _2.1 Superclass and Subclassess_\n",
    "\n",
    "Let's take a look at the following example of 2 classes, what similarities do they share?\n",
    "\n",
    "### ~ Example ~"
   ]
  },
  {
   "cell_type": "code",
   "execution_count": null,
   "metadata": {},
   "outputs": [],
   "source": [
    "class Student:\n",
    "    def __init__(self, name, class_):\n",
    "        self._name = name\n",
    "        self._class = class_\n",
    "\n",
    "    def get_name(self):\n",
    "        return self._name\n",
    "\n",
    "s = Student(\"Xiao Ming\", \"3A\")\n",
    "print(s.get_name())\n",
    "\n",
    "class Teacher:\n",
    "    def __init__(self, name, classes):\n",
    "        self._name = name\n",
    "        self._classes = classes\n",
    "\n",
    "    def get_name(self):\n",
    "        return self._name\n",
    "\n",
    "t = Teacher(\"Mr Zhou\", [\"3A\", \"3B\"])\n",
    "print(t.get_name())"
   ]
  },
  {
   "attachments": {},
   "cell_type": "markdown",
   "metadata": {},
   "source": [
    "We can observe that both `Student` and `Teacher` class has the attribute `name` and method `get_name`. The implementation of `get_name` is also the same.\n",
    "\n",
    "Hence, it would make sense for us to create a **superclass** `Person` which captures this common property and behaviour.\n",
    "\n",
    "In OOP, this concept is called **inheritance**: a subclass (or child class) can retain similar implementations of attributes and behaviour methods from another class, called the superclass (or parent class).\n",
    "\n",
    "We can indicate the superclass of a class by putting it in a bracket following the class definition. The subclass will then naturally inherit all attributes and methods from its superclass. In the following example, `Student` and `Teacher` never declare `get_name()` method in their class definitions, but because they are subclasses of `Person`, it is possible for them to directly invoke the method.\n",
    "\n",
    "### ~ Example ~"
   ]
  },
  {
   "cell_type": "code",
   "execution_count": null,
   "metadata": {},
   "outputs": [],
   "source": [
    "class Person:\n",
    "    def __init__(self, name):\n",
    "        self._name = name\n",
    "\n",
    "    def get_name(self):\n",
    "        return self._name\n",
    "\n",
    "\n",
    "class Student(Person):\n",
    "    def __init__(self, name, class_):\n",
    "        self._name = name\n",
    "        self._class = class_\n",
    "\n",
    "\n",
    "class Teacher(Person):\n",
    "    def __init__(self, name, classes):\n",
    "        self._name = name\n",
    "        self._classes = classes\n",
    "        \n",
    "        \n",
    "p = Person(\"Xiao Hong\")\n",
    "print(p.get_name())\n",
    "        \n",
    "s = Student(\"Xiao Ming\", \"3A\")\n",
    "print(s.get_name())\n",
    "\n",
    "t = Teacher(\"Mr Zhou\", [\"3A\", \"3B\"])\n",
    "print(t.get_name())"
   ]
  },
  {
   "attachments": {},
   "cell_type": "markdown",
   "metadata": {},
   "source": [
    "## _2.2 Polymophism_\n",
    "\n",
    "In a subclass we can change how some methods work while keeping the same name. We call this polymorphism or overriding. it is useful because we do not want to keep introducing new method names if their functionality are similar.\n",
    "\n",
    "Imaging we would like to create a class method `greeting()` which would response differently for the 3 classes:\n",
    "- A normal person will greet: \"Good morning!\"\n",
    "- A student will greet: \"Good morning teacher!\"\n",
    "- A teacher will greet: \"Good morning class!\"\n",
    "\n",
    "We can do so with the following implementation. Notice that even though `Student` class inherits the `greeting()` function from its super class, it overwritten the superclass implementation by applying polymophism.\n",
    "\n",
    "### ~ Example ~"
   ]
  },
  {
   "cell_type": "code",
   "execution_count": null,
   "metadata": {},
   "outputs": [],
   "source": [
    "class Person:\n",
    "    def __init__(self, name):\n",
    "        self._name = name\n",
    "\n",
    "    def get_name(self):\n",
    "        return self._name\n",
    "    \n",
    "    def greeting(self):\n",
    "        return \"Good morning!\"\n",
    "\n",
    "\n",
    "class Student(Person):\n",
    "    def __init__(self, name, class_):\n",
    "        self._name = name\n",
    "        self._class = class_\n",
    "        \n",
    "    def greeting(self):\n",
    "        return \"Good morning teacher!\"\n",
    "\n",
    "\n",
    "class Teacher(Person):\n",
    "    def __init__(self, name, classes):\n",
    "        self._name = name\n",
    "        self._classes = classes\n",
    "        \n",
    "    def greeting(self):\n",
    "        return \"Good morning class!\"\n",
    "        \n",
    "        \n",
    "p = Person(\"Xiao Hong\")\n",
    "s = Student(\"Xiao Ming\", \"3A\")\n",
    "t = Teacher(\"Mr Zhou\", [\"3A\", \"3B\"])\n",
    "\n",
    "print(p.greeting())\n",
    "print(s.greeting())\n",
    "print(t.greeting())"
   ]
  },
  {
   "attachments": {},
   "cell_type": "markdown",
   "metadata": {},
   "source": [
    "## _2.3 `super().method`_\n",
    "\n",
    "Imagine a situation where we have already declared `Person`, `Student` and `Teacher` class as shown in 2.2. But we would like to modify it, so that every person will also have their `gender` being captured. In addition, we would also want to change the `greeting()` method such as a student would address the name of the teacher, and a teacher would address the class number while saying \"good morning\".\n",
    "\n",
    "It would be very troublesome everytime such changes happen, and we have to modify all 3 classes extensively. Certain changes are also repeatitive. Hence, it would make more sense if we can centralise our changes at the superclass side, and since the subclasses will naturally inherit all these changes, the addition work at the subclass side can be minimized.\n",
    "\n",
    "This is where `super().method` comes to be very useful. By calling `super()` we are invoking the implementation of a certain method from its super class.\n",
    "\n",
    "### ~ Example ~"
   ]
  },
  {
   "cell_type": "code",
   "execution_count": null,
   "metadata": {},
   "outputs": [],
   "source": [
    "# First let's change the original implementation to make use of `super().method` whenever possible\n",
    "\n",
    "class Person:\n",
    "    def __init__(self, name):\n",
    "        self._name = name\n",
    "\n",
    "    def get_name(self):\n",
    "        return self._name\n",
    "    \n",
    "    def greeting(self, target=\"\"):\n",
    "        if target == \"\":\n",
    "            return \"Good morning!\"\n",
    "        else:\n",
    "            return \"Good morning \" + target + \"!\"\n",
    "\n",
    "\n",
    "class Student(Person):\n",
    "    def __init__(self, name, class_):\n",
    "        super().__init__(name)\n",
    "        self._class = class_\n",
    "        \n",
    "    def greeting(self):\n",
    "        return super().greeting(\"teacher\")\n",
    "\n",
    "\n",
    "class Teacher(Person):\n",
    "    def __init__(self, name, classes):\n",
    "        super().__init__(name)\n",
    "        self._classes = classes\n",
    "        \n",
    "    def greeting(self):\n",
    "        return super().greeting(\"class\")\n",
    "\n",
    "    \n",
    "p = Person(\"Xiao Hong\")\n",
    "s = Student(\"Xiao Ming\", \"3A\")\n",
    "t = Teacher(\"Mr Zhou\", [\"3A\", \"3B\"])\n",
    "    \n",
    "print(p.greeting())\n",
    "print(s.greeting())\n",
    "print(t.greeting())"
   ]
  },
  {
   "cell_type": "code",
   "execution_count": null,
   "metadata": {},
   "outputs": [],
   "source": [
    "# Now we implement the changes to include gender and target specific greeting\n",
    "\n",
    "class Person:\n",
    "    def __init__(self, name, gender):\n",
    "        self._name = name\n",
    "        self._gender = gender\n",
    "\n",
    "    def get_name(self):\n",
    "        return self._name\n",
    "    \n",
    "    def greeting(self, target=\"\"):\n",
    "        if target == \"\":\n",
    "            return \"Good morning!\"\n",
    "        else:\n",
    "            return \"Good morning \" + target + \"!\"\n",
    "\n",
    "\n",
    "class Student(Person):\n",
    "    def __init__(self, name, gender, class_):\n",
    "        super().__init__(name, gender)\n",
    "        self._class = class_\n",
    "        \n",
    "    def greeting(self, target):\n",
    "        return super().greeting(target.get_name())\n",
    "    \n",
    "    def get_class(self):\n",
    "        return self._class\n",
    "\n",
    "\n",
    "class Teacher(Person):\n",
    "    def __init__(self, name, gender, classes):\n",
    "        super().__init__(name, gender)\n",
    "        self._classes = classes\n",
    "        \n",
    "    def greeting(self, target):\n",
    "        return super().greeting(target.get_class())\n",
    "\n",
    "    \n",
    "p = Person(\"Xiao Hong\", \"Female\")\n",
    "s = Student(\"Xiao Ming\", \"Male\", \"3A\")\n",
    "t = Teacher(\"Mr Zhou\", \"Male\", [\"3A\", \"3B\"])\n",
    "    \n",
    "print(p.greeting())\n",
    "print(s.greeting(t))\n",
    "print(t.greeting(s))"
   ]
  },
  {
   "attachments": {},
   "cell_type": "markdown",
   "metadata": {},
   "source": [
    "## _2.4 `type()` vs `isinstance()`_\n",
    "\n",
    "Lastly, we would like to discuss a little bit about the build-in function `type()` and `isinstance()`.\n",
    "\n",
    "### ~ Example ~"
   ]
  },
  {
   "cell_type": "code",
   "execution_count": null,
   "metadata": {},
   "outputs": [],
   "source": [
    "print(type(p))\n",
    "print(type(s))\n",
    "print(type(t))\n",
    "print()\n",
    "\n",
    "print(type(p) == Student)\n",
    "print()\n",
    "\n",
    "print(isinstance(s, Student))\n",
    "print(isinstance(s, Person))"
   ]
  },
  {
   "attachments": {},
   "cell_type": "markdown",
   "metadata": {},
   "source": [
    "From the above example, we can observe that:\n",
    "\n",
    "`type()` will only return the current class type of an instance, and it will not take into consideration of its superclasses.\n",
    "\n",
    "`isinstance()` however, is able to check if an object belongs to its superclass."
   ]
  },
  {
   "attachments": {},
   "cell_type": "markdown",
   "metadata": {},
   "source": [
    "### - Challenge - \n",
    "\n",
    "The implementation of 2.3 is not perfect, because currently we are assuming that a `Student` object can only and always will `greet()` a `Teacher` and vice versa. Make use of the `isinstance()` function to improve on the current implementation, so that it can handle all sorts of different greeting targets."
   ]
  },
  {
   "cell_type": "code",
   "execution_count": null,
   "metadata": {},
   "outputs": [],
   "source": [
    "# Your code here\n"
   ]
  },
  {
   "attachments": {},
   "cell_type": "markdown",
   "metadata": {},
   "source": [
    "# Section 3 - Further Reading\n",
    "\n",
    "Interestingly, everything in Python are objects! Let's take a look at some familiar Basic Object Types of Python and their classes.\n",
    "\n",
    "Find out more about OOP and python implementation online."
   ]
  },
  {
   "cell_type": "code",
   "execution_count": null,
   "metadata": {
    "scrolled": true
   },
   "outputs": [],
   "source": [
    "print(type(1))\n",
    "print(type(1.0))\n",
    "print(type(\"str\"))\n",
    "print(type([1, 2, 3]))\n",
    "\n",
    "# even \"int\" and \"float\" classes have built-in methods!\n",
    "print((254).bit_length())\n",
    "print((-2.0).is_integer())"
   ]
  },
  {
   "attachments": {},
   "cell_type": "markdown",
   "metadata": {},
   "source": [
    "# References\n",
    "\n",
    "1. [The Python Standard Library - Built-in Types](https://docs.python.org/3/library/stdtypes.html)\n",
    "2. [__init__ in Python](https://www.geeksforgeeks.org/__init__-in-python/)"
   ]
  }
 ],
 "metadata": {
  "kernelspec": {
   "display_name": "Python 3 (ipykernel)",
   "language": "python",
   "name": "python3"
  },
  "language_info": {
   "codemirror_mode": {
    "name": "ipython",
    "version": 3
   },
   "file_extension": ".py",
   "mimetype": "text/x-python",
   "name": "python",
   "nbconvert_exporter": "python",
   "pygments_lexer": "ipython3",
   "version": "3.11.4"
  }
 },
 "nbformat": 4,
 "nbformat_minor": 4
}
