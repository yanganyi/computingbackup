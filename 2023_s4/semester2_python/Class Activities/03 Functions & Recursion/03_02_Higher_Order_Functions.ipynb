{
 "cells": [
  {
   "attachments": {},
   "cell_type": "markdown",
   "metadata": {},
   "source": [
    "# 03_02 - Advanced Python Functions\n",
    "\n",
    "## Understanding Goals\n",
    "\n",
    "At the end of this chapter, you should be able to:\n",
    "- Understand the concept of higher order function in python\n",
    "- Implement optional and additional arguments using `*args` and `**kwargs`\n",
    "- Understand and able to implement `lambda` function\n",
    "- Understand and able to apply `map` and `filter` functions"
   ]
  },
  {
   "attachments": {},
   "cell_type": "markdown",
   "metadata": {},
   "source": [
    "# Section 1 - Higher Order Function\n",
    "\n",
    "## _1.1 Function Definition_\n",
    "\n",
    "In Python, functions are treated as first class objects, allowing you to perform the following operations on functions.\n",
    "\n",
    "- A function can take one or more functions as arguments\n",
    "- A function can be returned as a result of another function\n",
    "\n",
    "### ~ Example ~\n",
    "\n",
    "We are familiar of passing a validation function as an argument to check the user inputs. Here is a quick example"
   ]
  },
  {
   "cell_type": "code",
   "execution_count": 1,
   "metadata": {},
   "outputs": [
    {
     "name": "stdout",
     "output_type": "stream",
     "text": [
      "Please select the following options:\n",
      "(N)ew Game\n",
      "(S)how Answer\n",
      "(Q)uit\n",
      "Option N/n is chosen.\n",
      "Please select the following options:\n",
      "(N)ew Game\n",
      "(S)how Answer\n",
      "(Q)uit\n",
      "Option S/s is chosen.\n",
      "Please select the following options:\n",
      "(N)ew Game\n",
      "(S)how Answer\n",
      "(Q)uit\n",
      "Option Q/q is chosen. Program Terminating.\n"
     ]
    }
   ],
   "source": [
    "def validate_user_opt(user_input):\n",
    "    if len(user_input) == 0:\n",
    "        print(\"Presence check failed.\")\n",
    "        return False\n",
    "    elif len(user_input) != 1:\n",
    "        print(\"Length check failed.\")\n",
    "        return False\n",
    "    elif user_input not in \"NnSsQq\":\n",
    "        print(\"Value check failed.\")\n",
    "        return False\n",
    "    return True\n",
    "\n",
    "def get_user_input(validate_fn, instr):\n",
    "    done = False\n",
    "    while not done:\n",
    "        user_input = input(instr)\n",
    "        if validate_fn(user_input):\n",
    "            done = True\n",
    "    return user_input\n",
    "\n",
    "def menu():\n",
    "    done = False\n",
    "\n",
    "    while not done:\n",
    "        # print menu options\n",
    "        print(\"Please select the following options:\")\n",
    "        print(\"(N)ew Game\")\n",
    "        print(\"(S)how Answer\")\n",
    "        print(\"(Q)uit\")\n",
    "\n",
    "        # validate user input\n",
    "        user_input = get_user_input(validate_user_opt, \"Your choice is: \")\n",
    "        if user_input == \"N\" or user_input == \"n\":\n",
    "            print(\"Option N/n is chosen.\")\n",
    "            pass\n",
    "        elif user_input == \"S\" or user_input == \"s\":\n",
    "            print(\"Option S/s is chosen.\")\n",
    "            pass\n",
    "        elif user_input == \"Q\" or user_input == \"q\":\n",
    "            print(\"Option Q/q is chosen. Program Terminating.\")\n",
    "            done = True\n",
    "        else:\n",
    "            print(\"Something went wrong.\")\n",
    "\n",
    "menu()"
   ]
  },
  {
   "attachments": {},
   "cell_type": "markdown",
   "metadata": {},
   "source": [
    "### ~ Example ~\n",
    "\n",
    "We can also return a function as the final result of another function."
   ]
  },
  {
   "cell_type": "code",
   "execution_count": 3,
   "metadata": {},
   "outputs": [
    {
     "name": "stdout",
     "output_type": "stream",
     "text": [
      "<class 'int'>\n",
      "25\n",
      "18\n",
      "10.0\n"
     ]
    }
   ],
   "source": [
    "def square_area(side):\n",
    "    return side ** 2\n",
    "\n",
    "def rectangle_area(length, width):\n",
    "    return length * width\n",
    "\n",
    "def triangle_area(base, height):\n",
    "    return base * height / 2\n",
    "\n",
    "def get_function(shape):\n",
    "    if shape == \"square\":\n",
    "        return square_area\n",
    "    elif shape == \"rectangle\":\n",
    "        return rectangle_area\n",
    "    elif shape == \"triangle\":\n",
    "        return triangle_area\n",
    "    else:\n",
    "        print(\"Something is wrong\")\n",
    "        \n",
    "fn = get_function(\"square\")\n",
    "print(fn(5))\n",
    "\n",
    "\n",
    "fn = get_function(\"rectangle\")\n",
    "print(fn(3, 6))\n",
    "\n",
    "fn = get_function(\"triangle\")\n",
    "print(fn(2, 10))"
   ]
  },
  {
   "attachments": {},
   "cell_type": "markdown",
   "metadata": {},
   "source": [
    "# Section 2 - Additional Arguments\n",
    "\n",
    "## _2.1 Optional Arguments_\n",
    "\n",
    "We can define optional arguments by assigning it with a default value.\n",
    "\n",
    "### ~ Example ~"
   ]
  },
  {
   "cell_type": "code",
   "execution_count": null,
   "metadata": {},
   "outputs": [],
   "source": [
    "def some_function(haha, hehe=\"hehe\"):\n",
    "    print(haha, hehe)\n",
    "\n",
    "some_function(\"haha\")\n",
    "some_function(\"haha\", \"hoho\")"
   ]
  },
  {
   "attachments": {},
   "cell_type": "markdown",
   "metadata": {},
   "source": [
    "## _2.2 `*args` Arguments_\n",
    "\n",
    "The special syntax `*args` in function definitions in python is used to pass a variable number of arguments to a function. It is used to pass a non-keyworded, variable-length argument list.\n",
    "\n",
    "- The syntax is to use the symbol * to take in a variable number of arguments; by convention, it is often used with the word args.\n",
    "- What `*args` allows you to do is take in more arguments than the number of formal arguments that you previously defined. With `*args`, any number of extra arguments can be tacked on to your current formal parameters (including zero extra arguments).\n",
    "\n",
    "### ~ Example ~"
   ]
  },
  {
   "cell_type": "code",
   "execution_count": 1,
   "metadata": {},
   "outputs": [
    {
     "name": "stdout",
     "output_type": "stream",
     "text": [
      "<class 'tuple'>\n",
      "384\n"
     ]
    }
   ],
   "source": [
    "def multiply(*args):  \n",
    "    result = 1\n",
    "    # print(type(args))\n",
    "    for arg in args:  \n",
    "        result *= arg\n",
    "        \n",
    "    return result\n",
    "    \n",
    "print(multiply(1, 2, 4, 6, 8))"
   ]
  },
  {
   "attachments": {},
   "cell_type": "markdown",
   "metadata": {},
   "source": [
    "## _2.3 `**kwargs` Arguments_\n",
    "\n",
    "The special syntax `**kwargs` in function definitions in python is used to pass a keyworded, variable-length argument list. We use the name kwargs with the double star. The reason is because the double star allows us to pass through keyword arguments (and any number of them).\n",
    "\n",
    "- A keyword argument is where you provide a name to the variable as you pass it into the function.\n",
    "- One can think of the kwargs as being a dictionary that maps each keyword to the value that we pass alongside it. That is why when we iterate over the kwargs there doesn’t seem to be any order in which they were printed out.\n",
    "\n",
    "### ~ Example ~"
   ]
  },
  {
   "cell_type": "code",
   "execution_count": 7,
   "metadata": {},
   "outputs": [
    {
     "name": "stdout",
     "output_type": "stream",
     "text": [
      "<class 'dict'>\n",
      "{'language': 'python', 'error': 'type error', 'var1': 'var1 value'}\n",
      "Key: language, Value: python.\n",
      "Key: error, Value: type error.\n",
      "Key: var1, Value: var1 value.\n"
     ]
    }
   ],
   "source": [
    "def debug_printing(**kwargs): \n",
    "    # print(type(kwargs))\n",
    "    # print(kwargs)\n",
    "    for key, value in kwargs.items(): \n",
    "        print (\"Key: {}, Value: {}.\".format(key, value)) # another way of formatting string (f-string)\n",
    "  \n",
    "# Driver code \n",
    "language = \"python\"\n",
    "error = \"type error\"\n",
    "var1 = \"var1 value\"\n",
    "\n",
    "debug_printing(language=\"python\", error=\"type error\", var1=\"var1 value\")"
   ]
  },
  {
   "attachments": {},
   "cell_type": "markdown",
   "metadata": {},
   "source": [
    "# Section 3 - `lambda` Function\n",
    "\n",
    "A `lambda` function is a small anonymous function.  \n",
    "A `lambda` function can take any number of arguments, but **can only have one expression**.\n",
    "\n",
    "Syntax of `lambda` function looks like this:\n",
    "\n",
    "`[lambda keyword] [arguments] : [expression]`\n",
    "\n",
    "### ~ Example ~"
   ]
  },
  {
   "cell_type": "code",
   "execution_count": 8,
   "metadata": {},
   "outputs": [
    {
     "name": "stdout",
     "output_type": "stream",
     "text": [
      "20\n",
      "3\n"
     ]
    }
   ],
   "source": [
    "fn = lambda x, y: x * y\n",
    "\n",
    "print(fn(4, 5))\n",
    "\n",
    "fn = lambda lst: lst[0] + lst[1]\n",
    "\n",
    "print(fn([1, 2]))"
   ]
  },
  {
   "attachments": {},
   "cell_type": "markdown",
   "metadata": {},
   "source": [
    "# Section 4 - `map` and `filter` Functions\n",
    "\n",
    "## _4.1 `map` function_\n",
    "\n",
    "`map` applies a `map_function` to each and every `item` in an `input_list`. Here is the syntax:\n",
    "\n",
    "`map(map_function, input_list)`\n",
    "\n",
    "**Take note that `map` returns a `sequence` object, we need to cast it back to `list` again using type casting `list()`.**\n",
    "\n",
    "### ~ Example ~"
   ]
  },
  {
   "cell_type": "code",
   "execution_count": 9,
   "metadata": {},
   "outputs": [
    {
     "name": "stdout",
     "output_type": "stream",
     "text": [
      "[2, 8, 12, 'ss', 'abcabc']\n"
     ]
    }
   ],
   "source": [
    "def double_a_value(x):\n",
    "    return 2 * x\n",
    "\n",
    "lst = [1, 4, 6, \"s\", \"abc\"]\n",
    "\n",
    "new_lst = list(map(double_a_value, lst))\n",
    "\n",
    "print(new_lst)"
   ]
  },
  {
   "cell_type": "code",
   "execution_count": 10,
   "metadata": {},
   "outputs": [
    {
     "name": "stdout",
     "output_type": "stream",
     "text": [
      "[2, 8, 12, 'ss', 'abcabc']\n"
     ]
    }
   ],
   "source": [
    "# rewrite the above code in 1 line using lambda function\n",
    "\n",
    "new_lst = list(map(lambda x: 2 * x, lst))\n",
    "\n",
    "print(new_lst)"
   ]
  },
  {
   "attachments": {},
   "cell_type": "markdown",
   "metadata": {},
   "source": [
    "## _4.2 `filter` function_\n",
    "\n",
    "`filter` checks through an `input_list` and returns a new sequence of elements which satisfy a `filter_function`. The `filter_function` should return either `True` or `False`.\n",
    "\n",
    "`filter(filter_function, input_list)`\n",
    "\n",
    "**Take note that `filter` returns a `sequence` object, we need to cast it back to `list` again using type casting `list()`.**\n",
    "\n",
    "### ~ Example ~"
   ]
  },
  {
   "cell_type": "code",
   "execution_count": null,
   "metadata": {},
   "outputs": [],
   "source": [
    "def check_if_str(x):\n",
    "    if type(x) == str:\n",
    "        return True\n",
    "    else:\n",
    "        return False\n",
    "\n",
    "lst = [1, 4, 6, \"s\", \"abc\"]\n",
    "\n",
    "new_lst = list(filter(check_if_str, lst))\n",
    "\n",
    "print(new_lst)"
   ]
  },
  {
   "cell_type": "code",
   "execution_count": 11,
   "metadata": {},
   "outputs": [
    {
     "name": "stdout",
     "output_type": "stream",
     "text": [
      "['s', 'abc']\n"
     ]
    }
   ],
   "source": [
    "# rewrite the above code in 1 line using lambda function\n",
    "\n",
    "new_lst = list(filter(lambda x: True if type(x) == str else False, lst))\n",
    "\n",
    "print(new_lst)"
   ]
  },
  {
   "attachments": {},
   "cell_type": "markdown",
   "metadata": {},
   "source": [
    "# Section 5 - Application and Exercise\n",
    "\n",
    "## Exercise 5.1 - Passed Name List\n",
    "\n",
    "Given:\n",
    "\n",
    "`class_test = [['John', 51], ['Mary', 49], ['Tim', 80], ['Sam', 70]]`\n",
    "\n",
    "Problem : Using `map`, `filter` and `lambda` functions, retrieve a `list` of names of student who have passed their test."
   ]
  },
  {
   "cell_type": "code",
   "execution_count": 23,
   "metadata": {},
   "outputs": [
    {
     "name": "stdout",
     "output_type": "stream",
     "text": [
      "<class 'map'>\n",
      "<map object at 0x000001CF4C842530>\n"
     ]
    }
   ],
   "source": [
    "class_test = [['John', 51], ['Mary', 49], ['Tim', 80], ['Sam', 70]]\n",
    "\n",
    "# Your code here\n",
    "\n",
    "passed_students = (map(lambda name: name[0], filter(lambda studentScore: True if studentScore[1] >= 50 else False, class_test)))\n",
    "\n",
    "print(passed_students)"
   ]
  },
  {
   "attachments": {},
   "cell_type": "markdown",
   "metadata": {},
   "source": [
    "## Exercise 5.2 - Row Sum\n",
    "\n",
    "Given:\n",
    "`m = [[ 1, 2, 3], [4, 5, 6], [7, 8, 9]]`\n",
    "\n",
    "Problem : Using `map`, `filter` and `lambda` functions, find the sum of each row and return as a list."
   ]
  },
  {
   "cell_type": "code",
   "execution_count": 20,
   "metadata": {},
   "outputs": [
    {
     "name": "stdout",
     "output_type": "stream",
     "text": [
      "[6, 15, 24]\n"
     ]
    }
   ],
   "source": [
    "m = [[1, 2, 3], [4, 5, 6], [7, 8, 9]]\n",
    "\n",
    "# Your code here\n",
    "\n",
    "sumList = list(map(lambda x: sum(x), m))\n",
    "\n",
    "print(sumList)"
   ]
  },
  {
   "attachments": {},
   "cell_type": "markdown",
   "metadata": {},
   "source": [
    "## Exercise 5.3 - Transpose Matrix\n",
    "\n",
    "Given:\n",
    "`m = [[ 1, 2, 3], [4, 5, 6], [7, 8, 9]]`\n",
    "\n",
    "Problem : Using `map`, `filter` and `lambda` functions, transpose the matrix."
   ]
  },
  {
   "cell_type": "code",
   "execution_count": 25,
   "metadata": {},
   "outputs": [
    {
     "name": "stdout",
     "output_type": "stream",
     "text": [
      "[[1, 4, 7], [2, 5, 8], [3, 6, 9]]\n"
     ]
    }
   ],
   "source": [
    "m = [\n",
    "    [1, 2, 3],\n",
    "    [4, 5, 6],\n",
    "    [7, 8, 9]\n",
    "]\n",
    "\n",
    "m2 = list(map(lambda *row: list(row), *m))\n",
    "\n",
    "# *m unpacks the m list as coloums i.e [1, 4, 7], [2, 5, 8], [3, 6, 9]\n",
    "# *row takes in the unpacked list as rows i.e [1, 4, 7], [2, 5, 8], [3, 6, 9]\n",
    "# list(row) converts the row tuple to list\n",
    "# list(map(lambda *row: list(row), *m)) converts the unpacked list to list of lists\n",
    "      \n",
    "print(m2)\n",
    "# Your code here\n"
   ]
  },
  {
   "attachments": {},
   "cell_type": "markdown",
   "metadata": {},
   "source": [
    "# Reference\n",
    "\n",
    "1. [Higher Order Functions and Decorators](https://www.hackerearth.com/zh/practice/python/functional-programming/higher-order-functions-and-decorators/tutorial/)\n",
    "2. [`*args` and `**kwargs` in Python](https://www.geeksforgeeks.org/args-kwargs-python/)\n",
    "3. [Python Lambda](https://www.w3schools.com/python/python_lambda.asp)\n",
    "4. [Map, Filter and Reduce](http://book.pythontips.com/en/latest/map_filter.html)"
   ]
  }
 ],
 "metadata": {
  "kernelspec": {
   "display_name": "Python 3",
   "language": "python",
   "name": "python3"
  },
  "language_info": {
   "codemirror_mode": {
    "name": "ipython",
    "version": 3
   },
   "file_extension": ".py",
   "mimetype": "text/x-python",
   "name": "python",
   "nbconvert_exporter": "python",
   "pygments_lexer": "ipython3",
   "version": "3.10.7"
  }
 },
 "nbformat": 4,
 "nbformat_minor": 2
}
