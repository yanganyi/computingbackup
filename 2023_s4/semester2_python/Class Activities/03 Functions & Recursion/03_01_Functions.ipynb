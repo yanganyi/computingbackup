{
 "cells": [
  {
   "attachments": {},
   "cell_type": "markdown",
   "metadata": {},
   "source": [
    "# 03_01 - Functions\n",
    "\n",
    "## Understanding Goals\n",
    "\n",
    "At the end of this chapter, you should be able to:\n",
    "- Define and Call a function.\n",
    "- Understand parameters, arguments and return values of functions.\n",
    "- Understand the scope of variables\n",
    "- Able to use of python functions/libraries such as `input`, `math` and `random`"
   ]
  },
  {
   "attachments": {},
   "cell_type": "markdown",
   "metadata": {},
   "source": [
    "# Section 1 - Function in Python\n",
    "\n",
    "## _1.1 Function Definition_\n",
    "\n",
    "We should be very familiar with functions in Mathematics, such as $ f(x) = {x^{2} + 1} $.\n",
    "\n",
    "In this example:\n",
    "- $f$ is the **function name**,\n",
    "- variable $x$ is the **input**,\n",
    "- $ x^{2} + 1 $ is the calculation **process** and\n",
    "- the result of $ x^{2} + 1 $ is the **output**.\n",
    "\n",
    "Similarlly in python, a function is defined with the following elements:\n",
    "- function name\n",
    "- input or parameters (in programming terms)\n",
    "- process or body statements (in programming terms)\n",
    "- output or return value (in programming terms)\n",
    "\n",
    "The syntax of function definition is as follows:\n",
    "\n",
    "``` python\n",
    "def function_name(parameter1, parameter2, ...):\n",
    "    body_statement1\n",
    "    body_statement2\n",
    "    ...\n",
    "    return return_value\n",
    "```\n",
    "\n",
    "**Indentation** is extremely important when we define the body statements. Only the indented statements are considered as part of the function.\n",
    "\n",
    "### ~ Example ~\n",
    "\n",
    "The above math function can be translated to the following:"
   ]
  },
  {
   "cell_type": "code",
   "execution_count": null,
   "metadata": {},
   "outputs": [],
   "source": [
    "def f(x):\n",
    "    result = x ** 2 + 1\n",
    "    return result"
   ]
  },
  {
   "attachments": {},
   "cell_type": "markdown",
   "metadata": {},
   "source": [
    "## _1.2 Calling Functions_\n",
    "\n",
    "Function should always be defined **before** they are being called. To execute a function, we can **call** it by using its function name, and embed the arguments inside the parentheses.\n",
    "\n",
    "Please take note that in python programs, the **parameters** and **return statements** are optional.\n",
    "\n",
    "### ~ Example ~"
   ]
  },
  {
   "cell_type": "code",
   "execution_count": 5,
   "metadata": {},
   "outputs": [
    {
     "name": "stdout",
     "output_type": "stream",
     "text": [
      "Good morning!\n"
     ]
    }
   ],
   "source": [
    "# In this function, both parameter and return statement are missing\n",
    "def greeting():\n",
    "    print(\"Good morning!\")\n",
    "\n",
    "# When the function is executed, no input values are needed\n",
    "greeting()"
   ]
  },
  {
   "attachments": {},
   "cell_type": "markdown",
   "metadata": {},
   "source": [
    "The above function `greeting()` prints out a greeting message `\"Good morning!\"` to the computer. How about if we want to greet someone by their name, such as `\"Good morning Mr Zhou!\"` or `\"Good morning Xiao Ming!\"`?"
   ]
  },
  {
   "cell_type": "code",
   "execution_count": null,
   "metadata": {},
   "outputs": [],
   "source": [
    "def greeting_mr_zhou():\n",
    "    print(\"Good morning Mr Zhou!\")\n",
    "\n",
    "def greeting_xiao_ming():\n",
    "    print(\"Good morning Xiao Ming!\")\n",
    "    \n",
    "greeting_mr_zhou()\n",
    "greeting_xiao_ming()"
   ]
  },
  {
   "attachments": {},
   "cell_type": "markdown",
   "metadata": {},
   "source": [
    "The above is a example of **Hard Coding**. The function is defined in such a way where it can only serve a limited amount of purpose, and not scalable to other context.\n",
    "\n",
    "### - Exercise -\n",
    "\n",
    "What if we want to create a function which will take in a string `name` and prints out a greeting message including the person's `name`?"
   ]
  },
  {
   "cell_type": "code",
   "execution_count": 4,
   "metadata": {},
   "outputs": [
    {
     "name": "stdout",
     "output_type": "stream",
     "text": [
      "Good morning Yunsong!\n"
     ]
    }
   ],
   "source": [
    "# Please include your code here\n",
    "\n",
    "def greeting(name):\n",
    "    print(\"Good morning\", name + \"!\")\n",
    "    \n",
    "greeting(\"Yunsong\")"
   ]
  },
  {
   "attachments": {},
   "cell_type": "markdown",
   "metadata": {},
   "source": [
    "## _1.3 Function Parameters_\n",
    "\n",
    "**Parameter** refers to variables in the function declaration.  \n",
    "**Argument** refers to the actual values of this variable when the function is executed.\n",
    "\n",
    "When calling a function, the arguments must match with the parameters.\n",
    "\n",
    "### ~ Example ~"
   ]
  },
  {
   "cell_type": "code",
   "execution_count": null,
   "metadata": {},
   "outputs": [],
   "source": [
    "def func_1(name, age):\n",
    "    print(\"My name is \" + name + \", and my age is \" + str(age) + \".\")\n",
    "\n",
    "func_1(\"Xiao Ming\", 17)\n",
    "\n",
    "# How about the following function calls? Uncomment to run and observe their error messages.\n",
    "# func_1(\"Xiao Ming\")\n",
    "# func_1(\"Xiao Ming\", 17, 19)\n",
    "# func_1(17, \"Xiao Ming\")"
   ]
  },
  {
   "attachments": {},
   "cell_type": "markdown",
   "metadata": {},
   "source": [
    "**Keyword arguments** refers to the way of passing arguments by specifying the parameter names.\n",
    "\n",
    "### ~ Example ~"
   ]
  },
  {
   "cell_type": "code",
   "execution_count": null,
   "metadata": {},
   "outputs": [],
   "source": [
    "def func_1(name, age):\n",
    "    print(\"My name is \" + name + \", and my age is \" + str(age) + \".\")\n",
    "\n",
    "# we can specify the parameter name when making a function call\n",
    "func_1(age=17, name=\"Xiao Ming\")"
   ]
  },
  {
   "attachments": {},
   "cell_type": "markdown",
   "metadata": {},
   "source": [
    "**Default arguments** refers to assigning a default value to a parameter in the function declaration. When no value is provided, the default value will be used.\n",
    "\n",
    "### ~ Example ~"
   ]
  },
  {
   "cell_type": "code",
   "execution_count": null,
   "metadata": {
    "scrolled": true
   },
   "outputs": [],
   "source": [
    "def func_1(name, age=17):\n",
    "    print(\"My name is \" + name + \", and my age is \" + str(age) + \".\")\n",
    "\n",
    "# when no value is provided for the \"age\" parameter, value of 17 will be used.\n",
    "func_1(\"Xiao Ming\")\n",
    "\n",
    "# when a value is provided for the \"age\" parameter, the default value will be overwritten\n",
    "func_1(\"Xiao Ming\", 21)"
   ]
  },
  {
   "attachments": {},
   "cell_type": "markdown",
   "metadata": {},
   "source": [
    "## _1.4 The `return` Statement_\n",
    "\n",
    "In Python, the `return` statement is used to end the execution of a function and return a value to the caller. When a function is called, any expression following the `return` keyword is evaluated and returned to the caller. If the return statement is not followed by any expression, or if it is omitted altogether, the function will return `None` by default.\n",
    "\n",
    "Here is a simple example of a function that uses the `return` statement to return the sum of two numbers:"
   ]
  },
  {
   "cell_type": "code",
   "execution_count": null,
   "metadata": {},
   "outputs": [],
   "source": [
    "def add_numbers(x, y):\n",
    "    total = x + y\n",
    "    return total\n",
    "\n",
    "result = add_numbers(3, 4)\n",
    "print(result)  # prints 7"
   ]
  },
  {
   "attachments": {},
   "cell_type": "markdown",
   "metadata": {},
   "source": [
    "The `return` statement can also be used to terminate the execution of a function prematurely. For example, in the following function, the `return` statement is used to exit the function early if the input is invalid:"
   ]
  },
  {
   "cell_type": "code",
   "execution_count": 5,
   "metadata": {},
   "outputs": [
    {
     "name": "stdout",
     "output_type": "stream",
     "text": [
      "Error: Cannot compute square root of negative number\n",
      "None\n"
     ]
    }
   ],
   "source": [
    "def square_root(x):\n",
    "    if x < 0:\n",
    "        print(\"Error: Cannot compute square root of negative number\")\n",
    "        return\n",
    "    \n",
    "    return math.sqrt(x)\n",
    "\n",
    "result = square_root(-2)\n",
    "print(result)  # prints None"
   ]
  },
  {
   "attachments": {},
   "cell_type": "markdown",
   "metadata": {},
   "source": [
    "## _1.5 Difference between `return` and `print()`_\n",
    "\n",
    "The `return` statement is used to end the execution of a function and return a value to the caller. When a function is called, any expression following the `return` keyword is evaluated and returned to the caller. If the return statement is not followed by any expression, or if it is omitted altogether, the function will return `None` by default.\n",
    "\n",
    "The `print()` function, on the other hand, is used to display output on the console. It does not return any value to the caller."
   ]
  },
  {
   "cell_type": "code",
   "execution_count": 7,
   "metadata": {},
   "outputs": [
    {
     "name": "stdout",
     "output_type": "stream",
     "text": [
      "Good morning!\n",
      "Good morning!\n",
      "None\n"
     ]
    }
   ],
   "source": [
    "def greeting():\n",
    "    print(\"Good morning!\")\n",
    "\n",
    "greeting()\n",
    "    \n",
    "# Since there is no return statement, there is no output value from the function.\n",
    "# Guess what is the outcome if we uncomment the following code? \n",
    "print(greeting())"
   ]
  },
  {
   "attachments": {},
   "cell_type": "markdown",
   "metadata": {},
   "source": [
    "# Section 2 - Scope of Variables\n",
    "\n",
    "## _2.1 Local Variables_\n",
    "\n",
    "**Local variables** are variables limited to the local scope of the function.\n",
    "\n",
    "### ~ Example ~"
   ]
  },
  {
   "cell_type": "code",
   "execution_count": 8,
   "metadata": {},
   "outputs": [
    {
     "name": "stdout",
     "output_type": "stream",
     "text": [
      "inside func_1\n",
      "x = 100\n",
      "y = 2\n",
      "z = -3\n",
      "outside func_1\n",
      "x = 5\n",
      "y = 10\n",
      "z = -3\n"
     ]
    }
   ],
   "source": [
    "x = 5\n",
    "y = 10\n",
    "z = -3\n",
    "\n",
    "def func_1(x):\n",
    "    y = 2\n",
    "    print(\"inside func_1\")\n",
    "    print(\"x =\", x)\n",
    "    print(\"y =\", y)\n",
    "    print(\"z =\", z)\n",
    "\n",
    "func_1(100)\n",
    "\n",
    "print(\"outside func_1\")\n",
    "print(\"x =\", x)\n",
    "print(\"y =\", y)\n",
    "print(\"z =\", z)"
   ]
  },
  {
   "attachments": {},
   "cell_type": "markdown",
   "metadata": {},
   "source": [
    "Take note that `x`(100) and `y`(2) inside the `func_1` are new **local variables** created only at the time when the function is executed. Because they happens to possess the same variable name as compaired to the **global variables** `x`(5) and `y`(10), they overwrites the global variable during their **life time** in the current local function. Their life time expires at the end of the function.\n",
    "\n",
    "However, for variable `z`, because there is no local variable `z` being defined, it continues to carry its value in the global scope.\n",
    "\n",
    "You may also use the function `locals()` to print out the local variables in the current function."
   ]
  },
  {
   "cell_type": "code",
   "execution_count": 9,
   "metadata": {},
   "outputs": [
    {
     "name": "stdout",
     "output_type": "stream",
     "text": [
      "{'x': 100, 'y': 2}\n"
     ]
    }
   ],
   "source": [
    "x = 5\n",
    "y = 10\n",
    "z = -3\n",
    "\n",
    "def func_1(x):\n",
    "    y = 2\n",
    "    print(locals())\n",
    "\n",
    "func_1(100)"
   ]
  },
  {
   "attachments": {},
   "cell_type": "markdown",
   "metadata": {},
   "source": [
    "We can also use the keyword `global` to change the scope of a local variable to a global variable.\n",
    "\n",
    "### ~ Example ~"
   ]
  },
  {
   "cell_type": "code",
   "execution_count": null,
   "metadata": {},
   "outputs": [],
   "source": [
    "x = 5\n",
    "y = 10\n",
    "z = -3\n",
    "\n",
    "def func_1(x):    \n",
    "    global y\n",
    "    print(\"inside func_1, before reassigning value of y\")\n",
    "    print(\"x =\", x)\n",
    "    print(\"y =\", y)\n",
    "    print(\"z =\", z)\n",
    "    \n",
    "    y = 2\n",
    "    print(\"inside func_1, after reassigning value of y\")\n",
    "    print(\"x =\", x)\n",
    "    print(\"y =\", y)\n",
    "    print(\"z =\", z)\n",
    "\n",
    "func_1(100)\n",
    "print(\"outside func_1\")\n",
    "print(\"x =\", x)\n",
    "print(\"y =\", y)\n",
    "print(\"z =\", z)"
   ]
  },
  {
   "attachments": {},
   "cell_type": "markdown",
   "metadata": {},
   "source": [
    "## _2.2 Local Functions_\n",
    "\n",
    "**Local functions** can be defined to be used in the local context too.\n",
    "\n",
    "### ~ Example ~"
   ]
  },
  {
   "cell_type": "code",
   "execution_count": null,
   "metadata": {},
   "outputs": [],
   "source": [
    "def func_1():\n",
    "    def func_2():\n",
    "        print(\"Good morning!\")\n",
    "    \n",
    "    print(locals())\n",
    "    func_2()\n",
    "\n",
    "func_1()\n",
    "\n",
    "# The following function call attempts to call func_2() outside its local scope\n",
    "# Uncomment to test if it is possible.\n",
    "# func_2()"
   ]
  },
  {
   "attachments": {},
   "cell_type": "markdown",
   "metadata": {},
   "source": [
    "# Section 3 - Useful Python Libraries/Methods/Functions\n",
    "\n",
    "## _3.1 `input()` Function_\n",
    "\n",
    "### ~ Example ~\n",
    "\n",
    "The `input()` function takes in a `str` argument stating the instructions for users. It will prompt user to input a `str` type value and return it to the python program"
   ]
  },
  {
   "cell_type": "code",
   "execution_count": null,
   "metadata": {},
   "outputs": [],
   "source": [
    "user_input = input(\"Please key in your name: \")\n",
    "print(user_input)"
   ]
  },
  {
   "attachments": {},
   "cell_type": "markdown",
   "metadata": {},
   "source": [
    "Take note that the returned input is always in `str` type, hence we would need to perform a type casting when it is meant for other data types."
   ]
  },
  {
   "cell_type": "code",
   "execution_count": null,
   "metadata": {
    "scrolled": true
   },
   "outputs": [],
   "source": [
    "user_age = int(input(\"Please key in your age: \"))\n",
    "print(user_age)"
   ]
  },
  {
   "attachments": {},
   "cell_type": "markdown",
   "metadata": {},
   "source": [
    "## _3.2 Importing Python Libraries & `math` Library_\n",
    "\n",
    "`math` is a predefined python library containing useful mathematical functions.  \n",
    "[Reference](https://docs.python.org/3.7/library/math.html)\n",
    "\n",
    "To import functions inside `math`, there are two ways.\n",
    "\n",
    "**1. `import math`**\n",
    "\n",
    "The syntax goes like this:\n",
    "\n",
    "```python\n",
    "import math\n",
    "```\n",
    "\n",
    "When calling the functions, we would need to add the prefix of `math.` to it.\n",
    "\n",
    "### ~ Example ~"
   ]
  },
  {
   "cell_type": "code",
   "execution_count": null,
   "metadata": {},
   "outputs": [],
   "source": [
    "import math\n",
    "\n",
    "print(math.sqrt(100))"
   ]
  },
  {
   "attachments": {},
   "cell_type": "markdown",
   "metadata": {},
   "source": [
    "**2. `from math import *`**\n",
    "\n",
    "The syntax goes like this:\n",
    "\n",
    "```python\n",
    "from math import *\n",
    "```\n",
    "\n",
    "When calling the functions, we do **not** need to add the prefix anymore.\n",
    "\n",
    "### ~ Example ~"
   ]
  },
  {
   "cell_type": "code",
   "execution_count": null,
   "metadata": {},
   "outputs": [],
   "source": [
    "from math import *\n",
    "\n",
    "print(sqrt(100))"
   ]
  },
  {
   "attachments": {},
   "cell_type": "markdown",
   "metadata": {},
   "source": [
    "**3. Importing specific functions**\n",
    "\n",
    "Sometimes we do not need all the functions inside a library. We can `import` specific functions using the following syntax.\n",
    "\n",
    "```python\n",
    "from math import sqrt, pi\n",
    "```\n",
    "\n",
    "### ~ Example ~"
   ]
  },
  {
   "cell_type": "code",
   "execution_count": null,
   "metadata": {},
   "outputs": [],
   "source": [
    "from math import sqrt, pi\n",
    "\n",
    "print(sqrt(pi))"
   ]
  },
  {
   "attachments": {},
   "cell_type": "markdown",
   "metadata": {},
   "source": [
    "## _3.3 `random` Library_\n",
    "\n",
    "The `random` library is another important python library we can use in may scenarios. We can use it to generate random numbers, or shuffle lists.\n",
    "\n",
    "### ~ Example ~"
   ]
  },
  {
   "cell_type": "code",
   "execution_count": 11,
   "metadata": {},
   "outputs": [
    {
     "name": "stdout",
     "output_type": "stream",
     "text": [
      "0.6211596518251787\n",
      "10\n"
     ]
    }
   ],
   "source": [
    "import random\n",
    "\n",
    "# use random.random() to generate a random floating point number in the range [0.0, 1.0)\n",
    "print(random.random())\n",
    "\n",
    "# use random.randint(a, b) to generate a random integer from a to b (inclusive)\n",
    "print(random.randint(3, 10))"
   ]
  },
  {
   "attachments": {},
   "cell_type": "markdown",
   "metadata": {},
   "source": [
    "`list` is another data type we will be learning in a few chapters. Basically a `list` contains a series of elements in an indexed order. We can also use functions in the `random` library to manipulate data in a `list`."
   ]
  },
  {
   "cell_type": "code",
   "execution_count": 12,
   "metadata": {},
   "outputs": [
    {
     "name": "stdout",
     "output_type": "stream",
     "text": [
      "<class 'list'>\n",
      "d\n",
      "['c', 'e', 'a', 'd', 'b']\n"
     ]
    }
   ],
   "source": [
    "# use random.choice(lst) to choose a random element in the list \"lst\"\n",
    "lst = [\"a\", \"b\", \"c\", \"d\", \"e\"]\n",
    "print(type(lst))\n",
    "print(random.choice(lst))\n",
    "\n",
    "# use random.shuffle(lst) to shuffle the order of elements in the list \"lst\"\n",
    "random.shuffle(lst)\n",
    "print(lst)"
   ]
  },
  {
   "attachments": {},
   "cell_type": "markdown",
   "metadata": {},
   "source": [
    "# Section 4 - Conclusion\n",
    "\n",
    "## _4.1 Advantages of Functions_\n",
    "\n",
    "**Modularity**\n",
    "\n",
    "Modular programming is a software design technique that emphasizes separating the functionality of a program into independent, interchangeable modules, such that each contains everything necessary to execute only one aspect of the desired functionality.  \n",
    "[Reference](https://en.wikipedia.org/wiki/Modular_programming)\n",
    "\n",
    "Functions are basic building blocks in programming languages which could help us to achieve modularity in our codes.\n",
    "\n",
    "**Reusability**\n",
    "\n",
    "Another advantage which came along with functions is the possibility to reuse the same function repeatedly.\n",
    "\n",
    "**Abstraction**\n",
    "\n",
    "Function is like a **black box**, we only need to know the function name, parameters needed, what the function does and lastly its output format.\n",
    "\n",
    "When a function call is made, the user does not need to know how the function is implemented inside;  \n",
    "Similarly, when we create/adjust the contents inside a function, we just need to align with the input and output format, but the detailed implementation can be flexible."
   ]
  },
  {
   "attachments": {},
   "cell_type": "markdown",
   "metadata": {},
   "source": [
    "## 4.2 _Questions for self-exploration:_\n",
    "\n",
    "### - Exercise -\n",
    "\n",
    "1. What will happen when we use `globals()` function in jupyter notebook? How about running the same code in IDLE editor? Try with the following block of code. Why is there a difference?"
   ]
  },
  {
   "cell_type": "code",
   "execution_count": 14,
   "metadata": {},
   "outputs": [
    {
     "name": "stdout",
     "output_type": "stream",
     "text": [
      "{'x': 100, 'y': 2}\n"
     ]
    },
    {
     "data": {
      "text/plain": [
       "{'__name__': '__main__',\n",
       " '__doc__': 'Automatically created module for IPython interactive environment',\n",
       " '__package__': None,\n",
       " '__loader__': None,\n",
       " '__spec__': None,\n",
       " '__builtin__': <module 'builtins' (built-in)>,\n",
       " '__builtins__': <module 'builtins' (built-in)>,\n",
       " '_ih': ['',\n",
       "  '# Please include your code here\\n\\ndef greeting(name):\\n    print(\"Good morning\", name)',\n",
       "  '# Please include your code here\\n\\ndef greeting(name):\\n    print(\"Good morning\", name)\\n    \\ngreeting(\"Yunsong\")',\n",
       "  '# Please include your code here\\n\\ndef greeting(name):\\n    print(\"Good morning\", name, \"!\")\\n    \\ngreeting(\"Yunsong\")',\n",
       "  '# Please include your code here\\n\\ndef greeting(name):\\n    print(\"Good morning\", name + \"!\")\\n    \\ngreeting(\"Yunsong\")',\n",
       "  'def square_root(x):\\n    if x < 0:\\n        print(\"Error: Cannot compute square root of negative number\")\\n        return\\n    \\n    return math.sqrt(x)\\n\\nresult = square_root(-2)\\nprint(result)  # prints None',\n",
       "  'def greeting():\\n    print(\"Good morning!\")\\n\\ngreeting()\\n    \\n# Since there is no return statement, there is no output value from the function.\\n# Guess what is the outcome if we uncomment the following code? \\nprint(greeting())``',\n",
       "  'def greeting():\\n    print(\"Good morning!\")\\n\\ngreeting()\\n    \\n# Since there is no return statement, there is no output value from the function.\\n# Guess what is the outcome if we uncomment the following code? \\nprint(greeting())',\n",
       "  'x = 5\\ny = 10\\nz = -3\\n\\ndef func_1(x):\\n    y = 2\\n    print(\"inside func_1\")\\n    print(\"x =\", x)\\n    print(\"y =\", y)\\n    print(\"z =\", z)\\n\\nfunc_1(100)\\n\\nprint(\"outside func_1\")\\nprint(\"x =\", x)\\nprint(\"y =\", y)\\nprint(\"z =\", z)',\n",
       "  'x = 5\\ny = 10\\nz = -3\\n\\ndef func_1(x):\\n    y = 2\\n    print(locals())\\n\\nfunc_1(100)',\n",
       "  '# use random.choice(lst) to choose a random element in the list \"lst\"\\nlst = [\"a\", \"b\", \"c\", \"d\", \"e\"]\\nprint(type(lst))\\nprint(random.choice(lst))\\n\\n# use random.shuffle(lst) to shuffle the order of elements in the list \"lst\"\\nrandom.shuffle(lst)\\nprint(lst)',\n",
       "  'import random\\n\\n# use random.random() to generate a random floating point number in the range [0.0, 1.0)\\nprint(random.random())\\n\\n# use random.randint(a, b) to generate a random integer from a to b (inclusive)\\nprint(random.randint(3, 10))',\n",
       "  '# use random.choice(lst) to choose a random element in the list \"lst\"\\nlst = [\"a\", \"b\", \"c\", \"d\", \"e\"]\\nprint(type(lst))\\nprint(random.choice(lst))\\n\\n# use random.shuffle(lst) to shuffle the order of elements in the list \"lst\"\\nrandom.shuffle(lst)\\nprint(lst)',\n",
       "  'x = 5\\ny = 10\\nz = -3\\n\\ndef func_1(x):\\n    y = 2\\n    print(locals())\\n\\nfunc_1(100)\\nglobals()',\n",
       "  'x = 5\\ny = 10\\nz = -3\\n\\ndef func_1(x):\\n    y = 2\\n    print(locals())\\n\\nfunc_1(100)\\nglobals()'],\n",
       " '_oh': {13: {...}},\n",
       " '_dh': [WindowsPath('c:/Users/zhuyu/computing/2023_sec4/semester2_python/03 Functions & Recursion'),\n",
       "  WindowsPath('c:/Users/zhuyu/computing/2023_sec4/semester2_python/03 Functions & Recursion')],\n",
       " 'In': ['',\n",
       "  '# Please include your code here\\n\\ndef greeting(name):\\n    print(\"Good morning\", name)',\n",
       "  '# Please include your code here\\n\\ndef greeting(name):\\n    print(\"Good morning\", name)\\n    \\ngreeting(\"Yunsong\")',\n",
       "  '# Please include your code here\\n\\ndef greeting(name):\\n    print(\"Good morning\", name, \"!\")\\n    \\ngreeting(\"Yunsong\")',\n",
       "  '# Please include your code here\\n\\ndef greeting(name):\\n    print(\"Good morning\", name + \"!\")\\n    \\ngreeting(\"Yunsong\")',\n",
       "  'def square_root(x):\\n    if x < 0:\\n        print(\"Error: Cannot compute square root of negative number\")\\n        return\\n    \\n    return math.sqrt(x)\\n\\nresult = square_root(-2)\\nprint(result)  # prints None',\n",
       "  'def greeting():\\n    print(\"Good morning!\")\\n\\ngreeting()\\n    \\n# Since there is no return statement, there is no output value from the function.\\n# Guess what is the outcome if we uncomment the following code? \\nprint(greeting())``',\n",
       "  'def greeting():\\n    print(\"Good morning!\")\\n\\ngreeting()\\n    \\n# Since there is no return statement, there is no output value from the function.\\n# Guess what is the outcome if we uncomment the following code? \\nprint(greeting())',\n",
       "  'x = 5\\ny = 10\\nz = -3\\n\\ndef func_1(x):\\n    y = 2\\n    print(\"inside func_1\")\\n    print(\"x =\", x)\\n    print(\"y =\", y)\\n    print(\"z =\", z)\\n\\nfunc_1(100)\\n\\nprint(\"outside func_1\")\\nprint(\"x =\", x)\\nprint(\"y =\", y)\\nprint(\"z =\", z)',\n",
       "  'x = 5\\ny = 10\\nz = -3\\n\\ndef func_1(x):\\n    y = 2\\n    print(locals())\\n\\nfunc_1(100)',\n",
       "  '# use random.choice(lst) to choose a random element in the list \"lst\"\\nlst = [\"a\", \"b\", \"c\", \"d\", \"e\"]\\nprint(type(lst))\\nprint(random.choice(lst))\\n\\n# use random.shuffle(lst) to shuffle the order of elements in the list \"lst\"\\nrandom.shuffle(lst)\\nprint(lst)',\n",
       "  'import random\\n\\n# use random.random() to generate a random floating point number in the range [0.0, 1.0)\\nprint(random.random())\\n\\n# use random.randint(a, b) to generate a random integer from a to b (inclusive)\\nprint(random.randint(3, 10))',\n",
       "  '# use random.choice(lst) to choose a random element in the list \"lst\"\\nlst = [\"a\", \"b\", \"c\", \"d\", \"e\"]\\nprint(type(lst))\\nprint(random.choice(lst))\\n\\n# use random.shuffle(lst) to shuffle the order of elements in the list \"lst\"\\nrandom.shuffle(lst)\\nprint(lst)',\n",
       "  'x = 5\\ny = 10\\nz = -3\\n\\ndef func_1(x):\\n    y = 2\\n    print(locals())\\n\\nfunc_1(100)\\nglobals()',\n",
       "  'x = 5\\ny = 10\\nz = -3\\n\\ndef func_1(x):\\n    y = 2\\n    print(locals())\\n\\nfunc_1(100)\\nglobals()'],\n",
       " 'Out': {13: {...}},\n",
       " 'get_ipython': <bound method InteractiveShell.get_ipython of <ipykernel.zmqshell.ZMQInteractiveShell object at 0x000001F0CD481900>>,\n",
       " 'exit': <IPython.core.autocall.ZMQExitAutocall at 0x1f0cd482410>,\n",
       " 'quit': <IPython.core.autocall.ZMQExitAutocall at 0x1f0cd482410>,\n",
       " 'open': <function io.open(file, mode='r', buffering=-1, encoding=None, errors=None, newline=None, closefd=True, opener=None)>,\n",
       " '_': {...},\n",
       " '__': '',\n",
       " '___': '',\n",
       " '__vsc_ipynb_file__': 'c:\\\\Users\\\\zhuyu\\\\computing\\\\2023_sec4\\\\semester2_python\\\\03 Functions & Recursion\\\\03_01_Functions.ipynb',\n",
       " '_i': 'x = 5\\ny = 10\\nz = -3\\n\\ndef func_1(x):\\n    y = 2\\n    print(locals())\\n\\nfunc_1(100)\\nglobals()',\n",
       " '_ii': '# use random.choice(lst) to choose a random element in the list \"lst\"\\nlst = [\"a\", \"b\", \"c\", \"d\", \"e\"]\\nprint(type(lst))\\nprint(random.choice(lst))\\n\\n# use random.shuffle(lst) to shuffle the order of elements in the list \"lst\"\\nrandom.shuffle(lst)\\nprint(lst)',\n",
       " '_iii': 'import random\\n\\n# use random.random() to generate a random floating point number in the range [0.0, 1.0)\\nprint(random.random())\\n\\n# use random.randint(a, b) to generate a random integer from a to b (inclusive)\\nprint(random.randint(3, 10))',\n",
       " '_i1': '# Please include your code here\\n\\ndef greeting(name):\\n    print(\"Good morning\", name)',\n",
       " 'greeting': <function __main__.greeting()>,\n",
       " '_i2': '# Please include your code here\\n\\ndef greeting(name):\\n    print(\"Good morning\", name)\\n    \\ngreeting(\"Yunsong\")',\n",
       " '_i3': '# Please include your code here\\n\\ndef greeting(name):\\n    print(\"Good morning\", name, \"!\")\\n    \\ngreeting(\"Yunsong\")',\n",
       " '_i4': '# Please include your code here\\n\\ndef greeting(name):\\n    print(\"Good morning\", name + \"!\")\\n    \\ngreeting(\"Yunsong\")',\n",
       " '_i5': 'def square_root(x):\\n    if x < 0:\\n        print(\"Error: Cannot compute square root of negative number\")\\n        return\\n    \\n    return math.sqrt(x)\\n\\nresult = square_root(-2)\\nprint(result)  # prints None',\n",
       " 'square_root': <function __main__.square_root(x)>,\n",
       " 'result': None,\n",
       " '_i6': 'def greeting():\\n    print(\"Good morning!\")\\n\\ngreeting()\\n    \\n# Since there is no return statement, there is no output value from the function.\\n# Guess what is the outcome if we uncomment the following code? \\nprint(greeting())``',\n",
       " '_i7': 'def greeting():\\n    print(\"Good morning!\")\\n\\ngreeting()\\n    \\n# Since there is no return statement, there is no output value from the function.\\n# Guess what is the outcome if we uncomment the following code? \\nprint(greeting())',\n",
       " '_i8': 'x = 5\\ny = 10\\nz = -3\\n\\ndef func_1(x):\\n    y = 2\\n    print(\"inside func_1\")\\n    print(\"x =\", x)\\n    print(\"y =\", y)\\n    print(\"z =\", z)\\n\\nfunc_1(100)\\n\\nprint(\"outside func_1\")\\nprint(\"x =\", x)\\nprint(\"y =\", y)\\nprint(\"z =\", z)',\n",
       " 'x': 5,\n",
       " 'y': 10,\n",
       " 'z': -3,\n",
       " 'func_1': <function __main__.func_1(x)>,\n",
       " '_i9': 'x = 5\\ny = 10\\nz = -3\\n\\ndef func_1(x):\\n    y = 2\\n    print(locals())\\n\\nfunc_1(100)',\n",
       " '_i10': '# use random.choice(lst) to choose a random element in the list \"lst\"\\nlst = [\"a\", \"b\", \"c\", \"d\", \"e\"]\\nprint(type(lst))\\nprint(random.choice(lst))\\n\\n# use random.shuffle(lst) to shuffle the order of elements in the list \"lst\"\\nrandom.shuffle(lst)\\nprint(lst)',\n",
       " 'lst': ['c', 'e', 'a', 'd', 'b'],\n",
       " '_i11': 'import random\\n\\n# use random.random() to generate a random floating point number in the range [0.0, 1.0)\\nprint(random.random())\\n\\n# use random.randint(a, b) to generate a random integer from a to b (inclusive)\\nprint(random.randint(3, 10))',\n",
       " 'random': <module 'random' from 'c:\\\\Users\\\\zhuyu\\\\AppData\\\\Local\\\\Programs\\\\Python\\\\Python310\\\\lib\\\\random.py'>,\n",
       " '_i12': '# use random.choice(lst) to choose a random element in the list \"lst\"\\nlst = [\"a\", \"b\", \"c\", \"d\", \"e\"]\\nprint(type(lst))\\nprint(random.choice(lst))\\n\\n# use random.shuffle(lst) to shuffle the order of elements in the list \"lst\"\\nrandom.shuffle(lst)\\nprint(lst)',\n",
       " '_i13': 'x = 5\\ny = 10\\nz = -3\\n\\ndef func_1(x):\\n    y = 2\\n    print(locals())\\n\\nfunc_1(100)\\nglobals()',\n",
       " '_13': {...},\n",
       " '_i14': 'x = 5\\ny = 10\\nz = -3\\n\\ndef func_1(x):\\n    y = 2\\n    print(locals())\\n\\nfunc_1(100)\\nglobals()'}"
      ]
     },
     "execution_count": 14,
     "metadata": {},
     "output_type": "execute_result"
    }
   ],
   "source": [
    "x = 5\n",
    "y = 10\n",
    "z = -3\n",
    "\n",
    "def func_1(x):\n",
    "    y = 2\n",
    "    print(locals())\n",
    "\n",
    "func_1(100)\n",
    "globals()"
   ]
  }
 ],
 "metadata": {
  "kernelspec": {
   "display_name": "Python 3 (ipykernel)",
   "language": "python",
   "name": "python3"
  },
  "language_info": {
   "codemirror_mode": {
    "name": "ipython",
    "version": 3
   },
   "file_extension": ".py",
   "mimetype": "text/x-python",
   "name": "python",
   "nbconvert_exporter": "python",
   "pygments_lexer": "ipython3",
   "version": "3.10.7"
  }
 },
 "nbformat": 4,
 "nbformat_minor": 2
}
