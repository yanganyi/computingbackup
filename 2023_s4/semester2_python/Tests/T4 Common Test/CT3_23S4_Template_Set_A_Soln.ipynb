{
 "cells": [
  {
   "cell_type": "markdown",
   "metadata": {},
   "source": [
    "# YEAR 2023 Class Test - Sec 4 Term 3 Set A\n",
    "\n",
    "**Duration**: 45 Mins\n",
    "\n",
    "**<font color='red'>\n",
    "Please save your work constantly!\n",
    "</font>**"
   ]
  },
  {
   "cell_type": "markdown",
   "metadata": {},
   "source": [
    "# Exam Instructions\n",
    "\n",
    "Answer all questions.\n",
    "\n",
    "All tasks must be done in the computer laboratory. You are not allowed to bring in or take out any pieces of work, materials, paper or electronic media or in any other form.\n",
    "\n",
    "All tasks are numbered.\n",
    "\n",
    "The number of marks is given in brackets \\[ \\]  at the end of the task, the total mark of this paper is **20**.\n",
    "\n",
    "If any cell is accidentally deleted in the jupyter notebook, you may refer to the html file to recover the content.\n",
    "\n",
    "You are allowed to add new cells to the notebook, but please make sure to write meaningful comments to explain the purpose.\n",
    "\n",
    "At the end of the examination, **SAVE** all the changes in the notebook, and save all your source files in the thumb drive and do NOT delete your source files."
   ]
  },
  {
   "cell_type": "code",
   "execution_count": null,
   "metadata": {},
   "outputs": [],
   "source": [
    "# string format example:\n",
    "# the following code will format:\n",
    "# - the string \"right\" to be right aligned in a 8 character wide space\n",
    "# - the string \"left\" to be left aligned in a 10 character wide space\n",
    "# - the string \"center\" to be center aligned in a 12 character wide space\n",
    "\n",
    "example = \"|{:>8}|{:<10}|{:^12}|\".format(\"right\", \"left\", \"center\")\n",
    "\n",
    "# execute the cell to see the result\n",
    "# you should see the following output:\n",
    "# |   right|left      |   center   |\n",
    "print(example)"
   ]
  },
  {
   "cell_type": "markdown",
   "metadata": {},
   "source": [
    "# Task 1.1\n",
    "\n",
    "Implement `validate_isbn()` function.\n",
    "\n",
    "<div style=\"text-align:right; font-weight:bold\">Marks: [5]</div>"
   ]
  },
  {
   "cell_type": "code",
   "execution_count": null,
   "metadata": {},
   "outputs": [],
   "source": [
    "# Your code for Task 1.1 here\n",
    "\n"
   ]
  },
  {
   "cell_type": "code",
   "execution_count": null,
   "metadata": {},
   "outputs": [],
   "source": [
    "# Suggested solution for Task 1.1\n",
    "\n",
    "def validate_isbn(isbn):\n",
    "    isbn = isbn.replace(\"-\", \"\")\n",
    "\n",
    "    if len(isbn) == 10:\n",
    "        # check digit check for isbn 10\n",
    "        total = 0\n",
    "        for i in range(9):\n",
    "            total += int(isbn[i]) * (10 - i)\n",
    "\n",
    "        check_digit = (11 - (total % 11)) % 11\n",
    "\n",
    "        if check_digit == 10:\n",
    "            check_digit = \"X\"\n",
    "        else:\n",
    "            check_digit = str(check_digit)\n",
    "\n",
    "        # print(\"valid isbn: \" + isbn[:-1] + check_digit)\n",
    "        return isbn[9] == check_digit\n",
    "    elif len(isbn) == 13:\n",
    "        # check digit check for isbn 13\n",
    "        total = 0\n",
    "        for i in range(12):\n",
    "            if i % 2 == 0:\n",
    "                total += int(isbn[i])\n",
    "            else:\n",
    "                total += int(isbn[i]) * 3\n",
    "\n",
    "        check_digit = str((10 - (total % 10)) % 10)\n",
    "\n",
    "        # print(\"valid isbn: \" + isbn[:-1] + check_digit)\n",
    "        return check_digit == isbn[12]\n",
    "    else:\n",
    "        return False"
   ]
  },
  {
   "cell_type": "code",
   "execution_count": null,
   "metadata": {},
   "outputs": [],
   "source": [
    "# test code for Task 1.1\n",
    "def test_check_isbn():\n",
    "    print(validate_isbn(\"1-6673-7897-X\"))  # True\n",
    "    print(validate_isbn(\"1-6673-7897-2\"))  # False\n",
    "    print(validate_isbn(\"0-3873-7235-0\"))  # True\n",
    "    print(validate_isbn(\"0-3873-7235-1\"))  # False\n",
    "\n",
    "test_check_isbn()"
   ]
  },
  {
   "cell_type": "markdown",
   "metadata": {},
   "source": [
    "# Task 1.2\n",
    "\n",
    "Implement class `Book` and `TYS` according to the UML class diagram and the attributes / methods specifications.\n",
    "\n",
    "<div style=\"text-align:right; font-weight:bold\">Marks: [9]</div>"
   ]
  },
  {
   "cell_type": "code",
   "execution_count": null,
   "metadata": {},
   "outputs": [],
   "source": [
    "# Your code for Task 1.2 here\n",
    "\n"
   ]
  },
  {
   "cell_type": "code",
   "execution_count": null,
   "metadata": {},
   "outputs": [],
   "source": [
    "# Suggested solution for Task 1.2\n",
    "\n",
    "class Book:\n",
    "    def __init__(self, title, author, isbn):\n",
    "        self._title = title\n",
    "        self._author = author\n",
    "        self._isbn = isbn\n",
    "\n",
    "    # getters and setters\n",
    "    def get_title(self):\n",
    "        return self._title\n",
    "\n",
    "    def get_author(self):\n",
    "        return self._author\n",
    "\n",
    "    def get_isbn(self):\n",
    "        return self._isbn\n",
    "\n",
    "    def set_title(self, title):\n",
    "        self._title = title\n",
    "\n",
    "    def set_author(self, author):\n",
    "        self._author = author\n",
    "\n",
    "    # validate isbn 13\n",
    "    def validate_isbn(self):\n",
    "        return validate_isbn(self._isbn)\n",
    "\n",
    "    def __str__(self):\n",
    "        return \"|{:<25}|{:<20}|{:<20}|\".format(\n",
    "            self._title, self._author, self._isbn)\n",
    "\n",
    "\n",
    "class TYS(Book):\n",
    "    def __init__(self, title, author, isbn, subject):\n",
    "        super().__init__(title, author, isbn)\n",
    "        self._subject = subject\n",
    "\n",
    "    # getters and setters\n",
    "    def get_subject(self):\n",
    "        return self._subject\n",
    "\n",
    "    def set_subject(self, subject):\n",
    "        self._subject = subject\n",
    "\n",
    "    def __str__(self):\n",
    "        return super().__str__() + \"{:<15}|\".format(self._subject)"
   ]
  },
  {
   "cell_type": "markdown",
   "metadata": {},
   "source": [
    "# Task 1.3\n",
    "\n",
    "Create `Book` and `TYS` objects based on the given data, and print them out. For this task, you do **NOT** need to print the header and the horizontal line.\n",
    "\n",
    "<div style=\"text-align:right; font-weight:bold\">Marks: [2]</div>"
   ]
  },
  {
   "cell_type": "code",
   "execution_count": null,
   "metadata": {},
   "outputs": [],
   "source": [
    "# Create the following Book objects:\n",
    "# |Title                    |Author              |ISBN                |\n",
    "# ---------------------------------------------------------------------\n",
    "# |Python for Dummies       |Stef Maruch         |1-6673-7897-X       |\n",
    "# |To Kill a Mockingbird    |Harper Lee          |0-3873-7235-0       |\n",
    "\n",
    "# Create the following TYS objects:\n",
    "# |Title                    |Author              |ISBN                |Subject        |\n",
    "# -------------------------------------------------------------------------------------\n",
    "# |TYS for Computing        |Tan Ah Teck         |2-3487-6909-3       |Computing      |\n",
    "# |TYS for Calculus         |James Stewart       |4-4752-8244-6       |Mathematics    |"
   ]
  },
  {
   "cell_type": "code",
   "execution_count": null,
   "metadata": {},
   "outputs": [],
   "source": [
    "# Your code for Task 1.3 here\n",
    "# Create Book and TYS objects\n",
    "\n",
    "# Use print statement to print out the above objects created\n",
    "\n"
   ]
  },
  {
   "cell_type": "code",
   "execution_count": null,
   "metadata": {},
   "outputs": [],
   "source": [
    "# Suggested solution for Task 1.3\n",
    "\n",
    "# Create Book and TYS objects\n",
    "book1 = Book(\"Python for Dummies\", \"Stef Maruch\", \"1-6673-7897-X\")\n",
    "book2 = Book(\"To Kill a Mockingbird\", \"Harper Lee\", \"0-3873-7235-0\")\n",
    "tys1 = TYS(\"TYS for Computing\", \"Tan Ah Teck\", \"2-3487-6909-3\", \"Computing\")\n",
    "tys2 = TYS(\"TYS for Calculus\", \"James Stewart\", \"4-4752-8244-6\", \"Mathematics\")\n",
    "\n",
    "# Use print statement to print out the above objects created\n",
    "print(book1)\n",
    "print(book2)\n",
    "print(tys1)\n",
    "print(tys2)"
   ]
  },
  {
   "cell_type": "markdown",
   "metadata": {},
   "source": [
    "# Task 1.4\n",
    "\n",
    "Implement class `BookShelf` according to the UML class diagram and the attributes / methods specifications.\n",
    "\n",
    "<div style=\"text-align:right; font-weight:bold\">Marks: [2]</div>"
   ]
  },
  {
   "cell_type": "code",
   "execution_count": null,
   "metadata": {},
   "outputs": [],
   "source": [
    "# Your code for Task 1.4 here\n",
    "\n"
   ]
  },
  {
   "cell_type": "code",
   "execution_count": null,
   "metadata": {},
   "outputs": [],
   "source": [
    "# Suggested solution for Task 1.4\n",
    "\n",
    "class BookShelf:\n",
    "    def __init__(self, cat):\n",
    "        self._cat = cat\n",
    "        self._books = []\n",
    "\n",
    "    # getters and setters\n",
    "    def get_cat(self):\n",
    "        return self._cat\n",
    "\n",
    "    def set_cat(self, cat):\n",
    "        self._cat = cat\n",
    "\n",
    "    def get_books(self):\n",
    "        return self._books\n",
    "\n",
    "    def add_book(self, book):\n",
    "        self._books.append(book)\n",
    "\n",
    "    def __str__(self):\n",
    "        total_length = 25 + 20 + 20 + 15 + 5\n",
    "        print(\"Category: \" + self._cat + \"\\n\")\n",
    "        output = \"|{:<25}|{:<20}|{:<20}|{:<15}|\".format(\n",
    "            \"Title\",\n",
    "            \"Author\",\n",
    "            \"ISBN\",\n",
    "            \"Details\")\n",
    "        output += \"\\n\"\n",
    "        output += \"-\" * total_length\n",
    "        output += \"\\n\"\n",
    "        for book in self._books:\n",
    "            output += str(book) + \"\\n\"\n",
    "        output += \"-\" * total_length\n",
    "        return output"
   ]
  },
  {
   "cell_type": "code",
   "execution_count": null,
   "metadata": {},
   "outputs": [],
   "source": [
    "# test code for Task 1.4\n",
    "def test_book_shelf():\n",
    "    bs = BookShelf(\"TYS\")\n",
    "    bs = BookShelf(\"TYS\")\n",
    "    book1 = TYS(\"TYS for Computing\", \"Tan Ah Teck\",\n",
    "                \"2-3487-6909-3\", \"Computing\")\n",
    "    book2 = TYS(\"TYS for Calculus\", \"James Stewart\",\n",
    "                \"4-4752-8244-6\", \"Mathematics\")\n",
    "    book3 = TYS(\"TYS for Physics\", \"Chia Suan Chong\",\n",
    "                \"6-6639-3891-6\", \"Physics\")\n",
    "    book4 = TYS(\"TYS for Chemistry\", \"John Green\",\n",
    "                \"5-8141-9694-7\", \"Chemistry\")\n",
    "    book5 = TYS(\"TYS for Biology\", \"Lim Ah Lian\", \"1-8387-0895-2\", \"Biology\")\n",
    "    book6 = TYS(\"TYS for Economics\", \"Chew Ah Meng\",\n",
    "                \"8-0511-9141-2\", \"Economics\")\n",
    "\n",
    "    books = [book1, book2, book3, book4, book5, book6]\n",
    "\n",
    "    for book in books:\n",
    "        bs.add_book(book)\n",
    "\n",
    "    print(bs)\n",
    "\n",
    "\n",
    "test_book_shelf()"
   ]
  },
  {
   "cell_type": "markdown",
   "metadata": {},
   "source": [
    "## Task 2 - Count Upper- and Lower-Case Letters (Recursion)\n",
    "\n",
    "### Description\n",
    "\n",
    "Implement a **recursive** function `count_case()` which takes in a string `s`, such as `\"I Love Computing!\"`, count the number of upper and lower case alphabets and return in a `list` format: `[3, 11]`.\n",
    "\n",
    "### ~ Evidence 2 ~\n",
    "\n",
    "- Program code of function `count_case()`.\n",
    "- You will also be assessed, but not limited to, based on the standard output of the following function calls.\n",
    "    - `count_case(\"I Love H2 Computing!\")`\n",
    "    - `count_case(\"Today is a beautiful day!\"))`\n",
    "\n",
    "<div style=\"text-align:right; font-weight:bold\">Marks: [2]</div>"
   ]
  },
  {
   "cell_type": "code",
   "execution_count": null,
   "metadata": {},
   "outputs": [],
   "source": [
    "# Your code for Task 2\n",
    "\n"
   ]
  },
  {
   "cell_type": "code",
   "execution_count": null,
   "metadata": {},
   "outputs": [],
   "source": [
    "# Suggested solution for Task 2\n",
    "\n",
    "# method 1\n",
    "def count_case(s):\n",
    "    if len(s) == 0:\n",
    "        return [0, 0]\n",
    "    else:\n",
    "        upper_count, lower_count = count_case(s[1:])\n",
    "        if s[0].isupper():\n",
    "            return [upper_count + 1, lower_count]\n",
    "        elif s[0].islower():\n",
    "            return [upper_count, lower_count + 1]\n",
    "        else:\n",
    "            return [upper_count, lower_count]\n",
    "\n",
    "# method 2\n",
    "def count_case(s):\n",
    "    def count_uppper(s):\n",
    "        if len(s) == 0:\n",
    "            return 0\n",
    "        else:\n",
    "            return count_uppper(s[1:]) + (1 if s[0].isupper() else 0)\n",
    "        \n",
    "    def count_lower(s):\n",
    "        if len(s) == 0:\n",
    "            return 0\n",
    "        else:\n",
    "            return count_lower(s[1:]) + (1 if s[0].islower() else 0)\n",
    "        \n",
    "    return [count_uppper(s), count_lower(s)]"
   ]
  },
  {
   "cell_type": "code",
   "execution_count": null,
   "metadata": {},
   "outputs": [],
   "source": [
    "# Test cases for Task 2\n",
    "print(count_case(\"I Love Computing!\"))  # [3, 11]\n",
    "print(count_case(\"Today is a beautiful day!\"))  # [1, 19]"
   ]
  }
 ],
 "metadata": {
  "kernelspec": {
   "display_name": "Python 3 (ipykernel)",
   "language": "python",
   "name": "python3"
  },
  "language_info": {
   "codemirror_mode": {
    "name": "ipython",
    "version": 3
   },
   "file_extension": ".py",
   "mimetype": "text/x-python",
   "name": "python",
   "nbconvert_exporter": "python",
   "pygments_lexer": "ipython3",
   "version": "3.11.4"
  }
 },
 "nbformat": 4,
 "nbformat_minor": 2
}
