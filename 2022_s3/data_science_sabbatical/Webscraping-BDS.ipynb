{
 "cells": [
  {
   "cell_type": "code",
   "execution_count": 7,
   "metadata": {},
   "outputs": [],
   "source": [
    "from urllib.request import Request, urlopen\n",
    "import requests\n",
    "from bs4 import BeautifulSoup\n",
    "import csv"
   ]
  },
  {
   "cell_type": "code",
   "execution_count": 8,
   "metadata": {},
   "outputs": [],
   "source": [
    "import pandas as pd\n",
    "import numpy as np"
   ]
  },
  {
   "cell_type": "code",
   "execution_count": 9,
   "metadata": {},
   "outputs": [],
   "source": [
    "# not necessary to import these for this exercise but time.sleep(3) gives a pause of 3 seconds. \n",
    "# necessary when you are crawling a lot of data - you need to pause in between crawls \n",
    "# so they don't ban you  \n",
    "import os\n",
    "import sys\n",
    "import time\n",
    "time.sleep(3)"
   ]
  },
  {
   "cell_type": "code",
   "execution_count": null,
   "metadata": {},
   "outputs": [],
   "source": [
    "# if you want to know where your packages are installed at\n",
    "sys.path"
   ]
  },
  {
   "cell_type": "code",
   "execution_count": null,
   "metadata": {},
   "outputs": [],
   "source": [
    "# if you want to know what packages you have\n",
    "# could take some time to load\n",
    "help(\"modules\")"
   ]
  },
  {
   "cell_type": "markdown",
   "metadata": {},
   "source": [
    "### Example 1 "
   ]
  },
  {
   "cell_type": "code",
   "execution_count": null,
   "metadata": {},
   "outputs": [],
   "source": [
    "site = \"http://edition.cnn.com/travel/article/most-visited-cities-euromonitor-2018/index.html\"\n",
    "hdr = {'User-Agent': 'Mozilla/5.0'}\n",
    "bookpage = requests.get(site)\n",
    "soup = BeautifulSoup(bookpage.text, \"lxml\")"
   ]
  },
  {
   "cell_type": "code",
   "execution_count": null,
   "metadata": {},
   "outputs": [],
   "source": [
    "print(soup.prettify)"
   ]
  },
  {
   "cell_type": "code",
   "execution_count": null,
   "metadata": {},
   "outputs": [],
   "source": [
    "soup.find_all('div', class_=\"Paragraph__component\")"
   ]
  },
  {
   "cell_type": "code",
   "execution_count": null,
   "metadata": {
    "scrolled": true
   },
   "outputs": [],
   "source": [
    "soup.find_all('div', class_=\"Paragraph__component\")[23]"
   ]
  },
  {
   "cell_type": "code",
   "execution_count": null,
   "metadata": {},
   "outputs": [],
   "source": [
    "# dropping html tags with .get_text()\n",
    "# the output has all the information - I want to get the variables part by part from this output\n",
    "# i.e. rank, country, count of arrivals in 2017, count of arrivals in 2018\n",
    "soup.find_all('div', class_=\"Paragraph__component\")[23].get_text()"
   ]
  },
  {
   "cell_type": "code",
   "execution_count": null,
   "metadata": {},
   "outputs": [],
   "source": [
    "state = soup.find_all('div', class_=\"Paragraph__component\")[23].get_text()\n",
    "# i get the part before the '.'. before is represented by 0 in the [].\n",
    "rank = state.split('.')[0]\n",
    "rank"
   ]
  },
  {
   "cell_type": "code",
   "execution_count": null,
   "metadata": {},
   "outputs": [],
   "source": [
    "# i get the city after the '.' and before the ':'. \n",
    "# before is represented by 0 in the [] and after is represented by 1.\n",
    "city = state.split('. ')[1].split(':')[0]\n",
    "city"
   ]
  },
  {
   "cell_type": "code",
   "execution_count": null,
   "metadata": {},
   "outputs": [],
   "source": [
    "# i get the arrival count in 2017 by taking the part after ':' and before ' arrivals (2017)'.\n",
    "# before is represented by 0 in the [] and after is represented by 1.\n",
    "arrivals_2017 = state.split(': ')[1].split(' arrivals (2017)')[0]\n",
    "arrivals_2017"
   ]
  },
  {
   "cell_type": "code",
   "execution_count": null,
   "metadata": {},
   "outputs": [],
   "source": [
    "# i get the arrival count in 2018 by taking the part after '/' and before ' arrivals (2018)'.\n",
    "# before is represented by 0 in the [] and after is represented by 1.\n",
    "arrivals_2018 = state.split('/ ')[1].split(' arrivals (2018)')[0]\n",
    "arrivals_2018"
   ]
  },
  {
   "cell_type": "code",
   "execution_count": null,
   "metadata": {},
   "outputs": [],
   "source": [
    "# i realised that the arrival counts are not in numeric but string format\n",
    "# i split them up into three elements in a list\n",
    "arrivals_2017.split(',')"
   ]
  },
  {
   "cell_type": "code",
   "execution_count": null,
   "metadata": {},
   "outputs": [],
   "source": [
    "# i take the first number in the list and multiply by 1000000\n",
    "int(arrivals_2017.split(',')[0])*1000000"
   ]
  },
  {
   "cell_type": "code",
   "execution_count": null,
   "metadata": {
    "scrolled": false
   },
   "outputs": [],
   "source": [
    "# i take the second number in the list and multiply by 1000\n",
    "int(arrivals_2017.split(',')[1])*1000"
   ]
  },
  {
   "cell_type": "code",
   "execution_count": null,
   "metadata": {},
   "outputs": [],
   "source": [
    "arrivals = []\n",
    "for i in range(23,43):\n",
    "    state = soup.find_all('div', class_=\"Paragraph__component\")[i].get_text()\n",
    "    rank = state.split('.')[0]\n",
    "    cc = state.split('. ')[1].split(':')[0]\n",
    "    try:\n",
    "        city = cc.split(', ')[0]\n",
    "    except:\n",
    "        city = cc\n",
    "    try: \n",
    "        country = cc.split(', ')[1]\n",
    "    except:\n",
    "        country = city\n",
    "    arrivals_2017 = state.split(': ')[1].split(' arrivals (2017)')[0]\n",
    "    arrivals_2017 = int(int(arrivals_2017.split(',')[0])*1000000 + int(arrivals_2017.split(',')[1])*1000 + int(arrivals_2017.split(',')[2]))\n",
    "    arrivals_2018 = state.split('/ ')[1].split(' arrivals (2018)')[0]\n",
    "    arrivals_2018 = int(int(arrivals_2018.split(',')[0])*1000000 + int(arrivals_2018.split(',')[1])*1000 + int(arrivals_2018.split(',')[2]))\n",
    "    \n",
    "    arrivals.append((rank, city, country, arrivals_2017, arrivals_2018))"
   ]
  },
  {
   "cell_type": "code",
   "execution_count": null,
   "metadata": {},
   "outputs": [],
   "source": [
    "df = pd.DataFrame(np.array(arrivals))\n",
    "df.columns = ['rank', 'city', 'country', 'arrivals_2017', 'arrivals_2018']"
   ]
  },
  {
   "cell_type": "code",
   "execution_count": null,
   "metadata": {},
   "outputs": [],
   "source": [
    "df"
   ]
  },
  {
   "cell_type": "code",
   "execution_count": null,
   "metadata": {},
   "outputs": [],
   "source": [
    "# somehow Python still doesn't recognise the values as integers  \n",
    "df['arrivals_2017'].describe()"
   ]
  },
  {
   "cell_type": "code",
   "execution_count": null,
   "metadata": {},
   "outputs": [],
   "source": [
    "df[[\"arrivals_2017\", \"arrivals_2018\"]] = df[[\"arrivals_2017\", \"arrivals_2018\"]].apply(pd.to_numeric)"
   ]
  },
  {
   "cell_type": "code",
   "execution_count": null,
   "metadata": {},
   "outputs": [],
   "source": [
    "# now the variable is in numeric format\n",
    "df['arrivals_2017'].describe()"
   ]
  },
  {
   "cell_type": "code",
   "execution_count": null,
   "metadata": {},
   "outputs": [],
   "source": [
    "# now i can do some data manipulation\n",
    "df['Diff'] = df['arrivals_2018'] - df['arrivals_2017'] \n",
    "df"
   ]
  },
  {
   "cell_type": "code",
   "execution_count": null,
   "metadata": {
    "scrolled": false
   },
   "outputs": [],
   "source": [
    "# extra: if i want to print a number with comma separator\n",
    "print(\"Formatted Number with comma separator: \"+\"{:,}\".format(3000));"
   ]
  },
  {
   "cell_type": "code",
   "execution_count": null,
   "metadata": {},
   "outputs": [],
   "source": [
    "df.to_csv('arrivals2018.csv')"
   ]
  },
  {
   "cell_type": "markdown",
   "metadata": {},
   "source": [
    "### Example 2"
   ]
  },
  {
   "cell_type": "code",
   "execution_count": null,
   "metadata": {},
   "outputs": [],
   "source": [
    "site = \"https://www.businessinsider.sg/highest-paying-jobs-america-best-jobs-millennials-2017-10/\"\n",
    "hdr = {'User-Agent': 'Mozilla/5.0'}\n",
    "bookpage = requests.get(site)\n",
    "soup = BeautifulSoup(bookpage.text, \"lxml\")"
   ]
  },
  {
   "cell_type": "code",
   "execution_count": null,
   "metadata": {},
   "outputs": [],
   "source": [
    "soup.find_all('h3')"
   ]
  },
  {
   "cell_type": "code",
   "execution_count": null,
   "metadata": {},
   "outputs": [],
   "source": [
    "soup.find_all('p')"
   ]
  },
  {
   "cell_type": "code",
   "execution_count": null,
   "metadata": {},
   "outputs": [],
   "source": [
    "soup.find_all('p')[10]"
   ]
  },
  {
   "cell_type": "code",
   "execution_count": null,
   "metadata": {},
   "outputs": [],
   "source": [
    "soup.find_all('p')[11]"
   ]
  },
  {
   "cell_type": "code",
   "execution_count": null,
   "metadata": {},
   "outputs": [],
   "source": [
    "soup.find_all('p')[12]"
   ]
  },
  {
   "cell_type": "code",
   "execution_count": null,
   "metadata": {
    "scrolled": true
   },
   "outputs": [],
   "source": [
    "soup.find_all('p')[16]"
   ]
  },
  {
   "cell_type": "code",
   "execution_count": null,
   "metadata": {},
   "outputs": [],
   "source": [
    "soup.find_all('p')[21]"
   ]
  },
  {
   "cell_type": "code",
   "execution_count": null,
   "metadata": {},
   "outputs": [],
   "source": [
    "soup.find_all('p')[26]"
   ]
  },
  {
   "cell_type": "code",
   "execution_count": null,
   "metadata": {},
   "outputs": [],
   "source": [
    "soup.find_all('p')[51]"
   ]
  },
  {
   "cell_type": "code",
   "execution_count": null,
   "metadata": {},
   "outputs": [],
   "source": [
    "job = []\n",
    "for i in range(0,9):\n",
    "    title = soup.find_all('h3')[i].get_text()\n",
    "    rank = title.split('. ')[0]\n",
    "    tle = title.split('. ')[1]\n",
    "    job.append((rank,tle))"
   ]
  },
  {
   "cell_type": "code",
   "execution_count": null,
   "metadata": {
    "scrolled": true
   },
   "outputs": [],
   "source": [
    "job"
   ]
  },
  {
   "cell_type": "code",
   "execution_count": null,
   "metadata": {},
   "outputs": [],
   "source": [
    "metrics = []\n",
    "for i in range(0,2):\n",
    "    unemp = soup.find_all('p')[10+i*6].get_text()\n",
    "    rate = unemp.split(': ')[1]\n",
    "    rate = rate.split('%')[0]\n",
    "    sal_med = soup.find_all('p')[11+i*6].get_text()\n",
    "    median = sal_med.split('$')[1]\n",
    "    sal_ave = soup.find_all('p')[12+i*6].get_text()\n",
    "    average = sal_ave.split('$')[1]\n",
    "    metrics.append((rate,median,average))\n",
    "for i in range(0,7):\n",
    "    unemp = soup.find_all('p')[21+i*5].get_text()\n",
    "    rate = unemp.split(': ')[1]\n",
    "    rate = rate.split('%')[0]\n",
    "    sal_med = soup.find_all('p')[22+i*5].get_text()\n",
    "    median = sal_med.split('$')[1]\n",
    "    sal_ave = soup.find_all('p')[23+i*5].get_text()\n",
    "    average = sal_ave.split('$')[1]\n",
    "    metrics.append((rate,median,average))"
   ]
  },
  {
   "cell_type": "code",
   "execution_count": null,
   "metadata": {},
   "outputs": [],
   "source": [
    "metrics"
   ]
  },
  {
   "cell_type": "code",
   "execution_count": null,
   "metadata": {},
   "outputs": [],
   "source": [
    "len(metrics)"
   ]
  },
  {
   "cell_type": "code",
   "execution_count": null,
   "metadata": {},
   "outputs": [],
   "source": [
    "df1 = pd.DataFrame(np.array(job))\n",
    "df1.columns = ['rank', 'title']\n",
    "df2 = pd.DataFrame(np.array(metrics))\n",
    "df2.columns = ['unemprate', 'mediansal', 'avesal']\n",
    "df1.join(df2, how=\"left\")"
   ]
  },
  {
   "cell_type": "code",
   "execution_count": null,
   "metadata": {},
   "outputs": [],
   "source": [
    "df = df1.join(df2, how=\"left\")\n",
    "df"
   ]
  },
  {
   "cell_type": "code",
   "execution_count": null,
   "metadata": {},
   "outputs": [],
   "source": [
    "df.to_csv('ushighpayjobs2017.csv')"
   ]
  },
  {
   "cell_type": "markdown",
   "metadata": {},
   "source": [
    "### Practice"
   ]
  },
  {
   "cell_type": "code",
   "execution_count": 10,
   "metadata": {},
   "outputs": [],
   "source": [
    "site = \"https://stockx.com/sneakers/most-popular\"\n",
    "hdr = {'User-Agent': 'Mozilla/5.0'}\n",
    "bookpage = requests.get(site, headers= hdr)\n",
    "soup = BeautifulSoup(bookpage.text, \"lxml\")"
   ]
  },
  {
   "cell_type": "code",
   "execution_count": null,
   "metadata": {},
   "outputs": [],
   "source": [
    "print(soup.prettify)"
   ]
  },
  {
   "cell_type": "code",
   "execution_count": 12,
   "metadata": {
    "scrolled": false
   },
   "outputs": [
    {
     "data": {
      "text/plain": [
       "'adidas Yeezy Slide Pure (Restock Pair)'"
      ]
     },
     "execution_count": 12,
     "metadata": {},
     "output_type": "execute_result"
    }
   ],
   "source": [
    "soup.find_all('p', class_=\"chakra-text css-3lpefb\")[0].get_text()"
   ]
  },
  {
   "cell_type": "code",
   "execution_count": null,
   "metadata": {},
   "outputs": [],
   "source": [
    "soup.find_all('p', class_=\"chakra-text css-9ryi0c\")[0].get_text()"
   ]
  },
  {
   "cell_type": "code",
   "execution_count": 13,
   "metadata": {},
   "outputs": [
    {
     "data": {
      "text/plain": [
       "'2788 sold'"
      ]
     },
     "execution_count": 13,
     "metadata": {},
     "output_type": "execute_result"
    }
   ],
   "source": [
    "soup.find_all('p', class_=\"chakra-text css-guwsyb\")[0].get_text()"
   ]
  },
  {
   "cell_type": "code",
   "execution_count": 14,
   "metadata": {},
   "outputs": [
    {
     "name": "stderr",
     "output_type": "stream",
     "text": [
      "C:\\Users\\zhuyu\\AppData\\Local\\Temp/ipykernel_17896/2107067738.py:9: UserWarning: Pandas doesn't allow columns to be created via a new attribute name - see https://pandas.pydata.org/pandas-docs/stable/indexing.html#attribute-access\n",
      "  df.coloums = ['name', 'askPrice', 'quanity']\n"
     ]
    },
    {
     "data": {
      "text/html": [
       "<div>\n",
       "<style scoped>\n",
       "    .dataframe tbody tr th:only-of-type {\n",
       "        vertical-align: middle;\n",
       "    }\n",
       "\n",
       "    .dataframe tbody tr th {\n",
       "        vertical-align: top;\n",
       "    }\n",
       "\n",
       "    .dataframe thead th {\n",
       "        text-align: right;\n",
       "    }\n",
       "</style>\n",
       "<table border=\"1\" class=\"dataframe\">\n",
       "  <thead>\n",
       "    <tr style=\"text-align: right;\">\n",
       "      <th></th>\n",
       "      <th>0</th>\n",
       "      <th>1</th>\n",
       "      <th>2</th>\n",
       "    </tr>\n",
       "  </thead>\n",
       "  <tbody>\n",
       "    <tr>\n",
       "      <th>0</th>\n",
       "      <td>adidas Yeezy Slide Pure (Restock Pair)</td>\n",
       "      <td>$113</td>\n",
       "      <td>2788</td>\n",
       "    </tr>\n",
       "    <tr>\n",
       "      <th>1</th>\n",
       "      <td>adidas Yeezy Slide Ochre</td>\n",
       "      <td>$95</td>\n",
       "      <td>2180</td>\n",
       "    </tr>\n",
       "    <tr>\n",
       "      <th>2</th>\n",
       "      <td>Jordan 6 Retro UNC White</td>\n",
       "      <td>$275</td>\n",
       "      <td>2071</td>\n",
       "    </tr>\n",
       "    <tr>\n",
       "      <th>3</th>\n",
       "      <td>adidas Yeezy Slide Onyx</td>\n",
       "      <td>$145</td>\n",
       "      <td>1775</td>\n",
       "    </tr>\n",
       "    <tr>\n",
       "      <th>4</th>\n",
       "      <td>Nike Air Force 1 Low '07 White</td>\n",
       "      <td>$96</td>\n",
       "      <td>1682</td>\n",
       "    </tr>\n",
       "    <tr>\n",
       "      <th>5</th>\n",
       "      <td>adidas Yeezy Boost 350 V2 Dazzling Blue</td>\n",
       "      <td>$295</td>\n",
       "      <td>1383</td>\n",
       "    </tr>\n",
       "    <tr>\n",
       "      <th>6</th>\n",
       "      <td>Nike Dunk Low Retro White Black (2021)</td>\n",
       "      <td>$253</td>\n",
       "      <td>1165</td>\n",
       "    </tr>\n",
       "    <tr>\n",
       "      <th>7</th>\n",
       "      <td>Jordan 12 Retro Playoffs (2022)</td>\n",
       "      <td>$251</td>\n",
       "      <td>995</td>\n",
       "    </tr>\n",
       "    <tr>\n",
       "      <th>8</th>\n",
       "      <td>Jordan 6 Retro Mint Foam (W)</td>\n",
       "      <td>$222</td>\n",
       "      <td>928</td>\n",
       "    </tr>\n",
       "    <tr>\n",
       "      <th>9</th>\n",
       "      <td>Jordan 3 Retro Cardinal Red</td>\n",
       "      <td>$250</td>\n",
       "      <td>900</td>\n",
       "    </tr>\n",
       "    <tr>\n",
       "      <th>10</th>\n",
       "      <td>Nike Vaporwaffle sacai Sail Gum</td>\n",
       "      <td>$368</td>\n",
       "      <td>884</td>\n",
       "    </tr>\n",
       "    <tr>\n",
       "      <th>11</th>\n",
       "      <td>Nike Air Force 1 Low Supreme White</td>\n",
       "      <td>$142</td>\n",
       "      <td>841</td>\n",
       "    </tr>\n",
       "    <tr>\n",
       "      <th>12</th>\n",
       "      <td>Jordan 5 Retro Racer Blue</td>\n",
       "      <td>$240</td>\n",
       "      <td>798</td>\n",
       "    </tr>\n",
       "    <tr>\n",
       "      <th>13</th>\n",
       "      <td>Jordan 1 Retro High OG Patent Bred</td>\n",
       "      <td>$256</td>\n",
       "      <td>789</td>\n",
       "    </tr>\n",
       "    <tr>\n",
       "      <th>14</th>\n",
       "      <td>Jordan 11 Retro Cool Grey (2021)</td>\n",
       "      <td>$240</td>\n",
       "      <td>785</td>\n",
       "    </tr>\n",
       "    <tr>\n",
       "      <th>15</th>\n",
       "      <td>Jordan 6 Retro UNC White (GS)</td>\n",
       "      <td>$165</td>\n",
       "      <td>778</td>\n",
       "    </tr>\n",
       "    <tr>\n",
       "      <th>16</th>\n",
       "      <td>adidas Yeezy Boost 700 V2 Static (2018/2022)</td>\n",
       "      <td>$317</td>\n",
       "      <td>743</td>\n",
       "    </tr>\n",
       "    <tr>\n",
       "      <th>17</th>\n",
       "      <td>Jordan 1 Low Bred Toe</td>\n",
       "      <td>$110</td>\n",
       "      <td>738</td>\n",
       "    </tr>\n",
       "    <tr>\n",
       "      <th>18</th>\n",
       "      <td>Nike Vaporwaffle sacai Black Gum</td>\n",
       "      <td>$317</td>\n",
       "      <td>732</td>\n",
       "    </tr>\n",
       "    <tr>\n",
       "      <th>19</th>\n",
       "      <td>Jordan 1 Retro Low Golf UNC</td>\n",
       "      <td>$159</td>\n",
       "      <td>712</td>\n",
       "    </tr>\n",
       "    <tr>\n",
       "      <th>20</th>\n",
       "      <td>Nike Dunk Low Retro White Black (GS)</td>\n",
       "      <td>$168</td>\n",
       "      <td>681</td>\n",
       "    </tr>\n",
       "    <tr>\n",
       "      <th>21</th>\n",
       "      <td>Jordan 4 Retro Red Thunder</td>\n",
       "      <td>$274</td>\n",
       "      <td>655</td>\n",
       "    </tr>\n",
       "    <tr>\n",
       "      <th>22</th>\n",
       "      <td>Nike Dunk Low White Black (2021) (W)</td>\n",
       "      <td>$217</td>\n",
       "      <td>653</td>\n",
       "    </tr>\n",
       "    <tr>\n",
       "      <th>23</th>\n",
       "      <td>Jordan 1 Retro High OG Dark Marina Blue</td>\n",
       "      <td>$192</td>\n",
       "      <td>652</td>\n",
       "    </tr>\n",
       "    <tr>\n",
       "      <th>24</th>\n",
       "      <td>Jordan 1 Retro High OG Rebellionaire</td>\n",
       "      <td>$289</td>\n",
       "      <td>627</td>\n",
       "    </tr>\n",
       "    <tr>\n",
       "      <th>25</th>\n",
       "      <td>Nike Dunk Low Championship Court Purple</td>\n",
       "      <td>$186</td>\n",
       "      <td>584</td>\n",
       "    </tr>\n",
       "    <tr>\n",
       "      <th>26</th>\n",
       "      <td>Nike Air Max 1 SP Concepts Mellow</td>\n",
       "      <td>$234</td>\n",
       "      <td>546</td>\n",
       "    </tr>\n",
       "    <tr>\n",
       "      <th>27</th>\n",
       "      <td>Jordan 12 Retro Low Golf Taxi</td>\n",
       "      <td>$254</td>\n",
       "      <td>482</td>\n",
       "    </tr>\n",
       "    <tr>\n",
       "      <th>28</th>\n",
       "      <td>adidas Yeezy Boost 350 V2 Beluga Reflective</td>\n",
       "      <td>$261</td>\n",
       "      <td>476</td>\n",
       "    </tr>\n",
       "    <tr>\n",
       "      <th>29</th>\n",
       "      <td>Nike SB Dunk High Supreme By Any Means Black</td>\n",
       "      <td>$265</td>\n",
       "      <td>467</td>\n",
       "    </tr>\n",
       "    <tr>\n",
       "      <th>30</th>\n",
       "      <td>Nike Dunk Low Two-Toned Grey (GS)</td>\n",
       "      <td>$119</td>\n",
       "      <td>457</td>\n",
       "    </tr>\n",
       "    <tr>\n",
       "      <th>31</th>\n",
       "      <td>Jordan 1 Retro High OG Brotherhood</td>\n",
       "      <td>$188</td>\n",
       "      <td>457</td>\n",
       "    </tr>\n",
       "    <tr>\n",
       "      <th>32</th>\n",
       "      <td>Jordan 1 Mid Diamond Shorts</td>\n",
       "      <td>$156</td>\n",
       "      <td>446</td>\n",
       "    </tr>\n",
       "    <tr>\n",
       "      <th>33</th>\n",
       "      <td>Puma MB.01 LaMelo Ball Rick and Morty</td>\n",
       "      <td>$274</td>\n",
       "      <td>429</td>\n",
       "    </tr>\n",
       "    <tr>\n",
       "      <th>34</th>\n",
       "      <td>Nike Dunk Low Two Tone Grey</td>\n",
       "      <td>$183</td>\n",
       "      <td>427</td>\n",
       "    </tr>\n",
       "    <tr>\n",
       "      <th>35</th>\n",
       "      <td>New Balance 990v3 JJJJound Olive</td>\n",
       "      <td>$323</td>\n",
       "      <td>424</td>\n",
       "    </tr>\n",
       "    <tr>\n",
       "      <th>36</th>\n",
       "      <td>adidas Yeezy 500 Blush</td>\n",
       "      <td>$240</td>\n",
       "      <td>423</td>\n",
       "    </tr>\n",
       "    <tr>\n",
       "      <th>37</th>\n",
       "      <td>Jordan 1 Mid Linen</td>\n",
       "      <td>$152</td>\n",
       "      <td>421</td>\n",
       "    </tr>\n",
       "    <tr>\n",
       "      <th>38</th>\n",
       "      <td>Nike Dunk Low Grey Fog</td>\n",
       "      <td>$249</td>\n",
       "      <td>418</td>\n",
       "    </tr>\n",
       "    <tr>\n",
       "      <th>39</th>\n",
       "      <td>Jordan 1 Low Black University Blue White (W)</td>\n",
       "      <td>$142</td>\n",
       "      <td>385</td>\n",
       "    </tr>\n",
       "  </tbody>\n",
       "</table>\n",
       "</div>"
      ],
      "text/plain": [
       "                                               0     1     2\n",
       "0         adidas Yeezy Slide Pure (Restock Pair)  $113  2788\n",
       "1                       adidas Yeezy Slide Ochre   $95  2180\n",
       "2                       Jordan 6 Retro UNC White  $275  2071\n",
       "3                        adidas Yeezy Slide Onyx  $145  1775\n",
       "4                 Nike Air Force 1 Low '07 White   $96  1682\n",
       "5        adidas Yeezy Boost 350 V2 Dazzling Blue  $295  1383\n",
       "6         Nike Dunk Low Retro White Black (2021)  $253  1165\n",
       "7                Jordan 12 Retro Playoffs (2022)  $251  995 \n",
       "8                   Jordan 6 Retro Mint Foam (W)  $222  928 \n",
       "9                    Jordan 3 Retro Cardinal Red  $250  900 \n",
       "10               Nike Vaporwaffle sacai Sail Gum  $368  884 \n",
       "11            Nike Air Force 1 Low Supreme White  $142  841 \n",
       "12                     Jordan 5 Retro Racer Blue  $240  798 \n",
       "13            Jordan 1 Retro High OG Patent Bred  $256  789 \n",
       "14              Jordan 11 Retro Cool Grey (2021)  $240  785 \n",
       "15                 Jordan 6 Retro UNC White (GS)  $165  778 \n",
       "16  adidas Yeezy Boost 700 V2 Static (2018/2022)  $317  743 \n",
       "17                         Jordan 1 Low Bred Toe  $110  738 \n",
       "18              Nike Vaporwaffle sacai Black Gum  $317  732 \n",
       "19                   Jordan 1 Retro Low Golf UNC  $159  712 \n",
       "20          Nike Dunk Low Retro White Black (GS)  $168  681 \n",
       "21                    Jordan 4 Retro Red Thunder  $274  655 \n",
       "22          Nike Dunk Low White Black (2021) (W)  $217  653 \n",
       "23       Jordan 1 Retro High OG Dark Marina Blue  $192  652 \n",
       "24          Jordan 1 Retro High OG Rebellionaire  $289  627 \n",
       "25       Nike Dunk Low Championship Court Purple  $186  584 \n",
       "26             Nike Air Max 1 SP Concepts Mellow  $234  546 \n",
       "27                 Jordan 12 Retro Low Golf Taxi  $254  482 \n",
       "28   adidas Yeezy Boost 350 V2 Beluga Reflective  $261  476 \n",
       "29  Nike SB Dunk High Supreme By Any Means Black  $265  467 \n",
       "30             Nike Dunk Low Two-Toned Grey (GS)  $119  457 \n",
       "31            Jordan 1 Retro High OG Brotherhood  $188  457 \n",
       "32                   Jordan 1 Mid Diamond Shorts  $156  446 \n",
       "33         Puma MB.01 LaMelo Ball Rick and Morty  $274  429 \n",
       "34                   Nike Dunk Low Two Tone Grey  $183  427 \n",
       "35              New Balance 990v3 JJJJound Olive  $323  424 \n",
       "36                        adidas Yeezy 500 Blush  $240  423 \n",
       "37                            Jordan 1 Mid Linen  $152  421 \n",
       "38                        Nike Dunk Low Grey Fog  $249  418 \n",
       "39  Jordan 1 Low Black University Blue White (W)  $142  385 "
      ]
     },
     "execution_count": 14,
     "metadata": {},
     "output_type": "execute_result"
    }
   ],
   "source": [
    "sneakers = []\n",
    "for i in range(40):\n",
    "    name = soup.find_all('p', class_=\"chakra-text css-3lpefb\")[i].get_text()\n",
    "    askPrice = soup.find_all('p', class_=\"chakra-text css-9ryi0c\")[i].get_text()\n",
    "    quanity = soup.find_all('p', class_=\"chakra-text css-guwsyb\")[i].get_text()[:4]\n",
    "    sneakers.append((name, askPrice, quanity))\n",
    "    \n",
    "df = pd.DataFrame(np.array(sneakers))\n",
    "df.coloums = ['name', 'askPrice', 'quanity']\n",
    "df"
   ]
  },
  {
   "cell_type": "code",
   "execution_count": null,
   "metadata": {},
   "outputs": [],
   "source": [
    "### Create a dataframe with data on Name of sneakers, Lowest Ask price and Quantity sold"
   ]
  },
  {
   "cell_type": "code",
   "execution_count": null,
   "metadata": {},
   "outputs": [],
   "source": []
  },
  {
   "cell_type": "code",
   "execution_count": null,
   "metadata": {},
   "outputs": [],
   "source": []
  },
  {
   "cell_type": "markdown",
   "metadata": {},
   "source": [
    "#### Resources: \n",
    "http://altitudelabs.com/blog/web-scraping-with-python-and-beautiful-soup/\n",
    "http://web.stanford.edu/~zlotnick/TextAsData/Web_Scraping_with_Beautiful_Soup.html  \n",
    "https://www.crummy.com/software/BeautifulSoup/bs4/doc/  \n",
    "https://www.dataquest.io/blog/web-scraping-beautifulsoup/"
   ]
  }
 ],
 "metadata": {
  "kernelspec": {
   "display_name": "Python 3",
   "language": "python",
   "name": "python3"
  },
  "language_info": {
   "codemirror_mode": {
    "name": "ipython",
    "version": 3
   },
   "file_extension": ".py",
   "mimetype": "text/x-python",
   "name": "python",
   "nbconvert_exporter": "python",
   "pygments_lexer": "ipython3",
   "version": "3.9.7"
  }
 },
 "nbformat": 4,
 "nbformat_minor": 2
}
